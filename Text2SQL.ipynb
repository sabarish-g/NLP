{
  "nbformat": 4,
  "nbformat_minor": 0,
  "metadata": {
    "colab": {
      "provenance": []
    },
    "kernelspec": {
      "name": "python3",
      "display_name": "Python 3"
    },
    "language_info": {
      "name": "python"
    }
  },
  "cells": [
    {
      "cell_type": "code",
      "source": [
        "!pip install openai"
      ],
      "metadata": {
        "colab": {
          "base_uri": "https://localhost:8080/"
        },
        "id": "4IOpBCI984o3",
        "outputId": "b2b478e1-35cb-4d87-eb31-f2e9a3c58d6f"
      },
      "execution_count": 1,
      "outputs": [
        {
          "output_type": "stream",
          "name": "stdout",
          "text": [
            "Requirement already satisfied: openai in /usr/local/lib/python3.10/dist-packages (0.28.1)\n",
            "Requirement already satisfied: requests>=2.20 in /usr/local/lib/python3.10/dist-packages (from openai) (2.31.0)\n",
            "Requirement already satisfied: tqdm in /usr/local/lib/python3.10/dist-packages (from openai) (4.66.1)\n",
            "Requirement already satisfied: aiohttp in /usr/local/lib/python3.10/dist-packages (from openai) (3.8.6)\n",
            "Requirement already satisfied: charset-normalizer<4,>=2 in /usr/local/lib/python3.10/dist-packages (from requests>=2.20->openai) (3.3.0)\n",
            "Requirement already satisfied: idna<4,>=2.5 in /usr/local/lib/python3.10/dist-packages (from requests>=2.20->openai) (3.4)\n",
            "Requirement already satisfied: urllib3<3,>=1.21.1 in /usr/local/lib/python3.10/dist-packages (from requests>=2.20->openai) (2.0.6)\n",
            "Requirement already satisfied: certifi>=2017.4.17 in /usr/local/lib/python3.10/dist-packages (from requests>=2.20->openai) (2023.7.22)\n",
            "Requirement already satisfied: attrs>=17.3.0 in /usr/local/lib/python3.10/dist-packages (from aiohttp->openai) (23.1.0)\n",
            "Requirement already satisfied: multidict<7.0,>=4.5 in /usr/local/lib/python3.10/dist-packages (from aiohttp->openai) (6.0.4)\n",
            "Requirement already satisfied: async-timeout<5.0,>=4.0.0a3 in /usr/local/lib/python3.10/dist-packages (from aiohttp->openai) (4.0.3)\n",
            "Requirement already satisfied: yarl<2.0,>=1.0 in /usr/local/lib/python3.10/dist-packages (from aiohttp->openai) (1.9.2)\n",
            "Requirement already satisfied: frozenlist>=1.1.1 in /usr/local/lib/python3.10/dist-packages (from aiohttp->openai) (1.4.0)\n",
            "Requirement already satisfied: aiosignal>=1.1.2 in /usr/local/lib/python3.10/dist-packages (from aiohttp->openai) (1.3.1)\n"
          ]
        }
      ]
    },
    {
      "cell_type": "markdown",
      "source": [
        "### Part 1 : Create a sqllite db."
      ],
      "metadata": {
        "id": "_EGA1iMXAl6D"
      }
    },
    {
      "cell_type": "code",
      "execution_count": 2,
      "metadata": {
        "id": "BGaSijEe4Ggl"
      },
      "outputs": [],
      "source": [
        "import os\n",
        "import json\n",
        "import sqlite3\n",
        "import pandas as pd\n",
        "import numpy as np\n",
        "import openai\n",
        "from IPython.display import display, HTML"
      ]
    },
    {
      "cell_type": "code",
      "source": [
        "# Replace YOUR_API_KEY with your actual key\n",
        "os.environ[\"OPENAI_API_KEY\"] = \"\"\n",
        "openai.api_key = os.getenv(\"OPENAI_API_KEY\")"
      ],
      "metadata": {
        "id": "scVPOMzZ9Apr"
      },
      "execution_count": 3,
      "outputs": []
    },
    {
      "cell_type": "code",
      "source": [
        "# The rest of the script remains unchanged.\n",
        "# ...\n",
        "# Create tables\n",
        "conn = sqlite3.connect('retail_store.db')\n",
        "c = conn.cursor()\n",
        "\n",
        "tables_creation_commands = [\n",
        "    \"\"\"CREATE TABLE Suppliers (\n",
        "        supplier_id INTEGER PRIMARY KEY NOT NULL,\n",
        "        supplier_name TEXT NOT NULL,\n",
        "        supplier_email TEXT,\n",
        "        supplier_phone TEXT,\n",
        "        supplier_address TEXT,\n",
        "        pincode INTEGER\n",
        "    );\"\"\",\n",
        "    \"\"\"CREATE TABLE Products (\n",
        "        product_id INTEGER PRIMARY KEY NOT NULL,\n",
        "        product_name TEXT NOT NULL,\n",
        "        supplier_id INTEGER,\n",
        "        unit_price REAL,\n",
        "        product_category TEXT,\n",
        "        FOREIGN KEY (supplier_id) REFERENCES Suppliers(supplier_id)\n",
        "    );\"\"\",\n",
        "    \"\"\"CREATE TABLE Customers (\n",
        "        customer_id INTEGER PRIMARY KEY,\n",
        "        customer_name TEXT NOT NULL,\n",
        "        customer_phone TEXT,\n",
        "        customer_email TEXT,\n",
        "        customer_address TEXT,\n",
        "        pincode INTEGER\n",
        "    );\"\"\",\n",
        "    \"\"\"CREATE TABLE Orders (\n",
        "        order_id INTEGER PRIMARY KEY,\n",
        "        order_date DATE NOT NULL,\n",
        "        customer_id INTEGER,\n",
        "        product_id INTEGER,\n",
        "        quantity INTEGER,\n",
        "        total_price REAL,\n",
        "        FOREIGN KEY (customer_id) REFERENCES Customers(customer_id),\n",
        "        FOREIGN KEY (product_id) REFERENCES Products(product_id)\n",
        ");\"\"\"\n",
        "]\n",
        "\n",
        "for command in tables_creation_commands:\n",
        "  c.execute(command)\n",
        "\n",
        "# Data insertion commands\n",
        "sample_data_commands = [\n",
        "    \"\"\"INSERT INTO Suppliers (supplier_id, supplier_name, supplier_email, supplier_phone, supplier_address, pincode)\n",
        "    VALUES\n",
        "    (101, 'FreshFruits Ltd', 'contact@freshfruits.com', '+1234567890', '123 Fruit St, Tropicana', 07029),\n",
        "    (201, 'VeggieDelight', 'info@veggiedelight.com', '+1234567891', '456 Veg Ave, GreenCity', 54313),\n",
        "    (301, 'FarmToTable', 'support@farmtotable.com', '+1234567892', '789 Farm Rd, Countryside', 14623);\"\"\",\n",
        "\n",
        "    \"\"\"INSERT INTO Products (product_id, product_name, supplier_id, unit_price, product_category)\n",
        "    VALUES\n",
        "   (1, 'Apple', 101, 10, 'Fruit'),\n",
        "   (2, 'Banana', 101, 15, 'Fruit'),\n",
        "   (3, 'Carrot', 201, 20, 'Vegetable'),\n",
        "   (4, 'Broccoli', 301, 45, 'Vegetable'),\n",
        "   (5, 'Spinach', 301, 50, 'Vegetable');\"\"\",\n",
        "\n",
        "    \"\"\"INSERT INTO Customers (customer_id, customer_name, customer_phone, customer_email, customer_address, pincode)\n",
        "    VALUES\n",
        "   (10001, 'Alice Johnson', '+1425123456', 'alice@email.com', '101 Oak St, Springfield', 07029),\n",
        "   (10002, 'Bob Smith', '+1425234567', 'bob@email.com', '102 Pine St, Springfield', 54313),\n",
        "   (10003, 'Charlie Brown', '+1425345678', 'charlie@email.com', '103 Maple St, Springfield', 411007),\n",
        "   (10004, 'Diana White', '+1425456789', 'diana@email.com', '104 Elm St, Springfield', 543113),\n",
        "   (10005, 'Eva Green', '+1425567890', 'eva@email.com', '105 Cedar St, Springfield', 54325);\"\"\",\n",
        "\n",
        "    \"\"\"INSERT INTO Orders (order_id, order_date, customer_id, product_id, quantity, total_price)\n",
        "    VALUES\n",
        "    (9000001, '2023-01-01', 10001, 1, 3, 30),\n",
        "    (9000002, '2023-01-01', 10002, 2, 2, 30),\n",
        "    (9000003, '2023-01-01', 10003, 3, 1, 20),\n",
        "    (9000004, '2023-01-02', 10004, 4, 4, 180),\n",
        "    (9000005, '2023-01-03', 10005, 5, 5, 250),\n",
        "    (9000006, '2023-01-03', 10001, 1, 3, 30),\n",
        "    (9000007, '2023-01-03', 10002, 2, 1, 15),\n",
        "    (9000008, '2023-01-04', 10003, 3, 2, 40),\n",
        "    (9000009, '2023-01-04', 10004, 4, 1, 45),\n",
        "    (9000010, '2023-01-04', 10005, 5, 3, 150),\n",
        "    (9000011, '2023-01-11', 10001, 1, 2, 20),\n",
        "    (9000012, '2023-01-11', 10002, 2, 4, 60),\n",
        "    (9000013, '2023-01-11', 10003, 3, 6, 120),\n",
        "    (9000014, '2023-01-11', 10004, 4, 3, 135),\n",
        "    (9000015, '2023-01-11', 10005, 5, 7, 350),\n",
        "    (9000016, '2023-01-11', 10001, 1, 5, 50),\n",
        "    (9000017, '2023-01-14', 10002, 2, 2, 30),\n",
        "    (9000018, '2023-01-14', 10003, 3, 4, 80),\n",
        "    (9000019, '2023-01-14', 10004, 4, 1, 45),\n",
        "    (9000020, '2023-01-24', 10005, 5, 2, 100);\"\"\"\n",
        "]\n",
        "\n",
        "for command in sample_data_commands:\n",
        "    c.executescript(command)\n",
        "\n",
        "\n",
        "# Commit the changes and close the connection\n",
        "conn.commit()\n",
        "\n",
        "# Function to display a table\n",
        "def display_table(query):\n",
        "    c.execute(query)\n",
        "    data = c.fetchall()\n",
        "    html = \"<table>\"\n",
        "    html += \"<tr><th>\" + \"</th><th>\".join([description[0] for description in c.description]) + \"</th></tr>\"\n",
        "    for row in data:\n",
        "        html += \"<tr><td>\" + \"</td><td>\".join(str(item) for item in row) + \"</td></tr>\"\n",
        "    html += \"</table>\"\n",
        "    display(HTML(html))\n",
        "\n",
        "# For example, to display the contents of the Products table:\n",
        "display_table('SELECT * FROM Products')\n",
        "\n",
        "conn.close()"
      ],
      "metadata": {
        "colab": {
          "base_uri": "https://localhost:8080/",
          "height": 147
        },
        "id": "2AOgJiaH4aF_",
        "outputId": "cefa807f-40f8-4bc1-f8a4-ae4398b45d1c"
      },
      "execution_count": 4,
      "outputs": [
        {
          "output_type": "display_data",
          "data": {
            "text/plain": [
              "<IPython.core.display.HTML object>"
            ],
            "text/html": [
              "<table><tr><th>product_id</th><th>product_name</th><th>supplier_id</th><th>unit_price</th><th>product_category</th></tr><tr><td>1</td><td>Apple</td><td>101</td><td>10.0</td><td>Fruit</td></tr><tr><td>2</td><td>Banana</td><td>101</td><td>15.0</td><td>Fruit</td></tr><tr><td>3</td><td>Carrot</td><td>201</td><td>20.0</td><td>Vegetable</td></tr><tr><td>4</td><td>Broccoli</td><td>301</td><td>45.0</td><td>Vegetable</td></tr><tr><td>5</td><td>Spinach</td><td>301</td><td>50.0</td><td>Vegetable</td></tr></table>"
            ]
          },
          "metadata": {}
        }
      ]
    },
    {
      "cell_type": "code",
      "source": [
        "# # Connect to the database\n",
        "# conn = sqlite3.connect('retail_store.db')\n",
        "# c = conn.cursor()\n",
        "\n",
        "# # Execute the query\n",
        "# c.execute('SELECT * FROM Products')\n",
        "\n",
        "# # Fetch all the results\n",
        "# results = c.fetchall()\n",
        "\n",
        "# # Print the results\n",
        "# for row in results:\n",
        "#     print(row)\n",
        "\n",
        "# # Close the connection\n",
        "# conn.close()"
      ],
      "metadata": {
        "id": "CKXb1srQ4Lih"
      },
      "execution_count": 5,
      "outputs": []
    },
    {
      "cell_type": "code",
      "source": [
        "conn = sqlite3.connect('retail_store.db')\n",
        "c = conn.cursor()\n",
        "display_table('SELECT * from PRODUCTS')\n",
        "\n",
        "# Close the connection\n",
        "conn.close()"
      ],
      "metadata": {
        "colab": {
          "base_uri": "https://localhost:8080/",
          "height": 147
        },
        "id": "TRtlk_Xg5SK0",
        "outputId": "3d148fa2-20d6-4520-cb36-0c5869468df8"
      },
      "execution_count": 6,
      "outputs": [
        {
          "output_type": "display_data",
          "data": {
            "text/plain": [
              "<IPython.core.display.HTML object>"
            ],
            "text/html": [
              "<table><tr><th>product_id</th><th>product_name</th><th>supplier_id</th><th>unit_price</th><th>product_category</th></tr><tr><td>1</td><td>Apple</td><td>101</td><td>10.0</td><td>Fruit</td></tr><tr><td>2</td><td>Banana</td><td>101</td><td>15.0</td><td>Fruit</td></tr><tr><td>3</td><td>Carrot</td><td>201</td><td>20.0</td><td>Vegetable</td></tr><tr><td>4</td><td>Broccoli</td><td>301</td><td>45.0</td><td>Vegetable</td></tr><tr><td>5</td><td>Spinach</td><td>301</td><td>50.0</td><td>Vegetable</td></tr></table>"
            ]
          },
          "metadata": {}
        }
      ]
    },
    {
      "cell_type": "code",
      "source": [
        "conn = sqlite3.connect('retail_store.db')\n",
        "c = conn.cursor()\n",
        "display_table('SELECT * from ORDERS')\n",
        "\n",
        "# Close the connection\n",
        "conn.close()"
      ],
      "metadata": {
        "colab": {
          "base_uri": "https://localhost:8080/",
          "height": 468
        },
        "id": "Ko2cpQGoDbkG",
        "outputId": "f0e95f83-96c3-4e5e-fd8d-bc8cfd954308"
      },
      "execution_count": 7,
      "outputs": [
        {
          "output_type": "display_data",
          "data": {
            "text/plain": [
              "<IPython.core.display.HTML object>"
            ],
            "text/html": [
              "<table><tr><th>order_id</th><th>order_date</th><th>customer_id</th><th>product_id</th><th>quantity</th><th>total_price</th></tr><tr><td>9000001</td><td>2023-01-01</td><td>10001</td><td>1</td><td>3</td><td>30.0</td></tr><tr><td>9000002</td><td>2023-01-01</td><td>10002</td><td>2</td><td>2</td><td>30.0</td></tr><tr><td>9000003</td><td>2023-01-01</td><td>10003</td><td>3</td><td>1</td><td>20.0</td></tr><tr><td>9000004</td><td>2023-01-02</td><td>10004</td><td>4</td><td>4</td><td>180.0</td></tr><tr><td>9000005</td><td>2023-01-03</td><td>10005</td><td>5</td><td>5</td><td>250.0</td></tr><tr><td>9000006</td><td>2023-01-03</td><td>10001</td><td>1</td><td>3</td><td>30.0</td></tr><tr><td>9000007</td><td>2023-01-03</td><td>10002</td><td>2</td><td>1</td><td>15.0</td></tr><tr><td>9000008</td><td>2023-01-04</td><td>10003</td><td>3</td><td>2</td><td>40.0</td></tr><tr><td>9000009</td><td>2023-01-04</td><td>10004</td><td>4</td><td>1</td><td>45.0</td></tr><tr><td>9000010</td><td>2023-01-04</td><td>10005</td><td>5</td><td>3</td><td>150.0</td></tr><tr><td>9000011</td><td>2023-01-11</td><td>10001</td><td>1</td><td>2</td><td>20.0</td></tr><tr><td>9000012</td><td>2023-01-11</td><td>10002</td><td>2</td><td>4</td><td>60.0</td></tr><tr><td>9000013</td><td>2023-01-11</td><td>10003</td><td>3</td><td>6</td><td>120.0</td></tr><tr><td>9000014</td><td>2023-01-11</td><td>10004</td><td>4</td><td>3</td><td>135.0</td></tr><tr><td>9000015</td><td>2023-01-11</td><td>10005</td><td>5</td><td>7</td><td>350.0</td></tr><tr><td>9000016</td><td>2023-01-11</td><td>10001</td><td>1</td><td>5</td><td>50.0</td></tr><tr><td>9000017</td><td>2023-01-14</td><td>10002</td><td>2</td><td>2</td><td>30.0</td></tr><tr><td>9000018</td><td>2023-01-14</td><td>10003</td><td>3</td><td>4</td><td>80.0</td></tr><tr><td>9000019</td><td>2023-01-14</td><td>10004</td><td>4</td><td>1</td><td>45.0</td></tr><tr><td>9000020</td><td>2023-01-24</td><td>10005</td><td>5</td><td>2</td><td>100.0</td></tr></table>"
            ]
          },
          "metadata": {}
        }
      ]
    },
    {
      "cell_type": "code",
      "source": [
        "conn = sqlite3.connect('retail_store.db')\n",
        "c = conn.cursor()\n",
        "display_table('SELECT * from SUPPLIERS')\n",
        "\n",
        "# Close the connection\n",
        "conn.close()"
      ],
      "metadata": {
        "colab": {
          "base_uri": "https://localhost:8080/",
          "height": 104
        },
        "id": "RidKSDYKESxV",
        "outputId": "882195a3-2c5b-4982-cfc7-50be1eee79b8"
      },
      "execution_count": 8,
      "outputs": [
        {
          "output_type": "display_data",
          "data": {
            "text/plain": [
              "<IPython.core.display.HTML object>"
            ],
            "text/html": [
              "<table><tr><th>supplier_id</th><th>supplier_name</th><th>supplier_email</th><th>supplier_phone</th><th>supplier_address</th><th>pincode</th></tr><tr><td>101</td><td>FreshFruits Ltd</td><td>contact@freshfruits.com</td><td>+1234567890</td><td>123 Fruit St, Tropicana</td><td>7029</td></tr><tr><td>201</td><td>VeggieDelight</td><td>info@veggiedelight.com</td><td>+1234567891</td><td>456 Veg Ave, GreenCity</td><td>54313</td></tr><tr><td>301</td><td>FarmToTable</td><td>support@farmtotable.com</td><td>+1234567892</td><td>789 Farm Rd, Countryside</td><td>14623</td></tr></table>"
            ]
          },
          "metadata": {}
        }
      ]
    },
    {
      "cell_type": "code",
      "source": [
        "conn = sqlite3.connect('retail_store.db')\n",
        "c = conn.cursor()\n",
        "display_table('SELECT * from CUSTOMERS')\n",
        "\n",
        "# Close the connection\n",
        "conn.close()"
      ],
      "metadata": {
        "colab": {
          "base_uri": "https://localhost:8080/",
          "height": 147
        },
        "id": "U6nQqnOyP67r",
        "outputId": "d26d7dd9-de13-4e1d-def7-dd6a39de1b45"
      },
      "execution_count": 9,
      "outputs": [
        {
          "output_type": "display_data",
          "data": {
            "text/plain": [
              "<IPython.core.display.HTML object>"
            ],
            "text/html": [
              "<table><tr><th>customer_id</th><th>customer_name</th><th>customer_phone</th><th>customer_email</th><th>customer_address</th><th>pincode</th></tr><tr><td>10001</td><td>Alice Johnson</td><td>+1425123456</td><td>alice@email.com</td><td>101 Oak St, Springfield</td><td>7029</td></tr><tr><td>10002</td><td>Bob Smith</td><td>+1425234567</td><td>bob@email.com</td><td>102 Pine St, Springfield</td><td>54313</td></tr><tr><td>10003</td><td>Charlie Brown</td><td>+1425345678</td><td>charlie@email.com</td><td>103 Maple St, Springfield</td><td>411007</td></tr><tr><td>10004</td><td>Diana White</td><td>+1425456789</td><td>diana@email.com</td><td>104 Elm St, Springfield</td><td>543113</td></tr><tr><td>10005</td><td>Eva Green</td><td>+1425567890</td><td>eva@email.com</td><td>105 Cedar St, Springfield</td><td>54325</td></tr></table>"
            ]
          },
          "metadata": {}
        }
      ]
    },
    {
      "cell_type": "code",
      "source": [
        "# JSON data\n",
        "data_dict =    {\n",
        "    \"Products\": {\n",
        "        \"product_id\": {\n",
        "            \"type\": \"INTEGER\",\n",
        "            \"description\": \"Unique identifier for each product.\",\n",
        "            \"constraints\": [\"PRIMARY KEY\"]\n",
        "        },\n",
        "        \"product_name\": {\n",
        "            \"type\": \"TEXT\",\n",
        "            \"description\": \"Name of the product.\",\n",
        "            \"constraints\": [\"NOT NULL\"]\n",
        "        },\n",
        "        \"supplier_id\": {\n",
        "            \"type\": \"INTEGER\",\n",
        "            \"description\": \"Identifier linking to the supplier of the product.\",\n",
        "            \"constraints\": [\"FOREIGN KEY\", \"NOT NULL\"]\n",
        "        },\n",
        "        \"unit_price\": {\n",
        "            \"type\": \"INTEGER\",\n",
        "            \"description\": \"Price per single unit of the product.\",\n",
        "            \"constraints\": [\"NOT NULL\", \"CHECK (unit_price > 0)\"]\n",
        "        },\n",
        "        \"product_category\": {\n",
        "            \"type\": \"TEXT\",\n",
        "            \"description\": \"Category of the product (e.g., Fruit, Vegetable).\",\n",
        "            \"constraints\": [\"NOT NULL\"]\n",
        "        }\n",
        "    },\n",
        "    \"Suppliers\": {\n",
        "        \"supplier_id\": {\n",
        "            \"type\": \"INTEGER\",\n",
        "            \"description\": \"Unique identifier for each supplier.\",\n",
        "            \"constraints\": [\"PRIMARY KEY\"]\n",
        "        },\n",
        "        \"supplier_name\": {\n",
        "            \"type\": \"TEXT\",\n",
        "            \"description\": \"Name of the supplier.\",\n",
        "            \"constraints\": [\"NOT NULL\"]\n",
        "        },\n",
        "        \"supplier_email\": {\n",
        "            \"type\": \"TEXT\",\n",
        "            \"description\": \"Email address of the supplier.\",\n",
        "            \"constraints\": [\"NOT NULL\"]\n",
        "        },\n",
        "        \"supplier_phone\": {\n",
        "            \"type\": \"TEXT\",\n",
        "            \"description\": \"Phone number of the supplier.\",\n",
        "            \"constraints\": [\"NOT NULL\"]\n",
        "        },\n",
        "        \"supplier_address\": {\n",
        "            \"type\": \"TEXT\",\n",
        "            \"description\": \"Physical address of the supplier.\",\n",
        "            \"constraints\": [\"NOT NULL\"]\n",
        "        },\n",
        "        \"pincode\": {\n",
        "            \"type\": \"INTEGER\",\n",
        "            \"description\": \"Postal code of the supplier's address.\",\n",
        "            \"constraints\": [\"NOT NULL\"]\n",
        "        }\n",
        "    },\n",
        "    \"Orders\": {\n",
        "        \"order_id\": {\n",
        "            \"type\": \"INTEGER\",\n",
        "            \"description\": \"Unique identifier for each order.\",\n",
        "            \"constraints\": [\"PRIMARY KEY\"]\n",
        "        },\n",
        "        \"order_date\": {\n",
        "            \"type\": \"TEXT\",\n",
        "            \"description\": \"Date when the order was placed.\",\n",
        "            \"constraints\": [\"NOT NULL\"]\n",
        "        },\n",
        "        \"customer_id\": {\n",
        "            \"type\": \"INTEGER\",\n",
        "            \"description\": \"Identifier linking to the customer who placed the order.\",\n",
        "            \"constraints\": [\"FOREIGN KEY\", \"NOT NULL\"]\n",
        "        },\n",
        "        \"product_id\": {\n",
        "            \"type\": \"INTEGER\",\n",
        "            \"description\": \"Identifier linking to the ordered product.\",\n",
        "            \"constraints\": [\"FOREIGN KEY\", \"NOT NULL\"]\n",
        "        },\n",
        "        \"quantity\": {\n",
        "            \"type\": \"INTEGER\",\n",
        "            \"description\": \"Number of units of the product ordered.\",\n",
        "            \"constraints\": [\"NOT NULL\", \"CHECK (quantity > 0)\"]\n",
        "        },\n",
        "        \"total_price\": {\n",
        "            \"type\": \"INTEGER\",\n",
        "            \"description\": \"Total price for the ordered quantity.\",\n",
        "            \"constraints\": [\"NOT NULL\", \"CHECK (total_price > 0)\"]\n",
        "        }\n",
        "    },\n",
        "    \"Customers\": {\n",
        "        \"customer_id\": {\n",
        "            \"type\": \"INTEGER\",\n",
        "            \"description\": \"Unique identifier for each customer.\",\n",
        "            \"constraints\": [\"PRIMARY KEY\"]\n",
        "        },\n",
        "        \"customer_name\": {\n",
        "            \"type\": \"TEXT\",\n",
        "            \"description\": \"Name of the customer.\",\n",
        "            \"constraints\": [\"NOT NULL\"]\n",
        "        },\n",
        "        \"customer_phone\": {\n",
        "            \"type\": \"TEXT\",\n",
        "            \"description\": \"Phone number of the customer.\",\n",
        "            \"constraints\": [\"NOT NULL\"]\n",
        "        },\n",
        "        \"customer_email\": {\n",
        "            \"type\": \"TEXT\",\n",
        "            \"description\": \"Email address of the customer.\",\n",
        "            \"constraints\": [\"NOT NULL\"]\n",
        "        },\n",
        "        \"customer_address\": {\n",
        "            \"type\": \"TEXT\",\n",
        "            \"description\": \"Physical address of the customer.\",\n",
        "            \"constraints\": [\"NOT NULL\"]\n",
        "        },\n",
        "        \"pincode\": {\n",
        "            \"type\": \"INTEGER\",\n",
        "            \"description\": \"Postal code of the customer's address.\",\n",
        "            \"constraints\": [\"NOT NULL\"]\n",
        "        }\n",
        "    }\n",
        "}\n",
        "\n",
        "\n",
        "\n",
        "# Save JSON data to a file\n",
        "with open('./data_dictionary.json', 'w') as f:\n",
        "    json.dump(data_dict, f, indent=4)\n",
        "\n",
        "# Load JSON data from a file\n",
        "with open('./data_dictionary.json', 'r') as f:\n",
        "    loaded_data_dict = json.load(f)"
      ],
      "metadata": {
        "id": "1ZBmrc6y5whE"
      },
      "execution_count": 10,
      "outputs": []
    },
    {
      "cell_type": "code",
      "source": [
        "loaded_data_dict.keys()"
      ],
      "metadata": {
        "colab": {
          "base_uri": "https://localhost:8080/"
        },
        "id": "PU1DIIdFPJOm",
        "outputId": "4b3b5b88-21d5-46bc-b382-9524cfac9dba"
      },
      "execution_count": 11,
      "outputs": [
        {
          "output_type": "execute_result",
          "data": {
            "text/plain": [
              "dict_keys(['Products', 'Suppliers', 'Orders', 'Customers'])"
            ]
          },
          "metadata": {},
          "execution_count": 11
        }
      ]
    },
    {
      "cell_type": "code",
      "source": [],
      "metadata": {
        "id": "dftj7iFGQWqI"
      },
      "execution_count": 11,
      "outputs": []
    },
    {
      "cell_type": "code",
      "source": [
        "def generate_sql(query, data_dictionary):\n",
        "    \"\"\"\n",
        "    Generates SQL from a natural language query using GPT and a data dictionary.\n",
        "\n",
        "    Args:\n",
        "    - query (str): The natural language query.\n",
        "    - data_dictionary (dict): The data dictionary for the database schema.\n",
        "\n",
        "    Returns:\n",
        "    str: The generated SQL query.\n",
        "    \"\"\"\n",
        "    # Convert data dictionary to string format\n",
        "    data_dict_str = json.dumps(data_dictionary)\n",
        "\n",
        "    # Prepare the prompt for GPT\n",
        "    # prompt = f\"Data Dictionary: {data_dict_str}\\nNatural Language Query: {query}\\nConvert to SQL:\"\n",
        "    prompt = f\"\"\"You are an expert in SQL database and querying it in the most efficient way.\n",
        "    Use the Data Dictionary: {data_dict_str}\\n and convert the following Natural Language Query: {query}\\n to an SQL statement.\n",
        "    Do not complicate the query and use minimum number of tables to come up with the final query.:\"\"\"\n",
        "\n",
        "    # Call the OpenAI API\n",
        "    try:\n",
        "        response = openai.Completion.create(\n",
        "          engine=\"text-davinci-003\",  # or the relevant GPT-4 engine when available\n",
        "          prompt=prompt,\n",
        "          max_tokens=100  # adjust as needed\n",
        "        )\n",
        "        # Extract and return the generated SQL\n",
        "        sql = response.choices[0].text.strip()\n",
        "        return sql\n",
        "\n",
        "    except Exception as e:\n",
        "        print(f\"Error: {str(e)}\")\n",
        "        return None\n"
      ],
      "metadata": {
        "id": "rshRvnTn9373"
      },
      "execution_count": 12,
      "outputs": []
    },
    {
      "cell_type": "code",
      "source": [
        "input_query = 'Give me the name, phone number and address of all the suppliers who provide vegetable.'\n",
        "output_query = generate_sql(input_query, loaded_data_dict)\n",
        "\n",
        "print(input_query)\n",
        "print(output_query)\n",
        "# Connect to the database\n",
        "conn = sqlite3.connect('retail_store.db')\n",
        "c = conn.cursor()\n",
        "display_table(output_query)\n",
        "# Close the connection\n",
        "conn.close()\n"
      ],
      "metadata": {
        "colab": {
          "base_uri": "https://localhost:8080/",
          "height": 195
        },
        "id": "U6bxRtymRVGS",
        "outputId": "68c9088a-ab88-4739-e325-c19eee3d439c"
      },
      "execution_count": 13,
      "outputs": [
        {
          "output_type": "stream",
          "name": "stdout",
          "text": [
            "Give me the name, phone number and address of all the suppliers who provide vegetable.\n",
            "SELECT supplier_name, supplier_phone, supplier_address FROM Suppliers AS S \n",
            "JOIN Products AS P \n",
            "ON S.supplier_id = P.supplier_id \n",
            "WHERE P.product_category = \"Vegetable\";\n"
          ]
        },
        {
          "output_type": "display_data",
          "data": {
            "text/plain": [
              "<IPython.core.display.HTML object>"
            ],
            "text/html": [
              "<table><tr><th>supplier_name</th><th>supplier_phone</th><th>supplier_address</th></tr><tr><td>VeggieDelight</td><td>+1234567891</td><td>456 Veg Ave, GreenCity</td></tr><tr><td>FarmToTable</td><td>+1234567892</td><td>789 Farm Rd, Countryside</td></tr><tr><td>FarmToTable</td><td>+1234567892</td><td>789 Farm Rd, Countryside</td></tr></table>"
            ]
          },
          "metadata": {}
        }
      ]
    },
    {
      "cell_type": "code",
      "source": [
        "input_query = 'Give me the name, phone number and address of all the suppliers who provide vegetables.'\n",
        "output_query = generate_sql(input_query, loaded_data_dict)\n",
        "\n",
        "print(input_query)\n",
        "print(output_query)\n",
        "# Connect to the database\n",
        "conn = sqlite3.connect('retail_store.db')\n",
        "c = conn.cursor()\n",
        "display_table(output_query)\n",
        "# Close the connection\n",
        "conn.close()\n"
      ],
      "metadata": {
        "colab": {
          "base_uri": "https://localhost:8080/",
          "height": 195
        },
        "id": "rrqq3l37_y1b",
        "outputId": "0e2679a6-6021-4b9b-c21b-92021c17a6d8"
      },
      "execution_count": 14,
      "outputs": [
        {
          "output_type": "stream",
          "name": "stdout",
          "text": [
            "Give me the name, phone number and address of all the suppliers who provide vegetables.\n",
            "SELECT supplier_name, supplier_phone, supplier_address \n",
            "FROM Suppliers \n",
            "INNER JOIN Products ON Suppliers.supplier_id = Products.supplier_id \n",
            "WHERE Products.product_category = 'Vegetable';\n"
          ]
        },
        {
          "output_type": "display_data",
          "data": {
            "text/plain": [
              "<IPython.core.display.HTML object>"
            ],
            "text/html": [
              "<table><tr><th>supplier_name</th><th>supplier_phone</th><th>supplier_address</th></tr><tr><td>VeggieDelight</td><td>+1234567891</td><td>456 Veg Ave, GreenCity</td></tr><tr><td>FarmToTable</td><td>+1234567892</td><td>789 Farm Rd, Countryside</td></tr><tr><td>FarmToTable</td><td>+1234567892</td><td>789 Farm Rd, Countryside</td></tr></table>"
            ]
          },
          "metadata": {}
        }
      ]
    },
    {
      "cell_type": "code",
      "source": [
        "input_query = 'What is the total money spent by all customers on each of the days?'\n",
        "output_query = generate_sql(input_query, loaded_data_dict)\n",
        "\n",
        "print(input_query)\n",
        "print(output_query)\n",
        "# Connect to the database\n",
        "conn = sqlite3.connect('retail_store.db')\n",
        "c = conn.cursor()\n",
        "display_table(output_query)\n",
        "# Close the connection\n",
        "conn.close()\n"
      ],
      "metadata": {
        "colab": {
          "base_uri": "https://localhost:8080/",
          "height": 262
        },
        "id": "UiAMY6ApAUAx",
        "outputId": "5bdf2f03-9d68-474c-a418-1c7bea03dcc1"
      },
      "execution_count": 15,
      "outputs": [
        {
          "output_type": "stream",
          "name": "stdout",
          "text": [
            "What is the total money spent by all customers on each of the days?\n",
            "SELECT order_date, SUM(total_price) as Total_Money_Spent \n",
            "FROM Orders \n",
            "GROUP BY order_date;\n"
          ]
        },
        {
          "output_type": "display_data",
          "data": {
            "text/plain": [
              "<IPython.core.display.HTML object>"
            ],
            "text/html": [
              "<table><tr><th>order_date</th><th>Total_Money_Spent</th></tr><tr><td>2023-01-01</td><td>80.0</td></tr><tr><td>2023-01-02</td><td>180.0</td></tr><tr><td>2023-01-03</td><td>295.0</td></tr><tr><td>2023-01-04</td><td>235.0</td></tr><tr><td>2023-01-11</td><td>735.0</td></tr><tr><td>2023-01-14</td><td>155.0</td></tr><tr><td>2023-01-24</td><td>100.0</td></tr></table>"
            ]
          },
          "metadata": {}
        }
      ]
    },
    {
      "cell_type": "code",
      "source": [
        "input_query = 'Which customer and supplier live in the same neighbourhood?'\n",
        "output_query = generate_sql(input_query, loaded_data_dict)\n",
        "\n",
        "print(input_query)\n",
        "print(output_query)\n",
        "# Connect to the database\n",
        "conn = sqlite3.connect('retail_store.db')\n",
        "c = conn.cursor()\n",
        "display_table(output_query)\n",
        "# Close the connection\n",
        "conn.close()\n"
      ],
      "metadata": {
        "colab": {
          "base_uri": "https://localhost:8080/",
          "height": 173
        },
        "id": "ROZ0MdMiAVq2",
        "outputId": "935e54bf-2446-4418-dd85-7041fac73893"
      },
      "execution_count": 16,
      "outputs": [
        {
          "output_type": "stream",
          "name": "stdout",
          "text": [
            "Which customer and supplier live in the same neighbourhood?\n",
            "SELECT Customers.customer_name, Suppliers.supplier_name\n",
            "FROM Customers JOIN Suppliers\n",
            "ON Customers.pincode = Suppliers.pincode\n",
            "WHERE Customers.customer_name IS NOT NULL and Suppliers.supplier_name IS NOT NULL;\n"
          ]
        },
        {
          "output_type": "display_data",
          "data": {
            "text/plain": [
              "<IPython.core.display.HTML object>"
            ],
            "text/html": [
              "<table><tr><th>customer_name</th><th>supplier_name</th></tr><tr><td>Alice Johnson</td><td>FreshFruits Ltd</td></tr><tr><td>Bob Smith</td><td>VeggieDelight</td></tr></table>"
            ]
          },
          "metadata": {}
        }
      ]
    },
    {
      "cell_type": "code",
      "source": [
        "input_query = 'Which customer and supplier live in the same neighbourhood?'\n",
        "output_query = generate_sql(input_query, loaded_data_dict)\n",
        "\n",
        "print(input_query)\n",
        "print(output_query)\n",
        "# Connect to the database\n",
        "conn = sqlite3.connect('retail_store.db')\n",
        "c = conn.cursor()\n",
        "display_table(output_query)\n",
        "# Close the connection\n",
        "conn.close()\n"
      ],
      "metadata": {
        "id": "PR-VEf0jR-E2"
      },
      "execution_count": null,
      "outputs": []
    },
    {
      "cell_type": "code",
      "source": [
        "input_query = 'Which is the net spend on vegetable and fruit?'\n",
        "output_query = generate_sql(input_query, loaded_data_dict)\n",
        "\n",
        "print(input_query)\n",
        "print(output_query)\n",
        "# Connect to the database\n",
        "conn = sqlite3.connect('retail_store.db')\n",
        "c = conn.cursor()\n",
        "display_table(output_query)\n",
        "# Close the connection\n",
        "conn.close()\n"
      ],
      "metadata": {
        "colab": {
          "base_uri": "https://localhost:8080/",
          "height": 152
        },
        "id": "eYRH-TUySabv",
        "outputId": "4d3be9b2-2f7b-47f5-d458-130651f2decf"
      },
      "execution_count": 18,
      "outputs": [
        {
          "output_type": "stream",
          "name": "stdout",
          "text": [
            "Which is the net spend on vegetable and fruit?\n",
            "SELECT SUM(total_price) AS 'Net Spend' \n",
            "FROM Products p JOIN Orders o \n",
            "ON p.product_id = o.product_id \n",
            "WHERE p.product_category IN ('Vegetable', 'Fruit');\n"
          ]
        },
        {
          "output_type": "display_data",
          "data": {
            "text/plain": [
              "<IPython.core.display.HTML object>"
            ],
            "text/html": [
              "<table><tr><th>Net Spend</th></tr><tr><td>1780.0</td></tr></table>"
            ]
          },
          "metadata": {}
        }
      ]
    },
    {
      "cell_type": "code",
      "source": [
        "input_query = 'Which is the net spend on vegetables and fruits?'\n",
        "output_query = generate_sql(input_query, loaded_data_dict)\n",
        "\n",
        "print(input_query)\n",
        "print(output_query)\n",
        "# Connect to the database\n",
        "conn = sqlite3.connect('retail_store.db')\n",
        "c = conn.cursor()\n",
        "display_table(output_query)\n",
        "# Close the connection\n",
        "conn.close()\n"
      ],
      "metadata": {
        "colab": {
          "base_uri": "https://localhost:8080/",
          "height": 152
        },
        "id": "mHJhgRKASOas",
        "outputId": "dd4aa5cc-2aa7-44c5-9d9f-8affb9738b97"
      },
      "execution_count": 17,
      "outputs": [
        {
          "output_type": "stream",
          "name": "stdout",
          "text": [
            "Which is the net spend on vegetables and fruits?\n",
            "SELECT SUM(total_price)\n",
            "FROM Products p\n",
            "JOIN Orders o ON p.product_id = o.product_id\n",
            "WHERE p.product_category IN ('fruits','vegetables') ;\n"
          ]
        },
        {
          "output_type": "display_data",
          "data": {
            "text/plain": [
              "<IPython.core.display.HTML object>"
            ],
            "text/html": [
              "<table><tr><th>SUM(total_price)</th></tr><tr><td>None</td></tr></table>"
            ]
          },
          "metadata": {}
        }
      ]
    },
    {
      "cell_type": "code",
      "source": [
        "input_query = 'Which is the net spend on vegetable and fruit individually?'\n",
        "output_query = generate_sql(input_query, loaded_data_dict)\n",
        "\n",
        "print(input_query)\n",
        "print(output_query)\n",
        "# Connect to the database\n",
        "conn = sqlite3.connect('retail_store.db')\n",
        "c = conn.cursor()\n",
        "display_table(output_query)\n",
        "# Close the connection\n",
        "conn.close()\n"
      ],
      "metadata": {
        "colab": {
          "base_uri": "https://localhost:8080/",
          "height": 191
        },
        "id": "M2YaXIBESYYH",
        "outputId": "8ac2f70f-0bc4-4f14-f528-b2d4ef122ce5"
      },
      "execution_count": 19,
      "outputs": [
        {
          "output_type": "stream",
          "name": "stdout",
          "text": [
            "Which is the net spend on vegetable and fruit individually?\n",
            "SELECT product_category, SUM(total_price) AS Net_Spend\n",
            "FROM Orders JOIN Products \n",
            "ON Products.product_id = orders.product_id \n",
            "WHERE product_category IN ('Vegetable', 'Fruit')\n",
            "GROUP BY product_category;\n"
          ]
        },
        {
          "output_type": "display_data",
          "data": {
            "text/plain": [
              "<IPython.core.display.HTML object>"
            ],
            "text/html": [
              "<table><tr><th>product_category</th><th>Net_Spend</th></tr><tr><td>Fruit</td><td>265.0</td></tr><tr><td>Vegetable</td><td>1515.0</td></tr></table>"
            ]
          },
          "metadata": {}
        }
      ]
    },
    {
      "cell_type": "code",
      "source": [
        "input_query = 'What is the name of the customer who bought the maximum number of fruit? If there are 1 person with the same quantity, give me all the names'\n",
        "output_query = generate_sql(input_query, loaded_data_dict)\n",
        "\n",
        "print(input_query)\n",
        "print(output_query)\n",
        "# Connect to the database\n",
        "conn = sqlite3.connect('retail_store.db')\n",
        "c = conn.cursor()\n",
        "display_table(output_query)\n",
        "# Close the connection\n",
        "conn.close()\n"
      ],
      "metadata": {
        "colab": {
          "base_uri": "https://localhost:8080/",
          "height": 263
        },
        "id": "lMjNPvY7SgCS",
        "outputId": "992c07af-7a7e-410a-c928-edede42598c0"
      },
      "execution_count": 26,
      "outputs": [
        {
          "output_type": "stream",
          "name": "stdout",
          "text": [
            "What is the name of the customer who bought the maximum number of fruit? If there are two people with the same quantity, give me both the names\n",
            "SELECT customer_name\n",
            "FROM Customers c JOIN Orders o \n",
            "JOIN Products p \n",
            "ON c.customer_id = o.customer_id \n",
            "AND o.product_id = p.product_id\n",
            "WHERE p.product_category = 'Fruit'\n",
            "GROUP BY customer_name\n",
            "ORDER BY SUM(quantity) DESC\n",
            "LIMIT 2;\n"
          ]
        },
        {
          "output_type": "display_data",
          "data": {
            "text/plain": [
              "<IPython.core.display.HTML object>"
            ],
            "text/html": [
              "<table><tr><th>customer_name</th></tr><tr><td>Alice Johnson</td></tr><tr><td>Bob Smith</td></tr></table>"
            ]
          },
          "metadata": {}
        }
      ]
    },
    {
      "cell_type": "code",
      "source": [
        "conn = sqlite3.connect('retail_store.db')\n",
        "c = conn.cursor()\n",
        "display_table('SELECT customer_id, count(customer_id) as cnt from orders where product_id in (1,2) group by customer_id  order by cnt desc')\n",
        "\n",
        "# Close the connection\n",
        "conn.close()"
      ],
      "metadata": {
        "colab": {
          "base_uri": "https://localhost:8080/",
          "height": 83
        },
        "id": "58w03w5sSpw9",
        "outputId": "a05f50fd-c5e0-4fd7-c285-1318bcaeb98e"
      },
      "execution_count": 25,
      "outputs": [
        {
          "output_type": "display_data",
          "data": {
            "text/plain": [
              "<IPython.core.display.HTML object>"
            ],
            "text/html": [
              "<table><tr><th>customer_id</th><th>cnt</th></tr><tr><td>10002</td><td>4</td></tr><tr><td>10001</td><td>4</td></tr></table>"
            ]
          },
          "metadata": {}
        }
      ]
    },
    {
      "cell_type": "code",
      "source": [
        "input_query = 'Who spent the most in the first week of January 2023? Remember that the date format is in YYYY-MM-DD'\n",
        "output_query = generate_sql(input_query, loaded_data_dict)\n",
        "\n",
        "print(input_query)\n",
        "print(output_query)\n",
        "# Connect to the database\n",
        "conn = sqlite3.connect('retail_store.db')\n",
        "c = conn.cursor()\n",
        "display_table(output_query)\n",
        "# Close the connection\n",
        "conn.close()\n"
      ],
      "metadata": {
        "colab": {
          "base_uri": "https://localhost:8080/",
          "height": 273
        },
        "id": "j_x2Tn_yTROo",
        "outputId": "38715cef-d9b1-47ac-98e6-d89b50eb83a6"
      },
      "execution_count": 29,
      "outputs": [
        {
          "output_type": "stream",
          "name": "stdout",
          "text": [
            "Who spent the most in the first week of January 2023? Remember that the date format is in YYYY-MM-DD\n",
            "SELECT  customer_name, SUM(total_price) AS \"Total spent in first week of January 2023\"\n",
            "FROM orders \n",
            "INNER JOIN customers ON orders.customer_id = customers.customer_id \n",
            "WHERE order_date BETWEEN '2023-01-01' AND '2023-01-07' \n",
            "GROUP BY customer_name \n",
            "ORDER BY \"Total spent in first week of January 2023\"\n"
          ]
        },
        {
          "output_type": "display_data",
          "data": {
            "text/plain": [
              "<IPython.core.display.HTML object>"
            ],
            "text/html": [
              "<table><tr><th>customer_name</th><th>Total spent in first week of January 2023</th></tr><tr><td>Bob Smith</td><td>45.0</td></tr><tr><td>Alice Johnson</td><td>60.0</td></tr><tr><td>Charlie Brown</td><td>60.0</td></tr><tr><td>Diana White</td><td>225.0</td></tr><tr><td>Eva Green</td><td>400.0</td></tr></table>"
            ]
          },
          "metadata": {}
        }
      ]
    },
    {
      "cell_type": "code",
      "source": [
        "conn = sqlite3.connect('retail_store.db')\n",
        "c = conn.cursor()\n",
        "display_table('SELECT customer_id, sum(total_price) as cnt from orders where order_date BETWEEN \"2023-01-01\" AND \"2023-01-07\"  group by customer_id  order by cnt desc')\n",
        "\n",
        "# Close the connection\n",
        "conn.close()"
      ],
      "metadata": {
        "colab": {
          "base_uri": "https://localhost:8080/",
          "height": 147
        },
        "id": "XpJFGHefT2QD",
        "outputId": "1f49f65f-519b-49bf-9ca3-7419187923f5"
      },
      "execution_count": 31,
      "outputs": [
        {
          "output_type": "display_data",
          "data": {
            "text/plain": [
              "<IPython.core.display.HTML object>"
            ],
            "text/html": [
              "<table><tr><th>customer_id</th><th>cnt</th></tr><tr><td>10005</td><td>400.0</td></tr><tr><td>10004</td><td>225.0</td></tr><tr><td>10003</td><td>60.0</td></tr><tr><td>10001</td><td>60.0</td></tr><tr><td>10002</td><td>45.0</td></tr></table>"
            ]
          },
          "metadata": {}
        }
      ]
    },
    {
      "cell_type": "code",
      "source": [
        "input_query = 'Which products are generating the highest revenues?'\n",
        "output_query = generate_sql(input_query, loaded_data_dict)\n",
        "\n",
        "print(input_query)\n",
        "print(output_query)\n",
        "# Connect to the database\n",
        "conn = sqlite3.connect('retail_store.db')\n",
        "c = conn.cursor()\n",
        "display_table(output_query)\n",
        "# Close the connection\n",
        "conn.close()\n"
      ],
      "metadata": {
        "colab": {
          "base_uri": "https://localhost:8080/",
          "height": 255
        },
        "id": "B5b9rsbfUQsH",
        "outputId": "d8c3db75-5372-4be7-c49b-49dd8eb2bc0d"
      },
      "execution_count": 33,
      "outputs": [
        {
          "output_type": "stream",
          "name": "stdout",
          "text": [
            "Which products are generating the highest revenues?\n",
            "SELECT product_name, SUM(total_price) AS Revenue\n",
            "FROM Products \n",
            "JOIN Orders ON Products.product_id = Orders.product_id\n",
            "GROUP BY product_name\n",
            "ORDER BY Revenue DESC;\n"
          ]
        },
        {
          "output_type": "display_data",
          "data": {
            "text/plain": [
              "<IPython.core.display.HTML object>"
            ],
            "text/html": [
              "<table><tr><th>product_name</th><th>Revenue</th></tr><tr><td>Spinach</td><td>850.0</td></tr><tr><td>Broccoli</td><td>405.0</td></tr><tr><td>Carrot</td><td>260.0</td></tr><tr><td>Banana</td><td>135.0</td></tr><tr><td>Apple</td><td>130.0</td></tr></table>"
            ]
          },
          "metadata": {}
        }
      ]
    },
    {
      "cell_type": "code",
      "source": [],
      "metadata": {
        "id": "qLpa7a1KUqwm"
      },
      "execution_count": 34,
      "outputs": []
    },
    {
      "cell_type": "code",
      "source": [],
      "metadata": {
        "id": "7tIvr3k5U_Q4"
      },
      "execution_count": null,
      "outputs": []
    }
  ]
}