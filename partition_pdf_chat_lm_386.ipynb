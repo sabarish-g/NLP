{
  "nbformat": 4,
  "nbformat_minor": 0,
  "metadata": {
    "colab": {
      "provenance": []
    },
    "kernelspec": {
      "name": "python3",
      "display_name": "Python 3"
    },
    "language_info": {
      "name": "python"
    },
    "widgets": {
      "application/vnd.jupyter.widget-state+json": {
        "338b12afa7f948debe9a1af432bdd002": {
          "model_module": "@jupyter-widgets/controls",
          "model_name": "HBoxModel",
          "model_module_version": "1.5.0",
          "state": {
            "_dom_classes": [],
            "_model_module": "@jupyter-widgets/controls",
            "_model_module_version": "1.5.0",
            "_model_name": "HBoxModel",
            "_view_count": null,
            "_view_module": "@jupyter-widgets/controls",
            "_view_module_version": "1.5.0",
            "_view_name": "HBoxView",
            "box_style": "",
            "children": [
              "IPY_MODEL_2a9d0063de28403c80af2c99bc28b9b3",
              "IPY_MODEL_1b885fcb58024949b5a2f41ffda89996",
              "IPY_MODEL_b04ad1d7dbbe4709884e7527b80d0b2f"
            ],
            "layout": "IPY_MODEL_8b45a5c3f1fb44c49176be8b1939c4f8"
          }
        },
        "2a9d0063de28403c80af2c99bc28b9b3": {
          "model_module": "@jupyter-widgets/controls",
          "model_name": "HTMLModel",
          "model_module_version": "1.5.0",
          "state": {
            "_dom_classes": [],
            "_model_module": "@jupyter-widgets/controls",
            "_model_module_version": "1.5.0",
            "_model_name": "HTMLModel",
            "_view_count": null,
            "_view_module": "@jupyter-widgets/controls",
            "_view_module_version": "1.5.0",
            "_view_name": "HTMLView",
            "description": "",
            "description_tooltip": null,
            "layout": "IPY_MODEL_83ac3dfe3ddd43e0b2e3e8c3c1642ed3",
            "placeholder": "​",
            "style": "IPY_MODEL_dceaf9ec2a154ac18f387fa7378d4450",
            "value": "yolox_l0.05.onnx: 100%"
          }
        },
        "1b885fcb58024949b5a2f41ffda89996": {
          "model_module": "@jupyter-widgets/controls",
          "model_name": "FloatProgressModel",
          "model_module_version": "1.5.0",
          "state": {
            "_dom_classes": [],
            "_model_module": "@jupyter-widgets/controls",
            "_model_module_version": "1.5.0",
            "_model_name": "FloatProgressModel",
            "_view_count": null,
            "_view_module": "@jupyter-widgets/controls",
            "_view_module_version": "1.5.0",
            "_view_name": "ProgressView",
            "bar_style": "success",
            "description": "",
            "description_tooltip": null,
            "layout": "IPY_MODEL_77b712bb0bde435784145dc9362ee1c9",
            "max": 216625723,
            "min": 0,
            "orientation": "horizontal",
            "style": "IPY_MODEL_f2b6981e25b440b096ae6fb9d7ef3dd8",
            "value": 216625723
          }
        },
        "b04ad1d7dbbe4709884e7527b80d0b2f": {
          "model_module": "@jupyter-widgets/controls",
          "model_name": "HTMLModel",
          "model_module_version": "1.5.0",
          "state": {
            "_dom_classes": [],
            "_model_module": "@jupyter-widgets/controls",
            "_model_module_version": "1.5.0",
            "_model_name": "HTMLModel",
            "_view_count": null,
            "_view_module": "@jupyter-widgets/controls",
            "_view_module_version": "1.5.0",
            "_view_name": "HTMLView",
            "description": "",
            "description_tooltip": null,
            "layout": "IPY_MODEL_98c6b594f3fb4cd99202bb03be80e4c1",
            "placeholder": "​",
            "style": "IPY_MODEL_baa8213bbc0a4549a9679973f5c70b85",
            "value": " 217M/217M [00:01&lt;00:00, 175MB/s]"
          }
        },
        "8b45a5c3f1fb44c49176be8b1939c4f8": {
          "model_module": "@jupyter-widgets/base",
          "model_name": "LayoutModel",
          "model_module_version": "1.2.0",
          "state": {
            "_model_module": "@jupyter-widgets/base",
            "_model_module_version": "1.2.0",
            "_model_name": "LayoutModel",
            "_view_count": null,
            "_view_module": "@jupyter-widgets/base",
            "_view_module_version": "1.2.0",
            "_view_name": "LayoutView",
            "align_content": null,
            "align_items": null,
            "align_self": null,
            "border": null,
            "bottom": null,
            "display": null,
            "flex": null,
            "flex_flow": null,
            "grid_area": null,
            "grid_auto_columns": null,
            "grid_auto_flow": null,
            "grid_auto_rows": null,
            "grid_column": null,
            "grid_gap": null,
            "grid_row": null,
            "grid_template_areas": null,
            "grid_template_columns": null,
            "grid_template_rows": null,
            "height": null,
            "justify_content": null,
            "justify_items": null,
            "left": null,
            "margin": null,
            "max_height": null,
            "max_width": null,
            "min_height": null,
            "min_width": null,
            "object_fit": null,
            "object_position": null,
            "order": null,
            "overflow": null,
            "overflow_x": null,
            "overflow_y": null,
            "padding": null,
            "right": null,
            "top": null,
            "visibility": null,
            "width": null
          }
        },
        "83ac3dfe3ddd43e0b2e3e8c3c1642ed3": {
          "model_module": "@jupyter-widgets/base",
          "model_name": "LayoutModel",
          "model_module_version": "1.2.0",
          "state": {
            "_model_module": "@jupyter-widgets/base",
            "_model_module_version": "1.2.0",
            "_model_name": "LayoutModel",
            "_view_count": null,
            "_view_module": "@jupyter-widgets/base",
            "_view_module_version": "1.2.0",
            "_view_name": "LayoutView",
            "align_content": null,
            "align_items": null,
            "align_self": null,
            "border": null,
            "bottom": null,
            "display": null,
            "flex": null,
            "flex_flow": null,
            "grid_area": null,
            "grid_auto_columns": null,
            "grid_auto_flow": null,
            "grid_auto_rows": null,
            "grid_column": null,
            "grid_gap": null,
            "grid_row": null,
            "grid_template_areas": null,
            "grid_template_columns": null,
            "grid_template_rows": null,
            "height": null,
            "justify_content": null,
            "justify_items": null,
            "left": null,
            "margin": null,
            "max_height": null,
            "max_width": null,
            "min_height": null,
            "min_width": null,
            "object_fit": null,
            "object_position": null,
            "order": null,
            "overflow": null,
            "overflow_x": null,
            "overflow_y": null,
            "padding": null,
            "right": null,
            "top": null,
            "visibility": null,
            "width": null
          }
        },
        "dceaf9ec2a154ac18f387fa7378d4450": {
          "model_module": "@jupyter-widgets/controls",
          "model_name": "DescriptionStyleModel",
          "model_module_version": "1.5.0",
          "state": {
            "_model_module": "@jupyter-widgets/controls",
            "_model_module_version": "1.5.0",
            "_model_name": "DescriptionStyleModel",
            "_view_count": null,
            "_view_module": "@jupyter-widgets/base",
            "_view_module_version": "1.2.0",
            "_view_name": "StyleView",
            "description_width": ""
          }
        },
        "77b712bb0bde435784145dc9362ee1c9": {
          "model_module": "@jupyter-widgets/base",
          "model_name": "LayoutModel",
          "model_module_version": "1.2.0",
          "state": {
            "_model_module": "@jupyter-widgets/base",
            "_model_module_version": "1.2.0",
            "_model_name": "LayoutModel",
            "_view_count": null,
            "_view_module": "@jupyter-widgets/base",
            "_view_module_version": "1.2.0",
            "_view_name": "LayoutView",
            "align_content": null,
            "align_items": null,
            "align_self": null,
            "border": null,
            "bottom": null,
            "display": null,
            "flex": null,
            "flex_flow": null,
            "grid_area": null,
            "grid_auto_columns": null,
            "grid_auto_flow": null,
            "grid_auto_rows": null,
            "grid_column": null,
            "grid_gap": null,
            "grid_row": null,
            "grid_template_areas": null,
            "grid_template_columns": null,
            "grid_template_rows": null,
            "height": null,
            "justify_content": null,
            "justify_items": null,
            "left": null,
            "margin": null,
            "max_height": null,
            "max_width": null,
            "min_height": null,
            "min_width": null,
            "object_fit": null,
            "object_position": null,
            "order": null,
            "overflow": null,
            "overflow_x": null,
            "overflow_y": null,
            "padding": null,
            "right": null,
            "top": null,
            "visibility": null,
            "width": null
          }
        },
        "f2b6981e25b440b096ae6fb9d7ef3dd8": {
          "model_module": "@jupyter-widgets/controls",
          "model_name": "ProgressStyleModel",
          "model_module_version": "1.5.0",
          "state": {
            "_model_module": "@jupyter-widgets/controls",
            "_model_module_version": "1.5.0",
            "_model_name": "ProgressStyleModel",
            "_view_count": null,
            "_view_module": "@jupyter-widgets/base",
            "_view_module_version": "1.2.0",
            "_view_name": "StyleView",
            "bar_color": null,
            "description_width": ""
          }
        },
        "98c6b594f3fb4cd99202bb03be80e4c1": {
          "model_module": "@jupyter-widgets/base",
          "model_name": "LayoutModel",
          "model_module_version": "1.2.0",
          "state": {
            "_model_module": "@jupyter-widgets/base",
            "_model_module_version": "1.2.0",
            "_model_name": "LayoutModel",
            "_view_count": null,
            "_view_module": "@jupyter-widgets/base",
            "_view_module_version": "1.2.0",
            "_view_name": "LayoutView",
            "align_content": null,
            "align_items": null,
            "align_self": null,
            "border": null,
            "bottom": null,
            "display": null,
            "flex": null,
            "flex_flow": null,
            "grid_area": null,
            "grid_auto_columns": null,
            "grid_auto_flow": null,
            "grid_auto_rows": null,
            "grid_column": null,
            "grid_gap": null,
            "grid_row": null,
            "grid_template_areas": null,
            "grid_template_columns": null,
            "grid_template_rows": null,
            "height": null,
            "justify_content": null,
            "justify_items": null,
            "left": null,
            "margin": null,
            "max_height": null,
            "max_width": null,
            "min_height": null,
            "min_width": null,
            "object_fit": null,
            "object_position": null,
            "order": null,
            "overflow": null,
            "overflow_x": null,
            "overflow_y": null,
            "padding": null,
            "right": null,
            "top": null,
            "visibility": null,
            "width": null
          }
        },
        "baa8213bbc0a4549a9679973f5c70b85": {
          "model_module": "@jupyter-widgets/controls",
          "model_name": "DescriptionStyleModel",
          "model_module_version": "1.5.0",
          "state": {
            "_model_module": "@jupyter-widgets/controls",
            "_model_module_version": "1.5.0",
            "_model_name": "DescriptionStyleModel",
            "_view_count": null,
            "_view_module": "@jupyter-widgets/base",
            "_view_module_version": "1.2.0",
            "_view_name": "StyleView",
            "description_width": ""
          }
        },
        "a825ff88fcd64fa8976394cd4f0b402d": {
          "model_module": "@jupyter-widgets/controls",
          "model_name": "HBoxModel",
          "model_module_version": "1.5.0",
          "state": {
            "_dom_classes": [],
            "_model_module": "@jupyter-widgets/controls",
            "_model_module_version": "1.5.0",
            "_model_name": "HBoxModel",
            "_view_count": null,
            "_view_module": "@jupyter-widgets/controls",
            "_view_module_version": "1.5.0",
            "_view_name": "HBoxView",
            "box_style": "",
            "children": [
              "IPY_MODEL_b47e2d2f89f5401496cccaacd820016f",
              "IPY_MODEL_dd987c7fb56341c180cc9cae44c96d00",
              "IPY_MODEL_f72e93326ced46c0b6129804d71f8867"
            ],
            "layout": "IPY_MODEL_656b81d19d60427f9d34bc4b6c1566bb"
          }
        },
        "b47e2d2f89f5401496cccaacd820016f": {
          "model_module": "@jupyter-widgets/controls",
          "model_name": "HTMLModel",
          "model_module_version": "1.5.0",
          "state": {
            "_dom_classes": [],
            "_model_module": "@jupyter-widgets/controls",
            "_model_module_version": "1.5.0",
            "_model_name": "HTMLModel",
            "_view_count": null,
            "_view_module": "@jupyter-widgets/controls",
            "_view_module_version": "1.5.0",
            "_view_name": "HTMLView",
            "description": "",
            "description_tooltip": null,
            "layout": "IPY_MODEL_7cd728f8c52b4de6957ab98b23dccdad",
            "placeholder": "​",
            "style": "IPY_MODEL_5460aa0751bc4df0b316d520329f44c6",
            "value": "config.json: 100%"
          }
        },
        "dd987c7fb56341c180cc9cae44c96d00": {
          "model_module": "@jupyter-widgets/controls",
          "model_name": "FloatProgressModel",
          "model_module_version": "1.5.0",
          "state": {
            "_dom_classes": [],
            "_model_module": "@jupyter-widgets/controls",
            "_model_module_version": "1.5.0",
            "_model_name": "FloatProgressModel",
            "_view_count": null,
            "_view_module": "@jupyter-widgets/controls",
            "_view_module_version": "1.5.0",
            "_view_name": "ProgressView",
            "bar_style": "success",
            "description": "",
            "description_tooltip": null,
            "layout": "IPY_MODEL_046474ced9794b6ea18b8d523d02a66f",
            "max": 1469,
            "min": 0,
            "orientation": "horizontal",
            "style": "IPY_MODEL_35b0f3810b3a4d1b8633f580c45d590c",
            "value": 1469
          }
        },
        "f72e93326ced46c0b6129804d71f8867": {
          "model_module": "@jupyter-widgets/controls",
          "model_name": "HTMLModel",
          "model_module_version": "1.5.0",
          "state": {
            "_dom_classes": [],
            "_model_module": "@jupyter-widgets/controls",
            "_model_module_version": "1.5.0",
            "_model_name": "HTMLModel",
            "_view_count": null,
            "_view_module": "@jupyter-widgets/controls",
            "_view_module_version": "1.5.0",
            "_view_name": "HTMLView",
            "description": "",
            "description_tooltip": null,
            "layout": "IPY_MODEL_8cbadd84362d4b75a0ba171c16cae3fe",
            "placeholder": "​",
            "style": "IPY_MODEL_99a54e5775fd4a82b25a2a9d55a736a6",
            "value": " 1.47k/1.47k [00:00&lt;00:00, 82.1kB/s]"
          }
        },
        "656b81d19d60427f9d34bc4b6c1566bb": {
          "model_module": "@jupyter-widgets/base",
          "model_name": "LayoutModel",
          "model_module_version": "1.2.0",
          "state": {
            "_model_module": "@jupyter-widgets/base",
            "_model_module_version": "1.2.0",
            "_model_name": "LayoutModel",
            "_view_count": null,
            "_view_module": "@jupyter-widgets/base",
            "_view_module_version": "1.2.0",
            "_view_name": "LayoutView",
            "align_content": null,
            "align_items": null,
            "align_self": null,
            "border": null,
            "bottom": null,
            "display": null,
            "flex": null,
            "flex_flow": null,
            "grid_area": null,
            "grid_auto_columns": null,
            "grid_auto_flow": null,
            "grid_auto_rows": null,
            "grid_column": null,
            "grid_gap": null,
            "grid_row": null,
            "grid_template_areas": null,
            "grid_template_columns": null,
            "grid_template_rows": null,
            "height": null,
            "justify_content": null,
            "justify_items": null,
            "left": null,
            "margin": null,
            "max_height": null,
            "max_width": null,
            "min_height": null,
            "min_width": null,
            "object_fit": null,
            "object_position": null,
            "order": null,
            "overflow": null,
            "overflow_x": null,
            "overflow_y": null,
            "padding": null,
            "right": null,
            "top": null,
            "visibility": null,
            "width": null
          }
        },
        "7cd728f8c52b4de6957ab98b23dccdad": {
          "model_module": "@jupyter-widgets/base",
          "model_name": "LayoutModel",
          "model_module_version": "1.2.0",
          "state": {
            "_model_module": "@jupyter-widgets/base",
            "_model_module_version": "1.2.0",
            "_model_name": "LayoutModel",
            "_view_count": null,
            "_view_module": "@jupyter-widgets/base",
            "_view_module_version": "1.2.0",
            "_view_name": "LayoutView",
            "align_content": null,
            "align_items": null,
            "align_self": null,
            "border": null,
            "bottom": null,
            "display": null,
            "flex": null,
            "flex_flow": null,
            "grid_area": null,
            "grid_auto_columns": null,
            "grid_auto_flow": null,
            "grid_auto_rows": null,
            "grid_column": null,
            "grid_gap": null,
            "grid_row": null,
            "grid_template_areas": null,
            "grid_template_columns": null,
            "grid_template_rows": null,
            "height": null,
            "justify_content": null,
            "justify_items": null,
            "left": null,
            "margin": null,
            "max_height": null,
            "max_width": null,
            "min_height": null,
            "min_width": null,
            "object_fit": null,
            "object_position": null,
            "order": null,
            "overflow": null,
            "overflow_x": null,
            "overflow_y": null,
            "padding": null,
            "right": null,
            "top": null,
            "visibility": null,
            "width": null
          }
        },
        "5460aa0751bc4df0b316d520329f44c6": {
          "model_module": "@jupyter-widgets/controls",
          "model_name": "DescriptionStyleModel",
          "model_module_version": "1.5.0",
          "state": {
            "_model_module": "@jupyter-widgets/controls",
            "_model_module_version": "1.5.0",
            "_model_name": "DescriptionStyleModel",
            "_view_count": null,
            "_view_module": "@jupyter-widgets/base",
            "_view_module_version": "1.2.0",
            "_view_name": "StyleView",
            "description_width": ""
          }
        },
        "046474ced9794b6ea18b8d523d02a66f": {
          "model_module": "@jupyter-widgets/base",
          "model_name": "LayoutModel",
          "model_module_version": "1.2.0",
          "state": {
            "_model_module": "@jupyter-widgets/base",
            "_model_module_version": "1.2.0",
            "_model_name": "LayoutModel",
            "_view_count": null,
            "_view_module": "@jupyter-widgets/base",
            "_view_module_version": "1.2.0",
            "_view_name": "LayoutView",
            "align_content": null,
            "align_items": null,
            "align_self": null,
            "border": null,
            "bottom": null,
            "display": null,
            "flex": null,
            "flex_flow": null,
            "grid_area": null,
            "grid_auto_columns": null,
            "grid_auto_flow": null,
            "grid_auto_rows": null,
            "grid_column": null,
            "grid_gap": null,
            "grid_row": null,
            "grid_template_areas": null,
            "grid_template_columns": null,
            "grid_template_rows": null,
            "height": null,
            "justify_content": null,
            "justify_items": null,
            "left": null,
            "margin": null,
            "max_height": null,
            "max_width": null,
            "min_height": null,
            "min_width": null,
            "object_fit": null,
            "object_position": null,
            "order": null,
            "overflow": null,
            "overflow_x": null,
            "overflow_y": null,
            "padding": null,
            "right": null,
            "top": null,
            "visibility": null,
            "width": null
          }
        },
        "35b0f3810b3a4d1b8633f580c45d590c": {
          "model_module": "@jupyter-widgets/controls",
          "model_name": "ProgressStyleModel",
          "model_module_version": "1.5.0",
          "state": {
            "_model_module": "@jupyter-widgets/controls",
            "_model_module_version": "1.5.0",
            "_model_name": "ProgressStyleModel",
            "_view_count": null,
            "_view_module": "@jupyter-widgets/base",
            "_view_module_version": "1.2.0",
            "_view_name": "StyleView",
            "bar_color": null,
            "description_width": ""
          }
        },
        "8cbadd84362d4b75a0ba171c16cae3fe": {
          "model_module": "@jupyter-widgets/base",
          "model_name": "LayoutModel",
          "model_module_version": "1.2.0",
          "state": {
            "_model_module": "@jupyter-widgets/base",
            "_model_module_version": "1.2.0",
            "_model_name": "LayoutModel",
            "_view_count": null,
            "_view_module": "@jupyter-widgets/base",
            "_view_module_version": "1.2.0",
            "_view_name": "LayoutView",
            "align_content": null,
            "align_items": null,
            "align_self": null,
            "border": null,
            "bottom": null,
            "display": null,
            "flex": null,
            "flex_flow": null,
            "grid_area": null,
            "grid_auto_columns": null,
            "grid_auto_flow": null,
            "grid_auto_rows": null,
            "grid_column": null,
            "grid_gap": null,
            "grid_row": null,
            "grid_template_areas": null,
            "grid_template_columns": null,
            "grid_template_rows": null,
            "height": null,
            "justify_content": null,
            "justify_items": null,
            "left": null,
            "margin": null,
            "max_height": null,
            "max_width": null,
            "min_height": null,
            "min_width": null,
            "object_fit": null,
            "object_position": null,
            "order": null,
            "overflow": null,
            "overflow_x": null,
            "overflow_y": null,
            "padding": null,
            "right": null,
            "top": null,
            "visibility": null,
            "width": null
          }
        },
        "99a54e5775fd4a82b25a2a9d55a736a6": {
          "model_module": "@jupyter-widgets/controls",
          "model_name": "DescriptionStyleModel",
          "model_module_version": "1.5.0",
          "state": {
            "_model_module": "@jupyter-widgets/controls",
            "_model_module_version": "1.5.0",
            "_model_name": "DescriptionStyleModel",
            "_view_count": null,
            "_view_module": "@jupyter-widgets/base",
            "_view_module_version": "1.2.0",
            "_view_name": "StyleView",
            "description_width": ""
          }
        },
        "599c1e865b574ae7b900e49fa7f380cb": {
          "model_module": "@jupyter-widgets/controls",
          "model_name": "HBoxModel",
          "model_module_version": "1.5.0",
          "state": {
            "_dom_classes": [],
            "_model_module": "@jupyter-widgets/controls",
            "_model_module_version": "1.5.0",
            "_model_name": "HBoxModel",
            "_view_count": null,
            "_view_module": "@jupyter-widgets/controls",
            "_view_module_version": "1.5.0",
            "_view_name": "HBoxView",
            "box_style": "",
            "children": [
              "IPY_MODEL_32a12821481c458281dd9791e5fc7014",
              "IPY_MODEL_ecde70ad68a7401a93397c56cb8f2d69",
              "IPY_MODEL_8671b541a6d34e61b710a419dd2c675b"
            ],
            "layout": "IPY_MODEL_36283bf9ec2046f0b152ea0011b46e96"
          }
        },
        "32a12821481c458281dd9791e5fc7014": {
          "model_module": "@jupyter-widgets/controls",
          "model_name": "HTMLModel",
          "model_module_version": "1.5.0",
          "state": {
            "_dom_classes": [],
            "_model_module": "@jupyter-widgets/controls",
            "_model_module_version": "1.5.0",
            "_model_name": "HTMLModel",
            "_view_count": null,
            "_view_module": "@jupyter-widgets/controls",
            "_view_module_version": "1.5.0",
            "_view_name": "HTMLView",
            "description": "",
            "description_tooltip": null,
            "layout": "IPY_MODEL_53047d34a03c41d8ae1fbc828d71b39d",
            "placeholder": "​",
            "style": "IPY_MODEL_9b33dbf16018428585e762e92f68563a",
            "value": "model.safetensors: 100%"
          }
        },
        "ecde70ad68a7401a93397c56cb8f2d69": {
          "model_module": "@jupyter-widgets/controls",
          "model_name": "FloatProgressModel",
          "model_module_version": "1.5.0",
          "state": {
            "_dom_classes": [],
            "_model_module": "@jupyter-widgets/controls",
            "_model_module_version": "1.5.0",
            "_model_name": "FloatProgressModel",
            "_view_count": null,
            "_view_module": "@jupyter-widgets/controls",
            "_view_module_version": "1.5.0",
            "_view_name": "ProgressView",
            "bar_style": "success",
            "description": "",
            "description_tooltip": null,
            "layout": "IPY_MODEL_e10efd48780f48bdb6b5f0ece7f1d9ae",
            "max": 115434268,
            "min": 0,
            "orientation": "horizontal",
            "style": "IPY_MODEL_ec471058c37a43fba3c0c206d7636c3b",
            "value": 115434268
          }
        },
        "8671b541a6d34e61b710a419dd2c675b": {
          "model_module": "@jupyter-widgets/controls",
          "model_name": "HTMLModel",
          "model_module_version": "1.5.0",
          "state": {
            "_dom_classes": [],
            "_model_module": "@jupyter-widgets/controls",
            "_model_module_version": "1.5.0",
            "_model_name": "HTMLModel",
            "_view_count": null,
            "_view_module": "@jupyter-widgets/controls",
            "_view_module_version": "1.5.0",
            "_view_name": "HTMLView",
            "description": "",
            "description_tooltip": null,
            "layout": "IPY_MODEL_0fea0917fe124035a76abf5bf2763c97",
            "placeholder": "​",
            "style": "IPY_MODEL_37d48c7594064117b1ad84349ccdce39",
            "value": " 115M/115M [00:00&lt;00:00, 166MB/s]"
          }
        },
        "36283bf9ec2046f0b152ea0011b46e96": {
          "model_module": "@jupyter-widgets/base",
          "model_name": "LayoutModel",
          "model_module_version": "1.2.0",
          "state": {
            "_model_module": "@jupyter-widgets/base",
            "_model_module_version": "1.2.0",
            "_model_name": "LayoutModel",
            "_view_count": null,
            "_view_module": "@jupyter-widgets/base",
            "_view_module_version": "1.2.0",
            "_view_name": "LayoutView",
            "align_content": null,
            "align_items": null,
            "align_self": null,
            "border": null,
            "bottom": null,
            "display": null,
            "flex": null,
            "flex_flow": null,
            "grid_area": null,
            "grid_auto_columns": null,
            "grid_auto_flow": null,
            "grid_auto_rows": null,
            "grid_column": null,
            "grid_gap": null,
            "grid_row": null,
            "grid_template_areas": null,
            "grid_template_columns": null,
            "grid_template_rows": null,
            "height": null,
            "justify_content": null,
            "justify_items": null,
            "left": null,
            "margin": null,
            "max_height": null,
            "max_width": null,
            "min_height": null,
            "min_width": null,
            "object_fit": null,
            "object_position": null,
            "order": null,
            "overflow": null,
            "overflow_x": null,
            "overflow_y": null,
            "padding": null,
            "right": null,
            "top": null,
            "visibility": null,
            "width": null
          }
        },
        "53047d34a03c41d8ae1fbc828d71b39d": {
          "model_module": "@jupyter-widgets/base",
          "model_name": "LayoutModel",
          "model_module_version": "1.2.0",
          "state": {
            "_model_module": "@jupyter-widgets/base",
            "_model_module_version": "1.2.0",
            "_model_name": "LayoutModel",
            "_view_count": null,
            "_view_module": "@jupyter-widgets/base",
            "_view_module_version": "1.2.0",
            "_view_name": "LayoutView",
            "align_content": null,
            "align_items": null,
            "align_self": null,
            "border": null,
            "bottom": null,
            "display": null,
            "flex": null,
            "flex_flow": null,
            "grid_area": null,
            "grid_auto_columns": null,
            "grid_auto_flow": null,
            "grid_auto_rows": null,
            "grid_column": null,
            "grid_gap": null,
            "grid_row": null,
            "grid_template_areas": null,
            "grid_template_columns": null,
            "grid_template_rows": null,
            "height": null,
            "justify_content": null,
            "justify_items": null,
            "left": null,
            "margin": null,
            "max_height": null,
            "max_width": null,
            "min_height": null,
            "min_width": null,
            "object_fit": null,
            "object_position": null,
            "order": null,
            "overflow": null,
            "overflow_x": null,
            "overflow_y": null,
            "padding": null,
            "right": null,
            "top": null,
            "visibility": null,
            "width": null
          }
        },
        "9b33dbf16018428585e762e92f68563a": {
          "model_module": "@jupyter-widgets/controls",
          "model_name": "DescriptionStyleModel",
          "model_module_version": "1.5.0",
          "state": {
            "_model_module": "@jupyter-widgets/controls",
            "_model_module_version": "1.5.0",
            "_model_name": "DescriptionStyleModel",
            "_view_count": null,
            "_view_module": "@jupyter-widgets/base",
            "_view_module_version": "1.2.0",
            "_view_name": "StyleView",
            "description_width": ""
          }
        },
        "e10efd48780f48bdb6b5f0ece7f1d9ae": {
          "model_module": "@jupyter-widgets/base",
          "model_name": "LayoutModel",
          "model_module_version": "1.2.0",
          "state": {
            "_model_module": "@jupyter-widgets/base",
            "_model_module_version": "1.2.0",
            "_model_name": "LayoutModel",
            "_view_count": null,
            "_view_module": "@jupyter-widgets/base",
            "_view_module_version": "1.2.0",
            "_view_name": "LayoutView",
            "align_content": null,
            "align_items": null,
            "align_self": null,
            "border": null,
            "bottom": null,
            "display": null,
            "flex": null,
            "flex_flow": null,
            "grid_area": null,
            "grid_auto_columns": null,
            "grid_auto_flow": null,
            "grid_auto_rows": null,
            "grid_column": null,
            "grid_gap": null,
            "grid_row": null,
            "grid_template_areas": null,
            "grid_template_columns": null,
            "grid_template_rows": null,
            "height": null,
            "justify_content": null,
            "justify_items": null,
            "left": null,
            "margin": null,
            "max_height": null,
            "max_width": null,
            "min_height": null,
            "min_width": null,
            "object_fit": null,
            "object_position": null,
            "order": null,
            "overflow": null,
            "overflow_x": null,
            "overflow_y": null,
            "padding": null,
            "right": null,
            "top": null,
            "visibility": null,
            "width": null
          }
        },
        "ec471058c37a43fba3c0c206d7636c3b": {
          "model_module": "@jupyter-widgets/controls",
          "model_name": "ProgressStyleModel",
          "model_module_version": "1.5.0",
          "state": {
            "_model_module": "@jupyter-widgets/controls",
            "_model_module_version": "1.5.0",
            "_model_name": "ProgressStyleModel",
            "_view_count": null,
            "_view_module": "@jupyter-widgets/base",
            "_view_module_version": "1.2.0",
            "_view_name": "StyleView",
            "bar_color": null,
            "description_width": ""
          }
        },
        "0fea0917fe124035a76abf5bf2763c97": {
          "model_module": "@jupyter-widgets/base",
          "model_name": "LayoutModel",
          "model_module_version": "1.2.0",
          "state": {
            "_model_module": "@jupyter-widgets/base",
            "_model_module_version": "1.2.0",
            "_model_name": "LayoutModel",
            "_view_count": null,
            "_view_module": "@jupyter-widgets/base",
            "_view_module_version": "1.2.0",
            "_view_name": "LayoutView",
            "align_content": null,
            "align_items": null,
            "align_self": null,
            "border": null,
            "bottom": null,
            "display": null,
            "flex": null,
            "flex_flow": null,
            "grid_area": null,
            "grid_auto_columns": null,
            "grid_auto_flow": null,
            "grid_auto_rows": null,
            "grid_column": null,
            "grid_gap": null,
            "grid_row": null,
            "grid_template_areas": null,
            "grid_template_columns": null,
            "grid_template_rows": null,
            "height": null,
            "justify_content": null,
            "justify_items": null,
            "left": null,
            "margin": null,
            "max_height": null,
            "max_width": null,
            "min_height": null,
            "min_width": null,
            "object_fit": null,
            "object_position": null,
            "order": null,
            "overflow": null,
            "overflow_x": null,
            "overflow_y": null,
            "padding": null,
            "right": null,
            "top": null,
            "visibility": null,
            "width": null
          }
        },
        "37d48c7594064117b1ad84349ccdce39": {
          "model_module": "@jupyter-widgets/controls",
          "model_name": "DescriptionStyleModel",
          "model_module_version": "1.5.0",
          "state": {
            "_model_module": "@jupyter-widgets/controls",
            "_model_module_version": "1.5.0",
            "_model_name": "DescriptionStyleModel",
            "_view_count": null,
            "_view_module": "@jupyter-widgets/base",
            "_view_module_version": "1.2.0",
            "_view_name": "StyleView",
            "description_width": ""
          }
        },
        "4f8ef36227ae46cea375ae5f92001ca4": {
          "model_module": "@jupyter-widgets/controls",
          "model_name": "HBoxModel",
          "model_module_version": "1.5.0",
          "state": {
            "_dom_classes": [],
            "_model_module": "@jupyter-widgets/controls",
            "_model_module_version": "1.5.0",
            "_model_name": "HBoxModel",
            "_view_count": null,
            "_view_module": "@jupyter-widgets/controls",
            "_view_module_version": "1.5.0",
            "_view_name": "HBoxView",
            "box_style": "",
            "children": [
              "IPY_MODEL_e8776d477362421683a3ae87426195fd",
              "IPY_MODEL_06af939dc9ce46f9b2ae1c83f54b1849",
              "IPY_MODEL_b0223eaf6ece4a2bb018d0041d2ba191"
            ],
            "layout": "IPY_MODEL_907ffde1bc6140868fd1fd1770d5efba"
          }
        },
        "e8776d477362421683a3ae87426195fd": {
          "model_module": "@jupyter-widgets/controls",
          "model_name": "HTMLModel",
          "model_module_version": "1.5.0",
          "state": {
            "_dom_classes": [],
            "_model_module": "@jupyter-widgets/controls",
            "_model_module_version": "1.5.0",
            "_model_name": "HTMLModel",
            "_view_count": null,
            "_view_module": "@jupyter-widgets/controls",
            "_view_module_version": "1.5.0",
            "_view_name": "HTMLView",
            "description": "",
            "description_tooltip": null,
            "layout": "IPY_MODEL_5b17969aea174f4f8286050c0a205373",
            "placeholder": "​",
            "style": "IPY_MODEL_8f548e7b11aa434ca8d8ebad4c6dff2d",
            "value": "model.safetensors: 100%"
          }
        },
        "06af939dc9ce46f9b2ae1c83f54b1849": {
          "model_module": "@jupyter-widgets/controls",
          "model_name": "FloatProgressModel",
          "model_module_version": "1.5.0",
          "state": {
            "_dom_classes": [],
            "_model_module": "@jupyter-widgets/controls",
            "_model_module_version": "1.5.0",
            "_model_name": "FloatProgressModel",
            "_view_count": null,
            "_view_module": "@jupyter-widgets/controls",
            "_view_module_version": "1.5.0",
            "_view_name": "ProgressView",
            "bar_style": "success",
            "description": "",
            "description_tooltip": null,
            "layout": "IPY_MODEL_d141a9654ade4ccc8dde52a0fb222c5b",
            "max": 46807446,
            "min": 0,
            "orientation": "horizontal",
            "style": "IPY_MODEL_d107ee2f9f424041b76bb23763e792c4",
            "value": 46807446
          }
        },
        "b0223eaf6ece4a2bb018d0041d2ba191": {
          "model_module": "@jupyter-widgets/controls",
          "model_name": "HTMLModel",
          "model_module_version": "1.5.0",
          "state": {
            "_dom_classes": [],
            "_model_module": "@jupyter-widgets/controls",
            "_model_module_version": "1.5.0",
            "_model_name": "HTMLModel",
            "_view_count": null,
            "_view_module": "@jupyter-widgets/controls",
            "_view_module_version": "1.5.0",
            "_view_name": "HTMLView",
            "description": "",
            "description_tooltip": null,
            "layout": "IPY_MODEL_81bfc78d851f431c801c715db396d2de",
            "placeholder": "​",
            "style": "IPY_MODEL_450c4d8578bf418c94cd84580d835cdd",
            "value": " 46.8M/46.8M [00:00&lt;00:00, 216MB/s]"
          }
        },
        "907ffde1bc6140868fd1fd1770d5efba": {
          "model_module": "@jupyter-widgets/base",
          "model_name": "LayoutModel",
          "model_module_version": "1.2.0",
          "state": {
            "_model_module": "@jupyter-widgets/base",
            "_model_module_version": "1.2.0",
            "_model_name": "LayoutModel",
            "_view_count": null,
            "_view_module": "@jupyter-widgets/base",
            "_view_module_version": "1.2.0",
            "_view_name": "LayoutView",
            "align_content": null,
            "align_items": null,
            "align_self": null,
            "border": null,
            "bottom": null,
            "display": null,
            "flex": null,
            "flex_flow": null,
            "grid_area": null,
            "grid_auto_columns": null,
            "grid_auto_flow": null,
            "grid_auto_rows": null,
            "grid_column": null,
            "grid_gap": null,
            "grid_row": null,
            "grid_template_areas": null,
            "grid_template_columns": null,
            "grid_template_rows": null,
            "height": null,
            "justify_content": null,
            "justify_items": null,
            "left": null,
            "margin": null,
            "max_height": null,
            "max_width": null,
            "min_height": null,
            "min_width": null,
            "object_fit": null,
            "object_position": null,
            "order": null,
            "overflow": null,
            "overflow_x": null,
            "overflow_y": null,
            "padding": null,
            "right": null,
            "top": null,
            "visibility": null,
            "width": null
          }
        },
        "5b17969aea174f4f8286050c0a205373": {
          "model_module": "@jupyter-widgets/base",
          "model_name": "LayoutModel",
          "model_module_version": "1.2.0",
          "state": {
            "_model_module": "@jupyter-widgets/base",
            "_model_module_version": "1.2.0",
            "_model_name": "LayoutModel",
            "_view_count": null,
            "_view_module": "@jupyter-widgets/base",
            "_view_module_version": "1.2.0",
            "_view_name": "LayoutView",
            "align_content": null,
            "align_items": null,
            "align_self": null,
            "border": null,
            "bottom": null,
            "display": null,
            "flex": null,
            "flex_flow": null,
            "grid_area": null,
            "grid_auto_columns": null,
            "grid_auto_flow": null,
            "grid_auto_rows": null,
            "grid_column": null,
            "grid_gap": null,
            "grid_row": null,
            "grid_template_areas": null,
            "grid_template_columns": null,
            "grid_template_rows": null,
            "height": null,
            "justify_content": null,
            "justify_items": null,
            "left": null,
            "margin": null,
            "max_height": null,
            "max_width": null,
            "min_height": null,
            "min_width": null,
            "object_fit": null,
            "object_position": null,
            "order": null,
            "overflow": null,
            "overflow_x": null,
            "overflow_y": null,
            "padding": null,
            "right": null,
            "top": null,
            "visibility": null,
            "width": null
          }
        },
        "8f548e7b11aa434ca8d8ebad4c6dff2d": {
          "model_module": "@jupyter-widgets/controls",
          "model_name": "DescriptionStyleModel",
          "model_module_version": "1.5.0",
          "state": {
            "_model_module": "@jupyter-widgets/controls",
            "_model_module_version": "1.5.0",
            "_model_name": "DescriptionStyleModel",
            "_view_count": null,
            "_view_module": "@jupyter-widgets/base",
            "_view_module_version": "1.2.0",
            "_view_name": "StyleView",
            "description_width": ""
          }
        },
        "d141a9654ade4ccc8dde52a0fb222c5b": {
          "model_module": "@jupyter-widgets/base",
          "model_name": "LayoutModel",
          "model_module_version": "1.2.0",
          "state": {
            "_model_module": "@jupyter-widgets/base",
            "_model_module_version": "1.2.0",
            "_model_name": "LayoutModel",
            "_view_count": null,
            "_view_module": "@jupyter-widgets/base",
            "_view_module_version": "1.2.0",
            "_view_name": "LayoutView",
            "align_content": null,
            "align_items": null,
            "align_self": null,
            "border": null,
            "bottom": null,
            "display": null,
            "flex": null,
            "flex_flow": null,
            "grid_area": null,
            "grid_auto_columns": null,
            "grid_auto_flow": null,
            "grid_auto_rows": null,
            "grid_column": null,
            "grid_gap": null,
            "grid_row": null,
            "grid_template_areas": null,
            "grid_template_columns": null,
            "grid_template_rows": null,
            "height": null,
            "justify_content": null,
            "justify_items": null,
            "left": null,
            "margin": null,
            "max_height": null,
            "max_width": null,
            "min_height": null,
            "min_width": null,
            "object_fit": null,
            "object_position": null,
            "order": null,
            "overflow": null,
            "overflow_x": null,
            "overflow_y": null,
            "padding": null,
            "right": null,
            "top": null,
            "visibility": null,
            "width": null
          }
        },
        "d107ee2f9f424041b76bb23763e792c4": {
          "model_module": "@jupyter-widgets/controls",
          "model_name": "ProgressStyleModel",
          "model_module_version": "1.5.0",
          "state": {
            "_model_module": "@jupyter-widgets/controls",
            "_model_module_version": "1.5.0",
            "_model_name": "ProgressStyleModel",
            "_view_count": null,
            "_view_module": "@jupyter-widgets/base",
            "_view_module_version": "1.2.0",
            "_view_name": "StyleView",
            "bar_color": null,
            "description_width": ""
          }
        },
        "81bfc78d851f431c801c715db396d2de": {
          "model_module": "@jupyter-widgets/base",
          "model_name": "LayoutModel",
          "model_module_version": "1.2.0",
          "state": {
            "_model_module": "@jupyter-widgets/base",
            "_model_module_version": "1.2.0",
            "_model_name": "LayoutModel",
            "_view_count": null,
            "_view_module": "@jupyter-widgets/base",
            "_view_module_version": "1.2.0",
            "_view_name": "LayoutView",
            "align_content": null,
            "align_items": null,
            "align_self": null,
            "border": null,
            "bottom": null,
            "display": null,
            "flex": null,
            "flex_flow": null,
            "grid_area": null,
            "grid_auto_columns": null,
            "grid_auto_flow": null,
            "grid_auto_rows": null,
            "grid_column": null,
            "grid_gap": null,
            "grid_row": null,
            "grid_template_areas": null,
            "grid_template_columns": null,
            "grid_template_rows": null,
            "height": null,
            "justify_content": null,
            "justify_items": null,
            "left": null,
            "margin": null,
            "max_height": null,
            "max_width": null,
            "min_height": null,
            "min_width": null,
            "object_fit": null,
            "object_position": null,
            "order": null,
            "overflow": null,
            "overflow_x": null,
            "overflow_y": null,
            "padding": null,
            "right": null,
            "top": null,
            "visibility": null,
            "width": null
          }
        },
        "450c4d8578bf418c94cd84580d835cdd": {
          "model_module": "@jupyter-widgets/controls",
          "model_name": "DescriptionStyleModel",
          "model_module_version": "1.5.0",
          "state": {
            "_model_module": "@jupyter-widgets/controls",
            "_model_module_version": "1.5.0",
            "_model_name": "DescriptionStyleModel",
            "_view_count": null,
            "_view_module": "@jupyter-widgets/base",
            "_view_module_version": "1.2.0",
            "_view_name": "StyleView",
            "description_width": ""
          }
        }
      }
    }
  },
  "cells": [
    {
      "cell_type": "code",
      "execution_count": null,
      "metadata": {
        "colab": {
          "base_uri": "https://localhost:8080/"
        },
        "id": "vkJNGmohMqkK",
        "outputId": "4dd518f4-9f66-47b2-d84b-ee339785e529"
      },
      "outputs": [
        {
          "output_type": "stream",
          "name": "stdout",
          "text": [
            "Collecting langchain\n",
            "  Downloading langchain-0.0.350-py3-none-any.whl (809 kB)\n",
            "\u001b[?25l     \u001b[90m━━━━━━━━━━━━━━━━━━━━━━━━━━━━━━━━━━━━━━━━\u001b[0m \u001b[32m0.0/809.1 kB\u001b[0m \u001b[31m?\u001b[0m eta \u001b[36m-:--:--\u001b[0m\r\u001b[2K     \u001b[91m━━━━━\u001b[0m\u001b[91m╸\u001b[0m\u001b[90m━━━━━━━━━━━━━━━━━━━━━━━━━━━━━━━━━━\u001b[0m \u001b[32m112.6/809.1 kB\u001b[0m \u001b[31m3.1 MB/s\u001b[0m eta \u001b[36m0:00:01\u001b[0m\r\u001b[2K     \u001b[91m━━━━━━━━━━━━━━━━━━\u001b[0m\u001b[90m╺\u001b[0m\u001b[90m━━━━━━━━━━━━━━━━━━━━━\u001b[0m \u001b[32m368.6/809.1 kB\u001b[0m \u001b[31m5.3 MB/s\u001b[0m eta \u001b[36m0:00:01\u001b[0m\r\u001b[2K     \u001b[91m━━━━━━━━━━━━━━━━━━━━━━━━━━━━━━━━━━━\u001b[0m\u001b[90m╺\u001b[0m\u001b[90m━━━━\u001b[0m \u001b[32m716.8/809.1 kB\u001b[0m \u001b[31m6.7 MB/s\u001b[0m eta \u001b[36m0:00:01\u001b[0m\r\u001b[2K     \u001b[90m━━━━━━━━━━━━━━━━━━━━━━━━━━━━━━━━━━━━━━━━\u001b[0m \u001b[32m809.1/809.1 kB\u001b[0m \u001b[31m6.3 MB/s\u001b[0m eta \u001b[36m0:00:00\u001b[0m\n",
            "\u001b[?25hRequirement already satisfied: pydantic in /usr/local/lib/python3.10/dist-packages (1.10.13)\n",
            "Requirement already satisfied: lxml in /usr/local/lib/python3.10/dist-packages (4.9.3)\n",
            "Collecting openai\n",
            "  Downloading openai-1.3.9-py3-none-any.whl (221 kB)\n",
            "\u001b[2K     \u001b[90m━━━━━━━━━━━━━━━━━━━━━━━━━━━━━━━━━━━━━━━━\u001b[0m \u001b[32m221.4/221.4 kB\u001b[0m \u001b[31m8.2 MB/s\u001b[0m eta \u001b[36m0:00:00\u001b[0m\n",
            "\u001b[?25hCollecting chromadb\n",
            "  Downloading chromadb-0.4.19-py3-none-any.whl (505 kB)\n",
            "\u001b[2K     \u001b[90m━━━━━━━━━━━━━━━━━━━━━━━━━━━━━━━━━━━━━━━━\u001b[0m \u001b[32m506.0/506.0 kB\u001b[0m \u001b[31m11.0 MB/s\u001b[0m eta \u001b[36m0:00:00\u001b[0m\n",
            "\u001b[?25hCollecting tiktoken\n",
            "  Downloading tiktoken-0.5.2-cp310-cp310-manylinux_2_17_x86_64.manylinux2014_x86_64.whl (2.0 MB)\n",
            "\u001b[2K     \u001b[90m━━━━━━━━━━━━━━━━━━━━━━━━━━━━━━━━━━━━━━━━\u001b[0m \u001b[32m2.0/2.0 MB\u001b[0m \u001b[31m16.7 MB/s\u001b[0m eta \u001b[36m0:00:00\u001b[0m\n",
            "\u001b[?25hRequirement already satisfied: PyYAML>=5.3 in /usr/local/lib/python3.10/dist-packages (from langchain) (6.0.1)\n",
            "Requirement already satisfied: SQLAlchemy<3,>=1.4 in /usr/local/lib/python3.10/dist-packages (from langchain) (2.0.23)\n",
            "Requirement already satisfied: aiohttp<4.0.0,>=3.8.3 in /usr/local/lib/python3.10/dist-packages (from langchain) (3.9.1)\n",
            "Requirement already satisfied: async-timeout<5.0.0,>=4.0.0 in /usr/local/lib/python3.10/dist-packages (from langchain) (4.0.3)\n",
            "Collecting dataclasses-json<0.7,>=0.5.7 (from langchain)\n",
            "  Downloading dataclasses_json-0.6.3-py3-none-any.whl (28 kB)\n",
            "Collecting jsonpatch<2.0,>=1.33 (from langchain)\n",
            "  Downloading jsonpatch-1.33-py2.py3-none-any.whl (12 kB)\n",
            "Collecting langchain-community<0.1,>=0.0.2 (from langchain)\n",
            "  Downloading langchain_community-0.0.3-py3-none-any.whl (1.5 MB)\n",
            "\u001b[2K     \u001b[90m━━━━━━━━━━━━━━━━━━━━━━━━━━━━━━━━━━━━━━━━\u001b[0m \u001b[32m1.5/1.5 MB\u001b[0m \u001b[31m25.2 MB/s\u001b[0m eta \u001b[36m0:00:00\u001b[0m\n",
            "\u001b[?25hCollecting langchain-core<0.2,>=0.1 (from langchain)\n",
            "  Downloading langchain_core-0.1.0-py3-none-any.whl (189 kB)\n",
            "\u001b[2K     \u001b[90m━━━━━━━━━━━━━━━━━━━━━━━━━━━━━━━━━━━━━━━━\u001b[0m \u001b[32m189.1/189.1 kB\u001b[0m \u001b[31m19.8 MB/s\u001b[0m eta \u001b[36m0:00:00\u001b[0m\n",
            "\u001b[?25hCollecting langsmith<0.1.0,>=0.0.63 (from langchain)\n",
            "  Downloading langsmith-0.0.70-py3-none-any.whl (45 kB)\n",
            "\u001b[2K     \u001b[90m━━━━━━━━━━━━━━━━━━━━━━━━━━━━━━━━━━━━━━━━\u001b[0m \u001b[32m46.0/46.0 kB\u001b[0m \u001b[31m5.0 MB/s\u001b[0m eta \u001b[36m0:00:00\u001b[0m\n",
            "\u001b[?25hRequirement already satisfied: numpy<2,>=1 in /usr/local/lib/python3.10/dist-packages (from langchain) (1.23.5)\n",
            "Requirement already satisfied: requests<3,>=2 in /usr/local/lib/python3.10/dist-packages (from langchain) (2.31.0)\n",
            "Requirement already satisfied: tenacity<9.0.0,>=8.1.0 in /usr/local/lib/python3.10/dist-packages (from langchain) (8.2.3)\n",
            "Requirement already satisfied: typing-extensions>=4.2.0 in /usr/local/lib/python3.10/dist-packages (from pydantic) (4.5.0)\n",
            "Requirement already satisfied: anyio<5,>=3.5.0 in /usr/local/lib/python3.10/dist-packages (from openai) (3.7.1)\n",
            "Requirement already satisfied: distro<2,>=1.7.0 in /usr/lib/python3/dist-packages (from openai) (1.7.0)\n",
            "Collecting httpx<1,>=0.23.0 (from openai)\n",
            "  Downloading httpx-0.25.2-py3-none-any.whl (74 kB)\n",
            "\u001b[2K     \u001b[90m━━━━━━━━━━━━━━━━━━━━━━━━━━━━━━━━━━━━━━━━\u001b[0m \u001b[32m75.0/75.0 kB\u001b[0m \u001b[31m8.5 MB/s\u001b[0m eta \u001b[36m0:00:00\u001b[0m\n",
            "\u001b[?25hRequirement already satisfied: sniffio in /usr/local/lib/python3.10/dist-packages (from openai) (1.3.0)\n",
            "Requirement already satisfied: tqdm>4 in /usr/local/lib/python3.10/dist-packages (from openai) (4.66.1)\n",
            "Collecting chroma-hnswlib==0.7.3 (from chromadb)\n",
            "  Downloading chroma_hnswlib-0.7.3-cp310-cp310-manylinux_2_17_x86_64.manylinux2014_x86_64.whl (2.4 MB)\n",
            "\u001b[2K     \u001b[90m━━━━━━━━━━━━━━━━━━━━━━━━━━━━━━━━━━━━━━━━\u001b[0m \u001b[32m2.4/2.4 MB\u001b[0m \u001b[31m33.7 MB/s\u001b[0m eta \u001b[36m0:00:00\u001b[0m\n",
            "\u001b[?25hCollecting fastapi>=0.95.2 (from chromadb)\n",
            "  Downloading fastapi-0.105.0-py3-none-any.whl (93 kB)\n",
            "\u001b[2K     \u001b[90m━━━━━━━━━━━━━━━━━━━━━━━━━━━━━━━━━━━━━━━━\u001b[0m \u001b[32m93.1/93.1 kB\u001b[0m \u001b[31m9.4 MB/s\u001b[0m eta \u001b[36m0:00:00\u001b[0m\n",
            "\u001b[?25hCollecting uvicorn[standard]>=0.18.3 (from chromadb)\n",
            "  Downloading uvicorn-0.24.0.post1-py3-none-any.whl (59 kB)\n",
            "\u001b[2K     \u001b[90m━━━━━━━━━━━━━━━━━━━━━━━━━━━━━━━━━━━━━━━━\u001b[0m \u001b[32m59.7/59.7 kB\u001b[0m \u001b[31m6.9 MB/s\u001b[0m eta \u001b[36m0:00:00\u001b[0m\n",
            "\u001b[?25hCollecting posthog>=2.4.0 (from chromadb)\n",
            "  Downloading posthog-3.1.0-py2.py3-none-any.whl (37 kB)\n",
            "Collecting pulsar-client>=3.1.0 (from chromadb)\n",
            "  Downloading pulsar_client-3.3.0-cp310-cp310-manylinux_2_17_x86_64.manylinux2014_x86_64.whl (5.4 MB)\n",
            "\u001b[2K     \u001b[90m━━━━━━━━━━━━━━━━━━━━━━━━━━━━━━━━━━━━━━━━\u001b[0m \u001b[32m5.4/5.4 MB\u001b[0m \u001b[31m47.2 MB/s\u001b[0m eta \u001b[36m0:00:00\u001b[0m\n",
            "\u001b[?25hCollecting onnxruntime>=1.14.1 (from chromadb)\n",
            "  Downloading onnxruntime-1.16.3-cp310-cp310-manylinux_2_17_x86_64.manylinux2014_x86_64.whl (6.4 MB)\n",
            "\u001b[2K     \u001b[90m━━━━━━━━━━━━━━━━━━━━━━━━━━━━━━━━━━━━━━━━\u001b[0m \u001b[32m6.4/6.4 MB\u001b[0m \u001b[31m61.9 MB/s\u001b[0m eta \u001b[36m0:00:00\u001b[0m\n",
            "\u001b[?25hCollecting opentelemetry-api>=1.2.0 (from chromadb)\n",
            "  Downloading opentelemetry_api-1.21.0-py3-none-any.whl (57 kB)\n",
            "\u001b[2K     \u001b[90m━━━━━━━━━━━━━━━━━━━━━━━━━━━━━━━━━━━━━━━━\u001b[0m \u001b[32m57.9/57.9 kB\u001b[0m \u001b[31m9.1 MB/s\u001b[0m eta \u001b[36m0:00:00\u001b[0m\n",
            "\u001b[?25hCollecting opentelemetry-exporter-otlp-proto-grpc>=1.2.0 (from chromadb)\n",
            "  Downloading opentelemetry_exporter_otlp_proto_grpc-1.21.0-py3-none-any.whl (18 kB)\n",
            "Collecting opentelemetry-instrumentation-fastapi>=0.41b0 (from chromadb)\n",
            "  Downloading opentelemetry_instrumentation_fastapi-0.42b0-py3-none-any.whl (11 kB)\n",
            "Collecting opentelemetry-sdk>=1.2.0 (from chromadb)\n",
            "  Downloading opentelemetry_sdk-1.21.0-py3-none-any.whl (105 kB)\n",
            "\u001b[2K     \u001b[90m━━━━━━━━━━━━━━━━━━━━━━━━━━━━━━━━━━━━━━━━\u001b[0m \u001b[32m105.3/105.3 kB\u001b[0m \u001b[31m14.6 MB/s\u001b[0m eta \u001b[36m0:00:00\u001b[0m\n",
            "\u001b[?25hRequirement already satisfied: tokenizers>=0.13.2 in /usr/local/lib/python3.10/dist-packages (from chromadb) (0.15.0)\n",
            "Collecting pypika>=0.48.9 (from chromadb)\n",
            "  Downloading PyPika-0.48.9.tar.gz (67 kB)\n",
            "\u001b[2K     \u001b[90m━━━━━━━━━━━━━━━━━━━━━━━━━━━━━━━━━━━━━━━━\u001b[0m \u001b[32m67.3/67.3 kB\u001b[0m \u001b[31m8.6 MB/s\u001b[0m eta \u001b[36m0:00:00\u001b[0m\n",
            "\u001b[?25h  Installing build dependencies ... \u001b[?25l\u001b[?25hdone\n",
            "  Getting requirements to build wheel ... \u001b[?25l\u001b[?25hdone\n",
            "  Preparing metadata (pyproject.toml) ... \u001b[?25l\u001b[?25hdone\n",
            "Collecting overrides>=7.3.1 (from chromadb)\n",
            "  Downloading overrides-7.4.0-py3-none-any.whl (17 kB)\n",
            "Requirement already satisfied: importlib-resources in /usr/local/lib/python3.10/dist-packages (from chromadb) (6.1.1)\n",
            "Requirement already satisfied: grpcio>=1.58.0 in /usr/local/lib/python3.10/dist-packages (from chromadb) (1.59.3)\n",
            "Collecting bcrypt>=4.0.1 (from chromadb)\n",
            "  Downloading bcrypt-4.1.1-cp37-abi3-manylinux_2_28_x86_64.whl (699 kB)\n",
            "\u001b[2K     \u001b[90m━━━━━━━━━━━━━━━━━━━━━━━━━━━━━━━━━━━━━━━━\u001b[0m \u001b[32m699.4/699.4 kB\u001b[0m \u001b[31m36.4 MB/s\u001b[0m eta \u001b[36m0:00:00\u001b[0m\n",
            "\u001b[?25hRequirement already satisfied: typer>=0.9.0 in /usr/local/lib/python3.10/dist-packages (from chromadb) (0.9.0)\n",
            "Collecting kubernetes>=28.1.0 (from chromadb)\n",
            "  Downloading kubernetes-28.1.0-py2.py3-none-any.whl (1.6 MB)\n",
            "\u001b[2K     \u001b[90m━━━━━━━━━━━━━━━━━━━━━━━━━━━━━━━━━━━━━━━━\u001b[0m \u001b[32m1.6/1.6 MB\u001b[0m \u001b[31m55.2 MB/s\u001b[0m eta \u001b[36m0:00:00\u001b[0m\n",
            "\u001b[?25hCollecting mmh3>=4.0.1 (from chromadb)\n",
            "  Downloading mmh3-4.0.1-cp310-cp310-manylinux_2_5_x86_64.manylinux1_x86_64.manylinux_2_17_x86_64.manylinux2014_x86_64.whl (72 kB)\n",
            "\u001b[2K     \u001b[90m━━━━━━━━━━━━━━━━━━━━━━━━━━━━━━━━━━━━━━━━\u001b[0m \u001b[32m72.6/72.6 kB\u001b[0m \u001b[31m8.2 MB/s\u001b[0m eta \u001b[36m0:00:00\u001b[0m\n",
            "\u001b[?25hRequirement already satisfied: regex>=2022.1.18 in /usr/local/lib/python3.10/dist-packages (from tiktoken) (2023.6.3)\n",
            "Requirement already satisfied: attrs>=17.3.0 in /usr/local/lib/python3.10/dist-packages (from aiohttp<4.0.0,>=3.8.3->langchain) (23.1.0)\n",
            "Requirement already satisfied: multidict<7.0,>=4.5 in /usr/local/lib/python3.10/dist-packages (from aiohttp<4.0.0,>=3.8.3->langchain) (6.0.4)\n",
            "Requirement already satisfied: yarl<2.0,>=1.0 in /usr/local/lib/python3.10/dist-packages (from aiohttp<4.0.0,>=3.8.3->langchain) (1.9.3)\n",
            "Requirement already satisfied: frozenlist>=1.1.1 in /usr/local/lib/python3.10/dist-packages (from aiohttp<4.0.0,>=3.8.3->langchain) (1.4.0)\n",
            "Requirement already satisfied: aiosignal>=1.1.2 in /usr/local/lib/python3.10/dist-packages (from aiohttp<4.0.0,>=3.8.3->langchain) (1.3.1)\n",
            "Requirement already satisfied: idna>=2.8 in /usr/local/lib/python3.10/dist-packages (from anyio<5,>=3.5.0->openai) (3.6)\n",
            "Requirement already satisfied: exceptiongroup in /usr/local/lib/python3.10/dist-packages (from anyio<5,>=3.5.0->openai) (1.2.0)\n",
            "Collecting marshmallow<4.0.0,>=3.18.0 (from dataclasses-json<0.7,>=0.5.7->langchain)\n",
            "  Downloading marshmallow-3.20.1-py3-none-any.whl (49 kB)\n",
            "\u001b[2K     \u001b[90m━━━━━━━━━━━━━━━━━━━━━━━━━━━━━━━━━━━━━━━━\u001b[0m \u001b[32m49.4/49.4 kB\u001b[0m \u001b[31m6.0 MB/s\u001b[0m eta \u001b[36m0:00:00\u001b[0m\n",
            "\u001b[?25hCollecting typing-inspect<1,>=0.4.0 (from dataclasses-json<0.7,>=0.5.7->langchain)\n",
            "  Downloading typing_inspect-0.9.0-py3-none-any.whl (8.8 kB)\n",
            "Collecting starlette<0.28.0,>=0.27.0 (from fastapi>=0.95.2->chromadb)\n",
            "  Downloading starlette-0.27.0-py3-none-any.whl (66 kB)\n",
            "\u001b[2K     \u001b[90m━━━━━━━━━━━━━━━━━━━━━━━━━━━━━━━━━━━━━━━━\u001b[0m \u001b[32m67.0/67.0 kB\u001b[0m \u001b[31m8.2 MB/s\u001b[0m eta \u001b[36m0:00:00\u001b[0m\n",
            "\u001b[?25hCollecting typing-extensions>=4.2.0 (from pydantic)\n",
            "  Downloading typing_extensions-4.9.0-py3-none-any.whl (32 kB)\n",
            "Requirement already satisfied: certifi in /usr/local/lib/python3.10/dist-packages (from httpx<1,>=0.23.0->openai) (2023.11.17)\n",
            "Collecting httpcore==1.* (from httpx<1,>=0.23.0->openai)\n",
            "  Downloading httpcore-1.0.2-py3-none-any.whl (76 kB)\n",
            "\u001b[2K     \u001b[90m━━━━━━━━━━━━━━━━━━━━━━━━━━━━━━━━━━━━━━━━\u001b[0m \u001b[32m76.9/76.9 kB\u001b[0m \u001b[31m9.0 MB/s\u001b[0m eta \u001b[36m0:00:00\u001b[0m\n",
            "\u001b[?25hCollecting h11<0.15,>=0.13 (from httpcore==1.*->httpx<1,>=0.23.0->openai)\n",
            "  Downloading h11-0.14.0-py3-none-any.whl (58 kB)\n",
            "\u001b[2K     \u001b[90m━━━━━━━━━━━━━━━━━━━━━━━━━━━━━━━━━━━━━━━━\u001b[0m \u001b[32m58.3/58.3 kB\u001b[0m \u001b[31m6.7 MB/s\u001b[0m eta \u001b[36m0:00:00\u001b[0m\n",
            "\u001b[?25hCollecting jsonpointer>=1.9 (from jsonpatch<2.0,>=1.33->langchain)\n",
            "  Downloading jsonpointer-2.4-py2.py3-none-any.whl (7.8 kB)\n",
            "Requirement already satisfied: six>=1.9.0 in /usr/local/lib/python3.10/dist-packages (from kubernetes>=28.1.0->chromadb) (1.16.0)\n",
            "Requirement already satisfied: python-dateutil>=2.5.3 in /usr/local/lib/python3.10/dist-packages (from kubernetes>=28.1.0->chromadb) (2.8.2)\n",
            "Requirement already satisfied: google-auth>=1.0.1 in /usr/local/lib/python3.10/dist-packages (from kubernetes>=28.1.0->chromadb) (2.17.3)\n",
            "Requirement already satisfied: websocket-client!=0.40.0,!=0.41.*,!=0.42.*,>=0.32.0 in /usr/local/lib/python3.10/dist-packages (from kubernetes>=28.1.0->chromadb) (1.7.0)\n",
            "Requirement already satisfied: requests-oauthlib in /usr/local/lib/python3.10/dist-packages (from kubernetes>=28.1.0->chromadb) (1.3.1)\n",
            "Requirement already satisfied: oauthlib>=3.2.2 in /usr/local/lib/python3.10/dist-packages (from kubernetes>=28.1.0->chromadb) (3.2.2)\n",
            "Collecting urllib3<2.0,>=1.24.2 (from kubernetes>=28.1.0->chromadb)\n",
            "  Downloading urllib3-1.26.18-py2.py3-none-any.whl (143 kB)\n",
            "\u001b[2K     \u001b[90m━━━━━━━━━━━━━━━━━━━━━━━━━━━━━━━━━━━━━━━━\u001b[0m \u001b[32m143.8/143.8 kB\u001b[0m \u001b[31m14.3 MB/s\u001b[0m eta \u001b[36m0:00:00\u001b[0m\n",
            "\u001b[?25hRequirement already satisfied: packaging<24.0,>=23.2 in /usr/local/lib/python3.10/dist-packages (from langchain-core<0.2,>=0.1->langchain) (23.2)\n",
            "Collecting coloredlogs (from onnxruntime>=1.14.1->chromadb)\n",
            "  Downloading coloredlogs-15.0.1-py2.py3-none-any.whl (46 kB)\n",
            "\u001b[2K     \u001b[90m━━━━━━━━━━━━━━━━━━━━━━━━━━━━━━━━━━━━━━━━\u001b[0m \u001b[32m46.0/46.0 kB\u001b[0m \u001b[31m5.6 MB/s\u001b[0m eta \u001b[36m0:00:00\u001b[0m\n",
            "\u001b[?25hRequirement already satisfied: flatbuffers in /usr/local/lib/python3.10/dist-packages (from onnxruntime>=1.14.1->chromadb) (23.5.26)\n",
            "Requirement already satisfied: protobuf in /usr/local/lib/python3.10/dist-packages (from onnxruntime>=1.14.1->chromadb) (3.20.3)\n",
            "Requirement already satisfied: sympy in /usr/local/lib/python3.10/dist-packages (from onnxruntime>=1.14.1->chromadb) (1.12)\n",
            "Collecting deprecated>=1.2.6 (from opentelemetry-api>=1.2.0->chromadb)\n",
            "  Downloading Deprecated-1.2.14-py2.py3-none-any.whl (9.6 kB)\n",
            "Collecting importlib-metadata<7.0,>=6.0 (from opentelemetry-api>=1.2.0->chromadb)\n",
            "  Downloading importlib_metadata-6.11.0-py3-none-any.whl (23 kB)\n",
            "Collecting backoff<3.0.0,>=1.10.0 (from opentelemetry-exporter-otlp-proto-grpc>=1.2.0->chromadb)\n",
            "  Downloading backoff-2.2.1-py3-none-any.whl (15 kB)\n",
            "Requirement already satisfied: googleapis-common-protos~=1.52 in /usr/local/lib/python3.10/dist-packages (from opentelemetry-exporter-otlp-proto-grpc>=1.2.0->chromadb) (1.61.0)\n",
            "Collecting opentelemetry-exporter-otlp-proto-common==1.21.0 (from opentelemetry-exporter-otlp-proto-grpc>=1.2.0->chromadb)\n",
            "  Downloading opentelemetry_exporter_otlp_proto_common-1.21.0-py3-none-any.whl (17 kB)\n",
            "Collecting opentelemetry-proto==1.21.0 (from opentelemetry-exporter-otlp-proto-grpc>=1.2.0->chromadb)\n",
            "  Downloading opentelemetry_proto-1.21.0-py3-none-any.whl (50 kB)\n",
            "\u001b[2K     \u001b[90m━━━━━━━━━━━━━━━━━━━━━━━━━━━━━━━━━━━━━━━━\u001b[0m \u001b[32m50.8/50.8 kB\u001b[0m \u001b[31m6.1 MB/s\u001b[0m eta \u001b[36m0:00:00\u001b[0m\n",
            "\u001b[?25hCollecting opentelemetry-instrumentation-asgi==0.42b0 (from opentelemetry-instrumentation-fastapi>=0.41b0->chromadb)\n",
            "  Downloading opentelemetry_instrumentation_asgi-0.42b0-py3-none-any.whl (13 kB)\n",
            "Collecting opentelemetry-instrumentation==0.42b0 (from opentelemetry-instrumentation-fastapi>=0.41b0->chromadb)\n",
            "  Downloading opentelemetry_instrumentation-0.42b0-py3-none-any.whl (25 kB)\n",
            "Collecting opentelemetry-semantic-conventions==0.42b0 (from opentelemetry-instrumentation-fastapi>=0.41b0->chromadb)\n",
            "  Downloading opentelemetry_semantic_conventions-0.42b0-py3-none-any.whl (36 kB)\n",
            "Collecting opentelemetry-util-http==0.42b0 (from opentelemetry-instrumentation-fastapi>=0.41b0->chromadb)\n",
            "  Downloading opentelemetry_util_http-0.42b0-py3-none-any.whl (6.9 kB)\n",
            "Requirement already satisfied: setuptools>=16.0 in /usr/local/lib/python3.10/dist-packages (from opentelemetry-instrumentation==0.42b0->opentelemetry-instrumentation-fastapi>=0.41b0->chromadb) (67.7.2)\n",
            "Requirement already satisfied: wrapt<2.0.0,>=1.0.0 in /usr/local/lib/python3.10/dist-packages (from opentelemetry-instrumentation==0.42b0->opentelemetry-instrumentation-fastapi>=0.41b0->chromadb) (1.14.1)\n",
            "Collecting asgiref~=3.0 (from opentelemetry-instrumentation-asgi==0.42b0->opentelemetry-instrumentation-fastapi>=0.41b0->chromadb)\n",
            "  Downloading asgiref-3.7.2-py3-none-any.whl (24 kB)\n",
            "Collecting monotonic>=1.5 (from posthog>=2.4.0->chromadb)\n",
            "  Downloading monotonic-1.6-py2.py3-none-any.whl (8.2 kB)\n",
            "Requirement already satisfied: charset-normalizer<4,>=2 in /usr/local/lib/python3.10/dist-packages (from requests<3,>=2->langchain) (3.3.2)\n",
            "Requirement already satisfied: greenlet!=0.4.17 in /usr/local/lib/python3.10/dist-packages (from SQLAlchemy<3,>=1.4->langchain) (3.0.1)\n",
            "Requirement already satisfied: huggingface_hub<1.0,>=0.16.4 in /usr/local/lib/python3.10/dist-packages (from tokenizers>=0.13.2->chromadb) (0.19.4)\n",
            "Requirement already satisfied: click<9.0.0,>=7.1.1 in /usr/local/lib/python3.10/dist-packages (from typer>=0.9.0->chromadb) (8.1.7)\n",
            "Collecting httptools>=0.5.0 (from uvicorn[standard]>=0.18.3->chromadb)\n",
            "  Downloading httptools-0.6.1-cp310-cp310-manylinux_2_5_x86_64.manylinux1_x86_64.manylinux_2_17_x86_64.manylinux2014_x86_64.whl (341 kB)\n",
            "\u001b[2K     \u001b[90m━━━━━━━━━━━━━━━━━━━━━━━━━━━━━━━━━━━━━━━━\u001b[0m \u001b[32m341.4/341.4 kB\u001b[0m \u001b[31m35.9 MB/s\u001b[0m eta \u001b[36m0:00:00\u001b[0m\n",
            "\u001b[?25hCollecting python-dotenv>=0.13 (from uvicorn[standard]>=0.18.3->chromadb)\n",
            "  Downloading python_dotenv-1.0.0-py3-none-any.whl (19 kB)\n",
            "Collecting uvloop!=0.15.0,!=0.15.1,>=0.14.0 (from uvicorn[standard]>=0.18.3->chromadb)\n",
            "  Downloading uvloop-0.19.0-cp310-cp310-manylinux_2_17_x86_64.manylinux2014_x86_64.whl (3.4 MB)\n",
            "\u001b[2K     \u001b[90m━━━━━━━━━━━━━━━━━━━━━━━━━━━━━━━━━━━━━━━━\u001b[0m \u001b[32m3.4/3.4 MB\u001b[0m \u001b[31m84.7 MB/s\u001b[0m eta \u001b[36m0:00:00\u001b[0m\n",
            "\u001b[?25hCollecting watchfiles>=0.13 (from uvicorn[standard]>=0.18.3->chromadb)\n",
            "  Downloading watchfiles-0.21.0-cp310-cp310-manylinux_2_17_x86_64.manylinux2014_x86_64.whl (1.3 MB)\n",
            "\u001b[2K     \u001b[90m━━━━━━━━━━━━━━━━━━━━━━━━━━━━━━━━━━━━━━━━\u001b[0m \u001b[32m1.3/1.3 MB\u001b[0m \u001b[31m51.1 MB/s\u001b[0m eta \u001b[36m0:00:00\u001b[0m\n",
            "\u001b[?25hCollecting websockets>=10.4 (from uvicorn[standard]>=0.18.3->chromadb)\n",
            "  Downloading websockets-12.0-cp310-cp310-manylinux_2_5_x86_64.manylinux1_x86_64.manylinux_2_17_x86_64.manylinux2014_x86_64.whl (130 kB)\n",
            "\u001b[2K     \u001b[90m━━━━━━━━━━━━━━━━━━━━━━━━━━━━━━━━━━━━━━━━\u001b[0m \u001b[32m130.2/130.2 kB\u001b[0m \u001b[31m15.1 MB/s\u001b[0m eta \u001b[36m0:00:00\u001b[0m\n",
            "\u001b[?25hRequirement already satisfied: cachetools<6.0,>=2.0.0 in /usr/local/lib/python3.10/dist-packages (from google-auth>=1.0.1->kubernetes>=28.1.0->chromadb) (5.3.2)\n",
            "Requirement already satisfied: pyasn1-modules>=0.2.1 in /usr/local/lib/python3.10/dist-packages (from google-auth>=1.0.1->kubernetes>=28.1.0->chromadb) (0.3.0)\n",
            "Requirement already satisfied: rsa<5,>=3.1.4 in /usr/local/lib/python3.10/dist-packages (from google-auth>=1.0.1->kubernetes>=28.1.0->chromadb) (4.9)\n",
            "Requirement already satisfied: filelock in /usr/local/lib/python3.10/dist-packages (from huggingface_hub<1.0,>=0.16.4->tokenizers>=0.13.2->chromadb) (3.13.1)\n",
            "Requirement already satisfied: fsspec>=2023.5.0 in /usr/local/lib/python3.10/dist-packages (from huggingface_hub<1.0,>=0.16.4->tokenizers>=0.13.2->chromadb) (2023.6.0)\n",
            "Requirement already satisfied: zipp>=0.5 in /usr/local/lib/python3.10/dist-packages (from importlib-metadata<7.0,>=6.0->opentelemetry-api>=1.2.0->chromadb) (3.17.0)\n",
            "Collecting mypy-extensions>=0.3.0 (from typing-inspect<1,>=0.4.0->dataclasses-json<0.7,>=0.5.7->langchain)\n",
            "  Downloading mypy_extensions-1.0.0-py3-none-any.whl (4.7 kB)\n",
            "Collecting humanfriendly>=9.1 (from coloredlogs->onnxruntime>=1.14.1->chromadb)\n",
            "  Downloading humanfriendly-10.0-py2.py3-none-any.whl (86 kB)\n",
            "\u001b[2K     \u001b[90m━━━━━━━━━━━━━━━━━━━━━━━━━━━━━━━━━━━━━━━━\u001b[0m \u001b[32m86.8/86.8 kB\u001b[0m \u001b[31m10.2 MB/s\u001b[0m eta \u001b[36m0:00:00\u001b[0m\n",
            "\u001b[?25hRequirement already satisfied: mpmath>=0.19 in /usr/local/lib/python3.10/dist-packages (from sympy->onnxruntime>=1.14.1->chromadb) (1.3.0)\n",
            "Requirement already satisfied: pyasn1<0.6.0,>=0.4.6 in /usr/local/lib/python3.10/dist-packages (from pyasn1-modules>=0.2.1->google-auth>=1.0.1->kubernetes>=28.1.0->chromadb) (0.5.1)\n",
            "Building wheels for collected packages: pypika\n",
            "  Building wheel for pypika (pyproject.toml) ... \u001b[?25l\u001b[?25hdone\n",
            "  Created wheel for pypika: filename=PyPika-0.48.9-py2.py3-none-any.whl size=53723 sha256=c959e992ff3dd983d09e34c61cf6b8841df08ce925386bd29a206c579414030d\n",
            "  Stored in directory: /root/.cache/pip/wheels/e1/26/51/d0bffb3d2fd82256676d7ad3003faea3bd6dddc9577af665f4\n",
            "Successfully built pypika\n",
            "Installing collected packages: pypika, monotonic, mmh3, websockets, uvloop, urllib3, typing-extensions, python-dotenv, pulsar-client, overrides, opentelemetry-util-http, opentelemetry-semantic-conventions, opentelemetry-proto, mypy-extensions, marshmallow, jsonpointer, importlib-metadata, humanfriendly, httptools, h11, deprecated, chroma-hnswlib, bcrypt, backoff, watchfiles, uvicorn, typing-inspect, starlette, opentelemetry-exporter-otlp-proto-common, opentelemetry-api, jsonpatch, httpcore, coloredlogs, asgiref, tiktoken, posthog, opentelemetry-sdk, opentelemetry-instrumentation, onnxruntime, langsmith, httpx, fastapi, dataclasses-json, opentelemetry-instrumentation-asgi, opentelemetry-exporter-otlp-proto-grpc, openai, langchain-core, kubernetes, opentelemetry-instrumentation-fastapi, langchain-community, langchain, chromadb\n",
            "  Attempting uninstall: urllib3\n",
            "    Found existing installation: urllib3 2.0.7\n",
            "    Uninstalling urllib3-2.0.7:\n",
            "      Successfully uninstalled urllib3-2.0.7\n",
            "  Attempting uninstall: typing-extensions\n",
            "    Found existing installation: typing_extensions 4.5.0\n",
            "    Uninstalling typing_extensions-4.5.0:\n",
            "      Successfully uninstalled typing_extensions-4.5.0\n",
            "  Attempting uninstall: importlib-metadata\n",
            "    Found existing installation: importlib-metadata 7.0.0\n",
            "    Uninstalling importlib-metadata-7.0.0:\n",
            "      Successfully uninstalled importlib-metadata-7.0.0\n",
            "\u001b[31mERROR: pip's dependency resolver does not currently take into account all the packages that are installed. This behaviour is the source of the following dependency conflicts.\n",
            "lida 0.0.10 requires kaleido, which is not installed.\n",
            "lida 0.0.10 requires python-multipart, which is not installed.\n",
            "llmx 0.0.15a0 requires cohere, which is not installed.\n",
            "tensorflow-probability 0.22.0 requires typing-extensions<4.6.0, but you have typing-extensions 4.9.0 which is incompatible.\u001b[0m\u001b[31m\n",
            "\u001b[0mSuccessfully installed asgiref-3.7.2 backoff-2.2.1 bcrypt-4.1.1 chroma-hnswlib-0.7.3 chromadb-0.4.19 coloredlogs-15.0.1 dataclasses-json-0.6.3 deprecated-1.2.14 fastapi-0.105.0 h11-0.14.0 httpcore-1.0.2 httptools-0.6.1 httpx-0.25.2 humanfriendly-10.0 importlib-metadata-6.11.0 jsonpatch-1.33 jsonpointer-2.4 kubernetes-28.1.0 langchain-0.0.350 langchain-community-0.0.3 langchain-core-0.1.0 langsmith-0.0.70 marshmallow-3.20.1 mmh3-4.0.1 monotonic-1.6 mypy-extensions-1.0.0 onnxruntime-1.16.3 openai-1.3.9 opentelemetry-api-1.21.0 opentelemetry-exporter-otlp-proto-common-1.21.0 opentelemetry-exporter-otlp-proto-grpc-1.21.0 opentelemetry-instrumentation-0.42b0 opentelemetry-instrumentation-asgi-0.42b0 opentelemetry-instrumentation-fastapi-0.42b0 opentelemetry-proto-1.21.0 opentelemetry-sdk-1.21.0 opentelemetry-semantic-conventions-0.42b0 opentelemetry-util-http-0.42b0 overrides-7.4.0 posthog-3.1.0 pulsar-client-3.3.0 pypika-0.48.9 python-dotenv-1.0.0 starlette-0.27.0 tiktoken-0.5.2 typing-extensions-4.9.0 typing-inspect-0.9.0 urllib3-1.26.18 uvicorn-0.24.0.post1 uvloop-0.19.0 watchfiles-0.21.0 websockets-12.0\n"
          ]
        }
      ],
      "source": [
        "! pip install langchain pydantic lxml openai chromadb tiktoken"
      ]
    },
    {
      "cell_type": "code",
      "source": [
        "# Install Requirements\n",
        "!apt-get -qq install poppler-utils tesseract-ocr\n",
        "# Upgrade Pillow to latest version\n",
        "%pip install -q --user --upgrade pillow\n",
        "# Install Python Packages\n",
        "%pip install -q unstructured[\"all-docs\"]==0.11.2\n",
        "# NOTE: you may also upgrade to the latest version with the command below,\n",
        "#       though a more recent version of unstructured will not have been tested with this notebook\n",
        "%pip install -q --upgrade unstructured"
      ],
      "metadata": {
        "colab": {
          "base_uri": "https://localhost:8080/"
        },
        "id": "O8efyny7OY09",
        "outputId": "19085f4f-214d-4e3a-e895-97d54579929a"
      },
      "execution_count": null,
      "outputs": [
        {
          "output_type": "stream",
          "name": "stdout",
          "text": [
            "Selecting previously unselected package poppler-utils.\n",
            "(Reading database ... 120903 files and directories currently installed.)\n",
            "Preparing to unpack .../poppler-utils_22.02.0-2ubuntu0.3_amd64.deb ...\n",
            "Unpacking poppler-utils (22.02.0-2ubuntu0.3) ...\n",
            "Selecting previously unselected package tesseract-ocr-eng.\n",
            "Preparing to unpack .../tesseract-ocr-eng_1%3a4.00~git30-7274cfa-1.1_all.deb ...\n",
            "Unpacking tesseract-ocr-eng (1:4.00~git30-7274cfa-1.1) ...\n",
            "Selecting previously unselected package tesseract-ocr-osd.\n",
            "Preparing to unpack .../tesseract-ocr-osd_1%3a4.00~git30-7274cfa-1.1_all.deb ...\n",
            "Unpacking tesseract-ocr-osd (1:4.00~git30-7274cfa-1.1) ...\n",
            "Selecting previously unselected package tesseract-ocr.\n",
            "Preparing to unpack .../tesseract-ocr_4.1.1-2.1build1_amd64.deb ...\n",
            "Unpacking tesseract-ocr (4.1.1-2.1build1) ...\n",
            "Setting up tesseract-ocr-eng (1:4.00~git30-7274cfa-1.1) ...\n",
            "Setting up tesseract-ocr-osd (1:4.00~git30-7274cfa-1.1) ...\n",
            "Setting up poppler-utils (22.02.0-2ubuntu0.3) ...\n",
            "Setting up tesseract-ocr (4.1.1-2.1build1) ...\n",
            "Processing triggers for man-db (2.10.2-1) ...\n",
            "\u001b[2K     \u001b[90m━━━━━━━━━━━━━━━━━━━━━━━━━━━━━━━━━━━━━━━━\u001b[0m \u001b[32m3.6/3.6 MB\u001b[0m \u001b[31m11.3 MB/s\u001b[0m eta \u001b[36m0:00:00\u001b[0m\n",
            "\u001b[?25h\u001b[31mERROR: pip's dependency resolver does not currently take into account all the packages that are installed. This behaviour is the source of the following dependency conflicts.\n",
            "imageio 2.31.6 requires pillow<10.1.0,>=8.3.2, but you have pillow 10.1.0 which is incompatible.\u001b[0m\u001b[31m\n",
            "\u001b[2K     \u001b[90m━━━━━━━━━━━━━━━━━━━━━━━━━━━━━━━━━━━━━━━━\u001b[0m \u001b[32m1.7/1.7 MB\u001b[0m \u001b[31m8.3 MB/s\u001b[0m eta \u001b[36m0:00:00\u001b[0m\n",
            "\u001b[2K     \u001b[90m━━━━━━━━━━━━━━━━━━━━━━━━━━━━━━━━━━━━━━━━\u001b[0m \u001b[32m397.5/397.5 kB\u001b[0m \u001b[31m13.7 MB/s\u001b[0m eta \u001b[36m0:00:00\u001b[0m\n",
            "\u001b[2K     \u001b[90m━━━━━━━━━━━━━━━━━━━━━━━━━━━━━━━━━━━━━━━━\u001b[0m \u001b[32m275.1/275.1 kB\u001b[0m \u001b[31m13.7 MB/s\u001b[0m eta \u001b[36m0:00:00\u001b[0m\n",
            "\u001b[2K     \u001b[90m━━━━━━━━━━━━━━━━━━━━━━━━━━━━━━━━━━━━━━━━\u001b[0m \u001b[32m981.5/981.5 kB\u001b[0m \u001b[31m18.6 MB/s\u001b[0m eta \u001b[36m0:00:00\u001b[0m\n",
            "\u001b[?25h  Preparing metadata (setup.py) ... \u001b[?25l\u001b[?25hdone\n",
            "\u001b[2K     \u001b[90m━━━━━━━━━━━━━━━━━━━━━━━━━━━━━━━━━━━━━━━━\u001b[0m \u001b[32m3.3/3.3 MB\u001b[0m \u001b[31m29.4 MB/s\u001b[0m eta \u001b[36m0:00:00\u001b[0m\n",
            "\u001b[2K     \u001b[90m━━━━━━━━━━━━━━━━━━━━━━━━━━━━━━━━━━━━━━━━\u001b[0m \u001b[32m239.6/239.6 kB\u001b[0m \u001b[31m23.6 MB/s\u001b[0m eta \u001b[36m0:00:00\u001b[0m\n",
            "\u001b[2K     \u001b[90m━━━━━━━━━━━━━━━━━━━━━━━━━━━━━━━━━━━━━━━━\u001b[0m \u001b[32m15.7/15.7 MB\u001b[0m \u001b[31m52.8 MB/s\u001b[0m eta \u001b[36m0:00:00\u001b[0m\n",
            "\u001b[2K     \u001b[90m━━━━━━━━━━━━━━━━━━━━━━━━━━━━━━━━━━━━━━━━\u001b[0m \u001b[32m277.9/277.9 kB\u001b[0m \u001b[31m2.9 MB/s\u001b[0m eta \u001b[36m0:00:00\u001b[0m\n",
            "\u001b[2K     \u001b[90m━━━━━━━━━━━━━━━━━━━━━━━━━━━━━━━━━━━━━━━━\u001b[0m \u001b[32m101.8/101.8 kB\u001b[0m \u001b[31m11.2 MB/s\u001b[0m eta \u001b[36m0:00:00\u001b[0m\n",
            "\u001b[2K     \u001b[90m━━━━━━━━━━━━━━━━━━━━━━━━━━━━━━━━━━━━━━━━\u001b[0m \u001b[32m5.6/5.6 MB\u001b[0m \u001b[31m68.3 MB/s\u001b[0m eta \u001b[36m0:00:00\u001b[0m\n",
            "\u001b[2K     \u001b[90m━━━━━━━━━━━━━━━━━━━━━━━━━━━━━━━━━━━━━━━━\u001b[0m \u001b[32m62.7/62.7 kB\u001b[0m \u001b[31m6.8 MB/s\u001b[0m eta \u001b[36m0:00:00\u001b[0m\n",
            "\u001b[2K     \u001b[90m━━━━━━━━━━━━━━━━━━━━━━━━━━━━━━━━━━━━━━━━\u001b[0m \u001b[32m2.3/2.3 MB\u001b[0m \u001b[31m63.4 MB/s\u001b[0m eta \u001b[36m0:00:00\u001b[0m\n",
            "\u001b[2K     \u001b[90m━━━━━━━━━━━━━━━━━━━━━━━━━━━━━━━━━━━━━━━━\u001b[0m \u001b[32m471.6/471.6 kB\u001b[0m \u001b[31m38.8 MB/s\u001b[0m eta \u001b[36m0:00:00\u001b[0m\n",
            "\u001b[2K     \u001b[90m━━━━━━━━━━━━━━━━━━━━━━━━━━━━━━━━━━━━━━━━\u001b[0m \u001b[32m19.2/19.2 MB\u001b[0m \u001b[31m55.8 MB/s\u001b[0m eta \u001b[36m0:00:00\u001b[0m\n",
            "\u001b[2K     \u001b[90m━━━━━━━━━━━━━━━━━━━━━━━━━━━━━━━━━━━━━━━━\u001b[0m \u001b[32m45.7/45.7 kB\u001b[0m \u001b[31m3.8 MB/s\u001b[0m eta \u001b[36m0:00:00\u001b[0m\n",
            "\u001b[2K     \u001b[90m━━━━━━━━━━━━━━━━━━━━━━━━━━━━━━━━━━━━━━━━\u001b[0m \u001b[32m5.9/5.9 MB\u001b[0m \u001b[31m91.2 MB/s\u001b[0m eta \u001b[36m0:00:00\u001b[0m\n",
            "\u001b[2K     \u001b[90m━━━━━━━━━━━━━━━━━━━━━━━━━━━━━━━━━━━━━━━━\u001b[0m \u001b[32m154.8/154.8 kB\u001b[0m \u001b[31m15.0 MB/s\u001b[0m eta \u001b[36m0:00:00\u001b[0m\n",
            "\u001b[2K     \u001b[90m━━━━━━━━━━━━━━━━━━━━━━━━━━━━━━━━━━━━━━━━\u001b[0m \u001b[32m114.6/114.6 kB\u001b[0m \u001b[31m11.7 MB/s\u001b[0m eta \u001b[36m0:00:00\u001b[0m\n",
            "\u001b[2K     \u001b[90m━━━━━━━━━━━━━━━━━━━━━━━━━━━━━━━━━━━━━━━━\u001b[0m \u001b[32m42.2/42.2 kB\u001b[0m \u001b[31m4.2 MB/s\u001b[0m eta \u001b[36m0:00:00\u001b[0m\n",
            "\u001b[?25h  Preparing metadata (setup.py) ... \u001b[?25l\u001b[?25hdone\n",
            "\u001b[2K     \u001b[90m━━━━━━━━━━━━━━━━━━━━━━━━━━━━━━━━━━━━━━━━\u001b[0m \u001b[32m49.0/49.0 kB\u001b[0m \u001b[31m5.8 MB/s\u001b[0m eta \u001b[36m0:00:00\u001b[0m\n",
            "\u001b[2K     \u001b[90m━━━━━━━━━━━━━━━━━━━━━━━━━━━━━━━━━━━━━━━━\u001b[0m \u001b[32m112.5/112.5 kB\u001b[0m \u001b[31m11.7 MB/s\u001b[0m eta \u001b[36m0:00:00\u001b[0m\n",
            "\u001b[2K     \u001b[90m━━━━━━━━━━━━━━━━━━━━━━━━━━━━━━━━━━━━━━━━\u001b[0m \u001b[32m2.2/2.2 MB\u001b[0m \u001b[31m55.5 MB/s\u001b[0m eta \u001b[36m0:00:00\u001b[0m\n",
            "\u001b[2K     \u001b[90m━━━━━━━━━━━━━━━━━━━━━━━━━━━━━━━━━━━━━━━━\u001b[0m \u001b[32m79.5/79.5 kB\u001b[0m \u001b[31m8.3 MB/s\u001b[0m eta \u001b[36m0:00:00\u001b[0m\n",
            "\u001b[2K     \u001b[90m━━━━━━━━━━━━━━━━━━━━━━━━━━━━━━━━━━━━━━━━\u001b[0m \u001b[32m3.0/3.0 MB\u001b[0m \u001b[31m54.1 MB/s\u001b[0m eta \u001b[36m0:00:00\u001b[0m\n",
            "\u001b[2K     \u001b[90m━━━━━━━━━━━━━━━━━━━━━━━━━━━━━━━━━━━━━━━━\u001b[0m \u001b[32m117.0/117.0 kB\u001b[0m \u001b[31m11.6 MB/s\u001b[0m eta \u001b[36m0:00:00\u001b[0m\n",
            "\u001b[?25h  Preparing metadata (setup.py) ... \u001b[?25l\u001b[?25hdone\n",
            "  Building wheel for langdetect (setup.py) ... \u001b[?25l\u001b[?25hdone\n",
            "  Building wheel for iopath (setup.py) ... \u001b[?25l\u001b[?25hdone\n",
            "  Building wheel for antlr4-python3-runtime (setup.py) ... \u001b[?25l\u001b[?25hdone\n",
            "\u001b[31mERROR: pip's dependency resolver does not currently take into account all the packages that are installed. This behaviour is the source of the following dependency conflicts.\n",
            "lida 0.0.10 requires kaleido, which is not installed.\u001b[0m\u001b[31m\n",
            "\u001b[0m"
          ]
        }
      ]
    },
    {
      "cell_type": "code",
      "source": [
        "# Install NLTK Data\n",
        "import nltk\n",
        "nltk.download('punkt')\n",
        "nltk.download('averaged_perceptron_tagger')"
      ],
      "metadata": {
        "colab": {
          "base_uri": "https://localhost:8080/"
        },
        "id": "iXEFTdHXUTE1",
        "outputId": "d8bc37e5-50f0-4c7e-9e08-44823a6525dd"
      },
      "execution_count": null,
      "outputs": [
        {
          "output_type": "stream",
          "name": "stderr",
          "text": [
            "[nltk_data] Downloading package punkt to /root/nltk_data...\n",
            "[nltk_data]   Unzipping tokenizers/punkt.zip.\n",
            "[nltk_data] Downloading package averaged_perceptron_tagger to\n",
            "[nltk_data]     /root/nltk_data...\n",
            "[nltk_data]   Unzipping taggers/averaged_perceptron_tagger.zip.\n"
          ]
        },
        {
          "output_type": "execute_result",
          "data": {
            "text/plain": [
              "True"
            ]
          },
          "metadata": {},
          "execution_count": 3
        }
      ]
    },
    {
      "cell_type": "code",
      "source": [
        "from typing import Any\n",
        "import os\n",
        "from unstructured.partition.pdf import partition_pdf\n",
        "import pytesseract\n",
        "import os"
      ],
      "metadata": {
        "id": "af8cCVbnMrah"
      },
      "execution_count": null,
      "outputs": []
    },
    {
      "cell_type": "code",
      "source": [
        "# pytesseract.pytesseract.tesseract_cmd = r'/usr/local/bin/pytesseract'"
      ],
      "metadata": {
        "id": "TL3-RaU1Nsdt"
      },
      "execution_count": null,
      "outputs": []
    },
    {
      "cell_type": "code",
      "source": [
        "input_path = os.getcwd()\n",
        "output_path = os.path.join(os.getcwd(), \"output\")\n",
        "\n",
        "# Get elements\n",
        "raw_pdf_elements = partition_pdf(\n",
        "    filename=os.path.join(input_path, \"lm386.pdf\"),\n",
        "    extract_images_in_pdf=True,\n",
        "    infer_table_structure=True,\n",
        "    chunking_strategy=\"by_title\",\n",
        "    max_characters=4000,\n",
        "    new_after_n_chars=3800,\n",
        "    combine_text_under_n_chars=2000,\n",
        "    image_output_dir_path=output_path,\n",
        ")"
      ],
      "metadata": {
        "colab": {
          "base_uri": "https://localhost:8080/",
          "height": 217,
          "referenced_widgets": [
            "338b12afa7f948debe9a1af432bdd002",
            "2a9d0063de28403c80af2c99bc28b9b3",
            "1b885fcb58024949b5a2f41ffda89996",
            "b04ad1d7dbbe4709884e7527b80d0b2f",
            "8b45a5c3f1fb44c49176be8b1939c4f8",
            "83ac3dfe3ddd43e0b2e3e8c3c1642ed3",
            "dceaf9ec2a154ac18f387fa7378d4450",
            "77b712bb0bde435784145dc9362ee1c9",
            "f2b6981e25b440b096ae6fb9d7ef3dd8",
            "98c6b594f3fb4cd99202bb03be80e4c1",
            "baa8213bbc0a4549a9679973f5c70b85",
            "a825ff88fcd64fa8976394cd4f0b402d",
            "b47e2d2f89f5401496cccaacd820016f",
            "dd987c7fb56341c180cc9cae44c96d00",
            "f72e93326ced46c0b6129804d71f8867",
            "656b81d19d60427f9d34bc4b6c1566bb",
            "7cd728f8c52b4de6957ab98b23dccdad",
            "5460aa0751bc4df0b316d520329f44c6",
            "046474ced9794b6ea18b8d523d02a66f",
            "35b0f3810b3a4d1b8633f580c45d590c",
            "8cbadd84362d4b75a0ba171c16cae3fe",
            "99a54e5775fd4a82b25a2a9d55a736a6",
            "599c1e865b574ae7b900e49fa7f380cb",
            "32a12821481c458281dd9791e5fc7014",
            "ecde70ad68a7401a93397c56cb8f2d69",
            "8671b541a6d34e61b710a419dd2c675b",
            "36283bf9ec2046f0b152ea0011b46e96",
            "53047d34a03c41d8ae1fbc828d71b39d",
            "9b33dbf16018428585e762e92f68563a",
            "e10efd48780f48bdb6b5f0ece7f1d9ae",
            "ec471058c37a43fba3c0c206d7636c3b",
            "0fea0917fe124035a76abf5bf2763c97",
            "37d48c7594064117b1ad84349ccdce39",
            "4f8ef36227ae46cea375ae5f92001ca4",
            "e8776d477362421683a3ae87426195fd",
            "06af939dc9ce46f9b2ae1c83f54b1849",
            "b0223eaf6ece4a2bb018d0041d2ba191",
            "907ffde1bc6140868fd1fd1770d5efba",
            "5b17969aea174f4f8286050c0a205373",
            "8f548e7b11aa434ca8d8ebad4c6dff2d",
            "d141a9654ade4ccc8dde52a0fb222c5b",
            "d107ee2f9f424041b76bb23763e792c4",
            "81bfc78d851f431c801c715db396d2de",
            "450c4d8578bf418c94cd84580d835cdd"
          ]
        },
        "id": "OjnTSzPoNhmN",
        "outputId": "1727f282-3e3f-49e4-ea25-596ea5e4c989"
      },
      "execution_count": null,
      "outputs": [
        {
          "output_type": "display_data",
          "data": {
            "text/plain": [
              "yolox_l0.05.onnx:   0%|          | 0.00/217M [00:00<?, ?B/s]"
            ],
            "application/vnd.jupyter.widget-view+json": {
              "version_major": 2,
              "version_minor": 0,
              "model_id": "338b12afa7f948debe9a1af432bdd002"
            }
          },
          "metadata": {}
        },
        {
          "output_type": "display_data",
          "data": {
            "text/plain": [
              "config.json:   0%|          | 0.00/1.47k [00:00<?, ?B/s]"
            ],
            "application/vnd.jupyter.widget-view+json": {
              "version_major": 2,
              "version_minor": 0,
              "model_id": "a825ff88fcd64fa8976394cd4f0b402d"
            }
          },
          "metadata": {}
        },
        {
          "output_type": "display_data",
          "data": {
            "text/plain": [
              "model.safetensors:   0%|          | 0.00/115M [00:00<?, ?B/s]"
            ],
            "application/vnd.jupyter.widget-view+json": {
              "version_major": 2,
              "version_minor": 0,
              "model_id": "599c1e865b574ae7b900e49fa7f380cb"
            }
          },
          "metadata": {}
        },
        {
          "output_type": "display_data",
          "data": {
            "text/plain": [
              "model.safetensors:   0%|          | 0.00/46.8M [00:00<?, ?B/s]"
            ],
            "application/vnd.jupyter.widget-view+json": {
              "version_major": 2,
              "version_minor": 0,
              "model_id": "4f8ef36227ae46cea375ae5f92001ca4"
            }
          },
          "metadata": {}
        },
        {
          "output_type": "stream",
          "name": "stderr",
          "text": [
            "Some weights of the model checkpoint at microsoft/table-transformer-structure-recognition were not used when initializing TableTransformerForObjectDetection: ['model.backbone.conv_encoder.model.layer2.0.downsample.1.num_batches_tracked', 'model.backbone.conv_encoder.model.layer3.0.downsample.1.num_batches_tracked', 'model.backbone.conv_encoder.model.layer4.0.downsample.1.num_batches_tracked']\n",
            "- This IS expected if you are initializing TableTransformerForObjectDetection from the checkpoint of a model trained on another task or with another architecture (e.g. initializing a BertForSequenceClassification model from a BertForPreTraining model).\n",
            "- This IS NOT expected if you are initializing TableTransformerForObjectDetection from the checkpoint of a model that you expect to be exactly identical (initializing a BertForSequenceClassification model from a BertForSequenceClassification model).\n"
          ]
        }
      ]
    },
    {
      "cell_type": "code",
      "source": [
        "len(raw_pdf_elements)"
      ],
      "metadata": {
        "colab": {
          "base_uri": "https://localhost:8080/"
        },
        "id": "982a4XPFJBOu",
        "outputId": "b86a137b-052b-4f53-d71f-9b023760c7b2"
      },
      "execution_count": null,
      "outputs": [
        {
          "output_type": "execute_result",
          "data": {
            "text/plain": [
              "50"
            ]
          },
          "metadata": {},
          "execution_count": 7
        }
      ]
    },
    {
      "cell_type": "code",
      "source": [
        "import base64\n",
        "\n",
        "text_elements = []\n",
        "table_elements = []\n",
        "image_elements = []\n",
        "\n",
        "# Function to encode images\n",
        "def encode_image(image_path):\n",
        "    with open(image_path, \"rb\") as image_file:\n",
        "        return base64.b64encode(image_file.read()).decode('utf-8')\n",
        "\n",
        "for element in raw_pdf_elements:\n",
        "    if 'CompositeElement' in str(type(element)):\n",
        "        text_elements.append(element)\n",
        "    elif 'Table' in str(type(element)):\n",
        "        table_elements.append(element)\n",
        "\n",
        "table_elements = [i.text for i in table_elements]\n",
        "text_elements = [i.text for i in text_elements]\n",
        "\n",
        "# Tables\n",
        "print(len(table_elements))\n",
        "\n",
        "# Text\n",
        "print(len(text_elements))"
      ],
      "metadata": {
        "colab": {
          "base_uri": "https://localhost:8080/"
        },
        "id": "nrYhQUJ8Smyn",
        "outputId": "dcf7a5e4-0a42-48eb-aa68-771192b490e0"
      },
      "execution_count": null,
      "outputs": [
        {
          "output_type": "stream",
          "name": "stdout",
          "text": [
            "23\n",
            "27\n"
          ]
        }
      ]
    },
    {
      "cell_type": "code",
      "source": [
        "for image_file in os.listdir(output_path):\n",
        "    if image_file.endswith(('.png', '.jpg', '.jpeg')):\n",
        "        image_path = os.path.join(output_path, image_file)\n",
        "        encoded_image = encode_image(image_path)\n",
        "        image_elements.append(encoded_image)\n",
        "print(len(image_elements))"
      ],
      "metadata": {
        "colab": {
          "base_uri": "https://localhost:8080/"
        },
        "id": "KSq4sjpGWnK_",
        "outputId": "c8ea944b-2100-4807-c27e-fbeb2334deda"
      },
      "execution_count": null,
      "outputs": [
        {
          "output_type": "stream",
          "name": "stdout",
          "text": [
            "76\n"
          ]
        }
      ]
    },
    {
      "cell_type": "code",
      "source": [
        "import os\n",
        "from getpass import getpass\n",
        "\n",
        "os.environ[\"OPENAI_API_KEY\"] = getpass(\"OpenAI API Key: \")"
      ],
      "metadata": {
        "colab": {
          "base_uri": "https://localhost:8080/"
        },
        "id": "2f-3boTWW4JR",
        "outputId": "f3805648-464b-411e-ab8c-b7b7f1a83a4f"
      },
      "execution_count": null,
      "outputs": [
        {
          "name": "stdout",
          "output_type": "stream",
          "text": [
            "OpenAI API Key: ··········\n"
          ]
        }
      ]
    },
    {
      "cell_type": "code",
      "source": [
        "from langchain.chat_models import ChatOpenAI\n",
        "from langchain.schema.messages import HumanMessage, AIMessage\n",
        "\n",
        "chain_gpt_4 = ChatOpenAI(model=\"gpt-4\", max_tokens=1024)\n",
        "chain_gpt_4_vision = ChatOpenAI(model=\"gpt-4-vision-preview\", max_tokens=1024)\n",
        "\n",
        "# Function for text summaries\n",
        "def summarize_text(text_element):\n",
        "    prompt = f\"\"\"Clean the text and retain relevant information about the text.\n",
        "    :\\n\\n{text_element}\\n\\nSummary:\"\"\"\n",
        "    response = chain_gpt_4.invoke([HumanMessage(content=prompt)])\n",
        "    return response.content\n",
        "\n",
        "# Function for table summaries\n",
        "def summarize_table(table_element):\n",
        "    prompt = f\"\"\"Clean and rephrase the following table in plain language while\n",
        "     retaining the important information in the table.\n",
        "     For example,\n",
        "     the table might talk about maximum and minimum voltage for different models of the chip.\n",
        "     Ensure that you are retainnig that information in a plain text form\n",
        "     :\\n\\n{table_element}\\n\\nCleaned:\"\"\"\n",
        "    response = chain_gpt_4.invoke([HumanMessage(content=prompt)])\n",
        "    return response.content\n",
        "\n",
        "# Function for image summaries\n",
        "def summarize_image(encoded_image):\n",
        "    prompt = [\n",
        "        AIMessage(content=\"You are a bot that is good at analyzing images.\"),\n",
        "        HumanMessage(content=[\n",
        "            {\"type\": \"text\", \"text\": \"\"\"Describe the contents of this image.\n",
        "            If the image contains a diagram of a circuit,\n",
        "            ensure you are retaining the pin out configurations and its connects and its labels.\n",
        "            If the image is a logo, simply summarize it as 'logo image'. \"\"\"},\n",
        "            {\n",
        "                \"type\": \"image_url\",\n",
        "                \"image_url\": {\n",
        "                    \"url\": f\"data:image/jpeg;base64,{encoded_image}\"\n",
        "                },\n",
        "            },\n",
        "        ])\n",
        "    ]\n",
        "    response = chain_gpt_4_vision.invoke(prompt)\n",
        "    return response.content"
      ],
      "metadata": {
        "id": "GkgFAr0WWpmi"
      },
      "execution_count": null,
      "outputs": []
    },
    {
      "cell_type": "code",
      "source": [
        "table_elements[0]"
      ],
      "metadata": {
        "colab": {
          "base_uri": "https://localhost:8080/",
          "height": 70
        },
        "id": "XhahcTGBKXHc",
        "outputId": "2b8a7423-5380-436b-94a7-cc70c9434821"
      },
      "execution_count": null,
      "outputs": [
        {
          "output_type": "execute_result",
          "data": {
            "text/plain": [
              "'PART NUMBER BODY SIZE (NOM) LM386N-1 PDIP (8) 9.60 mm × 6.35 mm LM386N-3 PDIP (8) 9.60 mm × 6.35 mm LM386N-4 PDIP (8) 9.60 mm × 6.35 mm LM386M-1 SOIC (8) 4.90 mm × 3.90 mm LM386MX-1 SOIC (8) 4.90 mm × 3.90 mm LM386MMX-1 VSSOP (8) 3.00 mm × 3.00 mm'"
            ],
            "application/vnd.google.colaboratory.intrinsic+json": {
              "type": "string"
            }
          },
          "metadata": {},
          "execution_count": 36
        }
      ]
    },
    {
      "cell_type": "code",
      "source": [
        "summarize_table(table_elements[0])"
      ],
      "metadata": {
        "colab": {
          "base_uri": "https://localhost:8080/",
          "height": 70
        },
        "id": "nHrlOITKKUsp",
        "outputId": "3badcb90-99cc-45ec-f322-c02ae56c9e09"
      },
      "execution_count": null,
      "outputs": [
        {
          "output_type": "execute_result",
          "data": {
            "text/plain": [
              "'The part numbers LM386N-1, LM386N-3, and LM386N-4 are all PDIP (8) models and have body sizes of 9.60 mm by 6.35 mm. Similarly, LM386M-1 and LM386MX-1 are SOIC (8) models and their body sizes measure 4.90 mm by 3.90 mm. Lastly, the LM386MMX-1 part number is a VSSOP (8) model and it measures 3.00 mm by 3.00 mm.'"
            ],
            "application/vnd.google.colaboratory.intrinsic+json": {
              "type": "string"
            }
          },
          "metadata": {},
          "execution_count": 37
        }
      ]
    },
    {
      "cell_type": "code",
      "source": [
        "text_elements[0]"
      ],
      "metadata": {
        "colab": {
          "base_uri": "https://localhost:8080/",
          "height": 174
        },
        "id": "-RMJIA1XL9_s",
        "outputId": "fbb74cb7-380e-4e27-928a-0f6c6acbbc57"
      },
      "execution_count": null,
      "outputs": [
        {
          "output_type": "execute_result",
          "data": {
            "text/plain": [
              "'Ww Ordering & oo quality\\n\\nTechnical documentation\\n\\nDesign & (S) Support & development training\\n\\ni TEXAS INSTRUMENTS\\n\\nLM386 SNAS545D – MAY 2004 – REVISED AUGUST 2023\\n\\nLM386 Low Voltage Audio Power Amplifier\\n\\n1 Features\\n\\n3 Description\\n\\nBattery Operation • Minimum External Parts • Wide Supply Voltage Range: 4 V–12 V or\\n\\n5 V–18 V\\n\\nLow Quiescent Current Drain: 4 mA • Voltage Gains from 20 to 200 • Ground-Referenced Input • Self-Centering Output Quiescent Voltage • Low Distortion: 0.2% (AV = 20, VS = 6 V, RL = 8 Ω,\\n\\nPO = 125 mW, f = 1 kHz)\\n\\n• Available in 8-Pin MSOP Package\\n\\nThe LM386M-1 and LM386MX-1 are power amplifiers designed low voltage consumer applications. The gain is internally set to 20 to keep external part count low, but the addition of an external resistor and capacitor between pins 1 and 8 increases the gain to any value from 20 to 200.\\n\\nThe inputs are ground referenced while the output automatically biases to one-half the supply voltage. The quiescent power drain is only 24 mW when operating from a 6-V supply, making the LM386M-1 and LM386MX-1 prefered for battery operation.\\n\\n2 Applications\\n\\nAM-FM Radio Amplifiers • Portable Tape Player Amplifiers • • TV Sound Systems • Line Drivers • Ultrasonic Drivers • Small Servo Drivers • Power Converters\\n\\nDevice Information(1) PACKAGE'"
            ],
            "application/vnd.google.colaboratory.intrinsic+json": {
              "type": "string"
            }
          },
          "metadata": {},
          "execution_count": 38
        }
      ]
    },
    {
      "cell_type": "code",
      "source": [
        "summarize_text(text_elements[0])"
      ],
      "metadata": {
        "colab": {
          "base_uri": "https://localhost:8080/",
          "height": 174
        },
        "id": "TYaeqyJLL-CG",
        "outputId": "6be45d6b-5fab-458e-e8ea-bdfe691700cd"
      },
      "execution_count": null,
      "outputs": [
        {
          "output_type": "execute_result",
          "data": {
            "text/plain": [
              "\"The text is about LM386, a low voltage audio power amplifier from Texas Instruments. It's designed for low voltage consumer applications with features like battery operation, minimum external parts, a wide supply voltage range from 4V to 18V, and low quiescent current drain. The gain is internally set to 20 to keep the external part count low. An addition of an external resistor and capacitor between pins 1 and 8 can increase the gain from 20 to 200. The inputs are ground-referenced, and the output automatically biases to half the supply voltage. The quiescent power drain is only 24 mW when operating from a 6-V supply. The use of the LM386M-1 and LM386MX-1 are preferred for battery operation. Applications of LM386 include AM-FM radio amplifiers, portable tape player amplifiers, TV sound systems, line drivers, ultrasonic drivers, small servo drivers, and power converters. It is available in an 8-Pin MSOP Package.\""
            ],
            "application/vnd.google.colaboratory.intrinsic+json": {
              "type": "string"
            }
          },
          "metadata": {},
          "execution_count": 39
        }
      ]
    },
    {
      "cell_type": "code",
      "source": [
        "summarize_image(image_elements[5])"
      ],
      "metadata": {
        "id": "Ma9WCa-gMKdr"
      },
      "execution_count": null,
      "outputs": []
    },
    {
      "cell_type": "code",
      "source": [
        "# Processing table elements with feedback and sleep\n",
        "table_summaries = []\n",
        "for i, te in enumerate(table_elements):\n",
        "    summary = summarize_table(te)\n",
        "    table_summaries.append(summary)\n",
        "    if i%5 == 0:\n",
        "        print(f\"Done {i}/{len(table_elements)} element of tables processed.\")"
      ],
      "metadata": {
        "colab": {
          "base_uri": "https://localhost:8080/"
        },
        "id": "JVCsp_RQWt-a",
        "outputId": "a74ba1c3-7cd7-4330-e9fc-f803d05007dc"
      },
      "execution_count": null,
      "outputs": [
        {
          "output_type": "stream",
          "name": "stdout",
          "text": [
            "Done 0/23 element of tables processed.\n",
            "Done 5/23 element of tables processed.\n",
            "Done 10/23 element of tables processed.\n",
            "Done 15/23 element of tables processed.\n",
            "Done 20/23 element of tables processed.\n"
          ]
        }
      ]
    },
    {
      "cell_type": "code",
      "source": [
        "with open('./lists/table_summaries.pkl', 'wb') as f:\n",
        "    pickle.dump(table_summaries, f)"
      ],
      "metadata": {
        "id": "lZg2HzohRTW1"
      },
      "execution_count": null,
      "outputs": []
    },
    {
      "cell_type": "code",
      "source": [
        "# Processing text elements with feedback and sleep\n",
        "text_summaries = []\n",
        "for i, te in enumerate(text_elements):\n",
        "    summary = summarize_text(te)\n",
        "    text_summaries.append(summary)\n",
        "    if i % 5 ==0:\n",
        "        print(f\"Done {i}/{len(text_elements)}  element of texts processed.\")"
      ],
      "metadata": {
        "colab": {
          "base_uri": "https://localhost:8080/"
        },
        "id": "RYYhA1fkXCtK",
        "outputId": "aba373de-9157-461a-eee2-78bf9209f4db"
      },
      "execution_count": null,
      "outputs": [
        {
          "output_type": "stream",
          "name": "stdout",
          "text": [
            "Done 0/23  element of texts processed.\n",
            "Done 5/23  element of texts processed.\n",
            "Done 10/23  element of texts processed.\n",
            "Done 15/23  element of texts processed.\n",
            "Done 20/23  element of texts processed.\n",
            "Done 25/23  element of texts processed.\n"
          ]
        }
      ]
    },
    {
      "cell_type": "code",
      "source": [
        "import pickle\n",
        "with open('./lists/text_summaries.pkl', 'wb') as f:\n",
        "    pickle.dump(text_summaries, f)\n",
        "\n",
        "with open('./lists/text_elements.pkl', 'wb') as f:\n",
        "    pickle.dump(text_elements, f)"
      ],
      "metadata": {
        "id": "VaU0wj9xRN6B"
      },
      "execution_count": null,
      "outputs": []
    },
    {
      "cell_type": "code",
      "source": [
        "len(image_elements)"
      ],
      "metadata": {
        "colab": {
          "base_uri": "https://localhost:8080/"
        },
        "id": "MBWqzVbkXgBK",
        "outputId": "f65b193d-6062-4f67-ce41-928f071c7d91"
      },
      "execution_count": null,
      "outputs": [
        {
          "output_type": "execute_result",
          "data": {
            "text/plain": [
              "76"
            ]
          },
          "metadata": {},
          "execution_count": 25
        }
      ]
    },
    {
      "cell_type": "code",
      "source": [
        "summarize_image(image_elements[4])"
      ],
      "metadata": {
        "colab": {
          "base_uri": "https://localhost:8080/",
          "height": 174
        },
        "id": "lBQXSp5tKAFW",
        "outputId": "33f4508e-3dc5-474b-8816-28921b5dd686"
      },
      "execution_count": null,
      "outputs": [
        {
          "output_type": "execute_result",
          "data": {
            "text/plain": [
              "'The image shows a schematic diagram of an electronic circuit. This diagram depicts an audio amplifier using an LM386 integrated circuit (IC), which is a popular chip for creating simple audio amplifiers.\\n\\nHere\\'s a breakdown of the components and connections shown in the image:\\n\\n1. A symbol for a microphone (labeled \"ELDEMA CF-S-2158\") is connected to the input of the amplifier with a note that it operates at 3V – 15mA.\\n2. The microphone is connected to the non-inverting input (pin 3) of the LM386 IC.\\n3. The inverting input (pin 2) of the IC appears to be connected through a 10 microfarad (μF) capacitor to the ground.\\n4. Pin 6 is connected to the supply voltage (Vs).\\n5. Pin 4 is the ground reference for the IC.\\n6. There is a feedback loop from pin 5 (output) to pin 2 through a 0.05 μF capacitor.\\n7. A 250-ohm resistor and a 50 μF capacitor are connected in series with the output (pin 5) and the load (speaker, labeled \"R_L\").\\n8. A 0.01 μF capacitor is connected between pin 5 and ground.\\n9. A 47 kiloohm (kΩ) resistor is connected between pin 5 and pin 1, which is the gain control pin.\\n10. There is a bypass feature indicated with a dashed line box around pin 7, which is usually used to improve the low-frequency response. A bypass capacitor (0.01 μF) is connected to pin 7, but it is not connected to any other part of the circuit as per the dashed line.\\n11. A 4.7 kΩ resistor is connected to ground from the junction of the 47 kΩ resistor and the 0.01 μF capacitor that links to pin 1.\\n12. The supply voltage (Vs) and ground are connected to a 390-ohm resistor at the top of the diagram.\\n\\nThe note \"f = 1 kHz\" suggests that the circuit is designed for a frequency of 1 kilohertz, which might be the test frequency for the amplifier\\'s specifications. The circuit is intended to amplify audio signals received by the microphone and drive a speaker or a similar audio output device. The copyright notice indicates that the schematic is from Texas Instruments, dated 2017.'"
            ],
            "application/vnd.google.colaboratory.intrinsic+json": {
              "type": "string"
            }
          },
          "metadata": {},
          "execution_count": 27
        }
      ]
    },
    {
      "cell_type": "code",
      "source": [
        "# Processing image elements with feedback and sleep\n",
        "image_summaries = []\n",
        "for i, ie in enumerate(image_elements):\n",
        "    summary = summarize_image(ie)\n",
        "    image_summaries.append(summary)\n",
        "    print(f\"Done {i}/{len(image_elements)}  element of images processed.\")"
      ],
      "metadata": {
        "colab": {
          "base_uri": "https://localhost:8080/"
        },
        "id": "uka9GYwRXcwg",
        "outputId": "420825c6-2a95-4999-bbcd-10a885a058ec"
      },
      "execution_count": null,
      "outputs": [
        {
          "output_type": "stream",
          "name": "stdout",
          "text": [
            "Done 0/76  element of images processed.\n",
            "Done 1/76  element of images processed.\n",
            "Done 2/76  element of images processed.\n",
            "Done 3/76  element of images processed.\n",
            "Done 4/76  element of images processed.\n",
            "Done 5/76  element of images processed.\n",
            "Done 6/76  element of images processed.\n",
            "Done 7/76  element of images processed.\n",
            "Done 8/76  element of images processed.\n",
            "Done 9/76  element of images processed.\n",
            "Done 10/76  element of images processed.\n",
            "Done 11/76  element of images processed.\n",
            "Done 12/76  element of images processed.\n",
            "Done 13/76  element of images processed.\n",
            "Done 14/76  element of images processed.\n",
            "Done 15/76  element of images processed.\n",
            "Done 16/76  element of images processed.\n",
            "Done 17/76  element of images processed.\n",
            "Done 18/76  element of images processed.\n",
            "Done 19/76  element of images processed.\n",
            "Done 20/76  element of images processed.\n",
            "Done 21/76  element of images processed.\n",
            "Done 22/76  element of images processed.\n",
            "Done 23/76  element of images processed.\n",
            "Done 24/76  element of images processed.\n",
            "Done 25/76  element of images processed.\n",
            "Done 26/76  element of images processed.\n",
            "Done 27/76  element of images processed.\n",
            "Done 28/76  element of images processed.\n",
            "Done 29/76  element of images processed.\n",
            "Done 30/76  element of images processed.\n",
            "Done 31/76  element of images processed.\n",
            "Done 32/76  element of images processed.\n",
            "Done 33/76  element of images processed.\n",
            "Done 34/76  element of images processed.\n",
            "Done 35/76  element of images processed.\n",
            "Done 36/76  element of images processed.\n",
            "Done 37/76  element of images processed.\n",
            "Done 38/76  element of images processed.\n",
            "Done 39/76  element of images processed.\n",
            "Done 40/76  element of images processed.\n",
            "Done 41/76  element of images processed.\n",
            "Done 42/76  element of images processed.\n",
            "Done 43/76  element of images processed.\n",
            "Done 44/76  element of images processed.\n",
            "Done 45/76  element of images processed.\n",
            "Done 46/76  element of images processed.\n",
            "Done 47/76  element of images processed.\n",
            "Done 48/76  element of images processed.\n",
            "Done 49/76  element of images processed.\n",
            "Done 50/76  element of images processed.\n",
            "Done 51/76  element of images processed.\n",
            "Done 52/76  element of images processed.\n",
            "Done 53/76  element of images processed.\n",
            "Done 54/76  element of images processed.\n",
            "Done 55/76  element of images processed.\n",
            "Done 56/76  element of images processed.\n",
            "Done 57/76  element of images processed.\n",
            "Done 58/76  element of images processed.\n",
            "Done 59/76  element of images processed.\n",
            "Done 60/76  element of images processed.\n",
            "Done 61/76  element of images processed.\n",
            "Done 62/76  element of images processed.\n",
            "Done 63/76  element of images processed.\n",
            "Done 64/76  element of images processed.\n",
            "Done 65/76  element of images processed.\n",
            "Done 66/76  element of images processed.\n",
            "Done 67/76  element of images processed.\n",
            "Done 68/76  element of images processed.\n",
            "Done 69/76  element of images processed.\n",
            "Done 70/76  element of images processed.\n",
            "Done 71/76  element of images processed.\n",
            "Done 72/76  element of images processed.\n",
            "Done 73/76  element of images processed.\n",
            "Done 74/76  element of images processed.\n",
            "Done 75/76  element of images processed.\n"
          ]
        }
      ]
    },
    {
      "cell_type": "code",
      "source": [
        "with open('./lists/image_summaries.pkl', 'wb') as f:\n",
        "    pickle.dump(image_summaries, f)"
      ],
      "metadata": {
        "id": "ElpwKAdDbYGh"
      },
      "execution_count": null,
      "outputs": []
    },
    {
      "cell_type": "code",
      "source": [
        "import uuid\n",
        "\n",
        "from langchain.embeddings import OpenAIEmbeddings\n",
        "from langchain.retrievers.multi_vector import MultiVectorRetriever\n",
        "from langchain.schema.document import Document\n",
        "from langchain.storage import InMemoryStore\n",
        "from langchain.vectorstores import Chroma\n",
        "\n",
        "persist_directory = './db'\n",
        "\n",
        "# Initialize the vector store and storage layer\n",
        "vectorstore = Chroma(collection_name=\"summaries\",\n",
        "                     embedding_function=OpenAIEmbeddings(),\n",
        "                     persist_directory=persist_directory)\n",
        "store = InMemoryStore()\n",
        "id_key = \"doc_id\"\n",
        "\n",
        "# Initialize the retriever\n",
        "retriever = MultiVectorRetriever(vectorstore=vectorstore,\n",
        "                                 docstore=store,\n",
        "                                 id_key=id_key)\n",
        "\n",
        "# Function to add documents to the retriever\n",
        "def add_documents_to_retriever(summaries, original_contents):\n",
        "    doc_ids = [str(uuid.uuid4()) for _ in summaries]\n",
        "    summary_docs = [\n",
        "        Document(page_content=s, metadata={id_key: doc_ids[i]})\n",
        "        for i, s in enumerate(summaries)\n",
        "    ]\n",
        "    retriever.vectorstore.add_documents(summary_docs)\n",
        "    retriever.docstore.mset(list(zip(doc_ids, original_contents)))"
      ],
      "metadata": {
        "id": "KVYAA3PPXyac"
      },
      "execution_count": null,
      "outputs": []
    },
    {
      "cell_type": "code",
      "source": [
        "!zip -r db.zip ./db"
      ],
      "metadata": {
        "colab": {
          "base_uri": "https://localhost:8080/"
        },
        "id": "WkcMVy66m33S",
        "outputId": "c3fead21-73ea-4ffa-9470-e56060f748ad"
      },
      "execution_count": null,
      "outputs": [
        {
          "output_type": "stream",
          "name": "stdout",
          "text": [
            "updating: db/ (stored 0%)\n",
            "updating: db/chroma.sqlite3 (deflated 44%)\n",
            "  adding: db/3d277856-77af-471e-8910-6bd489cd4902/ (stored 0%)\n",
            "  adding: db/3d277856-77af-471e-8910-6bd489cd4902/data_level0.bin (deflated 98%)\n",
            "  adding: db/3d277856-77af-471e-8910-6bd489cd4902/length.bin (deflated 99%)\n",
            "  adding: db/3d277856-77af-471e-8910-6bd489cd4902/link_lists.bin (stored 0%)\n",
            "  adding: db/3d277856-77af-471e-8910-6bd489cd4902/header.bin (deflated 61%)\n"
          ]
        }
      ]
    },
    {
      "cell_type": "code",
      "source": [
        "!zip -r lists.zip ./lists"
      ],
      "metadata": {
        "colab": {
          "base_uri": "https://localhost:8080/"
        },
        "id": "hgcoVfrWonqu",
        "outputId": "8486a6dc-e1b9-4c09-da09-24396e5515ae"
      },
      "execution_count": null,
      "outputs": [
        {
          "output_type": "stream",
          "name": "stdout",
          "text": [
            "updating: lists/ (stored 0%)\n",
            "updating: lists/text_elements.pkl (deflated 67%)\n",
            "updating: lists/text_summaries.pkl (deflated 64%)\n",
            "updating: lists/table_summaries.pkl (deflated 68%)\n",
            "  adding: lists/image_summaries.pkl (deflated 71%)\n"
          ]
        }
      ]
    },
    {
      "cell_type": "code",
      "source": [
        "!zip -r images.zip ./output"
      ],
      "metadata": {
        "colab": {
          "base_uri": "https://localhost:8080/"
        },
        "id": "vSyI9Mxsphpi",
        "outputId": "535f9195-a284-4dca-a7d1-f012f0b63ede"
      },
      "execution_count": null,
      "outputs": [
        {
          "output_type": "stream",
          "name": "stdout",
          "text": [
            "  adding: output/ (stored 0%)\n",
            "  adding: output/figure-25-1.jpg (deflated 5%)\n",
            "  adding: output/figure-1-1.jpg (deflated 5%)\n",
            "  adding: output/figure-17-1.jpg (deflated 5%)\n",
            "  adding: output/figure-28-3.jpg (deflated 5%)\n",
            "  adding: output/figure-14-2.jpg (deflated 21%)\n",
            "  adding: output/figure-27-1.jpg (deflated 7%)\n",
            "  adding: output/figure-6-3.jpg (deflated 2%)\n",
            "  adding: output/figure-31-1.jpg (deflated 36%)\n",
            "  adding: output/figure-6-9.jpg (deflated 6%)\n",
            "  adding: output/figure-30-1.jpg (deflated 16%)\n",
            "  adding: output/figure-30-2.jpg (deflated 24%)\n",
            "  adding: output/figure-31-2.jpg (deflated 4%)\n",
            "  adding: output/figure-18-1.jpg (deflated 5%)\n",
            "  adding: output/figure-25-2.jpg (deflated 17%)\n",
            "  adding: output/figure-27-2.jpg (deflated 30%)\n",
            "  adding: output/figure-10-1.jpg (deflated 5%)\n",
            "  adding: output/figure-15-2.jpg (deflated 15%)\n",
            "  adding: output/figure-1-2.jpg (deflated 32%)\n",
            "  adding: output/figure-10-2.jpg (deflated 23%)\n",
            "  adding: output/figure-28-1.jpg (deflated 30%)\n",
            "  adding: output/figure-6-1.jpg (deflated 5%)\n",
            "  adding: output/figure-24-1.jpg (deflated 4%)\n",
            "  adding: output/figure-26-1.jpg (deflated 5%)\n",
            "  adding: output/figure-13-2.jpg (deflated 19%)\n",
            "  adding: output/figure-21-1.jpg (deflated 6%)\n",
            "  adding: output/figure-15-3.jpg (deflated 7%)\n",
            "  adding: output/figure-19-2.jpg (deflated 40%)\n",
            "  adding: output/figure-24-2.jpg (deflated 21%)\n",
            "  adding: output/figure-19-1.jpg (deflated 6%)\n",
            "  adding: output/figure-18-4.jpg (deflated 8%)\n",
            "  adding: output/figure-11-2.jpg (deflated 10%)\n",
            "  adding: output/figure-7-2.jpg (deflated 6%)\n",
            "  adding: output/figure-6-7.jpg (deflated 3%)\n",
            "  adding: output/figure-3-2.jpg (deflated 33%)\n",
            "  adding: output/figure-16-2.jpg (deflated 24%)\n",
            "  adding: output/figure-9-1.jpg (deflated 6%)\n",
            "  adding: output/figure-2-1.jpg (deflated 5%)\n",
            "  adding: output/figure-13-1.jpg (deflated 6%)\n",
            "  adding: output/figure-11-1.jpg (deflated 6%)\n",
            "  adding: output/figure-5-1.jpg (deflated 5%)\n",
            "  adding: output/figure-32-1.jpg (deflated 9%)\n",
            "  adding: output/figure-13-3.jpg (deflated 10%)\n",
            "  adding: output/figure-24-3.jpg (deflated 18%)\n",
            "  adding: output/figure-6-5.jpg (deflated 5%)\n",
            "  adding: output/figure-14-3.jpg (deflated 10%)\n",
            "  adding: output/figure-12-2.jpg (deflated 21%)\n",
            "  adding: output/figure-29-2.jpg (deflated 5%)\n",
            "  adding: output/figure-8-1.jpg (deflated 5%)\n",
            "  adding: output/figure-6-8.jpg (deflated 6%)\n",
            "  adding: output/figure-6-6.jpg (deflated 5%)\n",
            "  adding: output/figure-30-3.jpg (deflated 4%)\n",
            "  adding: output/figure-32-3.jpg (deflated 24%)\n",
            "  adding: output/figure-4-1.jpg (deflated 5%)\n",
            "  adding: output/figure-24-4.jpg (deflated 18%)\n",
            "  adding: output/figure-15-1.jpg (deflated 6%)\n",
            "  adding: output/figure-17-3.jpg (deflated 10%)\n",
            "  adding: output/figure-12-1.jpg (deflated 5%)\n",
            "  adding: output/figure-18-2.jpg (deflated 39%)\n",
            "  adding: output/figure-29-1.jpg (deflated 33%)\n",
            "  adding: output/figure-7-1.jpg (deflated 5%)\n",
            "  adding: output/figure-6-2.jpg (deflated 10%)\n",
            "  adding: output/figure-6-4.jpg (deflated 7%)\n",
            "  adding: output/figure-32-4.jpg (deflated 5%)\n",
            "  adding: output/figure-26-2.jpg (deflated 43%)\n",
            "  adding: output/figure-3-1.jpg (deflated 5%)\n",
            "  adding: output/figure-17-2.jpg (deflated 20%)\n",
            "  adding: output/figure-14-1.jpg (deflated 5%)\n",
            "  adding: output/figure-9-2.jpg (deflated 38%)\n",
            "  adding: output/figure-27-3.jpg (deflated 4%)\n",
            "  adding: output/figure-28-2.jpg (deflated 25%)\n",
            "  adding: output/figure-18-3.jpg (deflated 46%)\n",
            "  adding: output/figure-12-3.jpg (deflated 10%)\n",
            "  adding: output/figure-16-3.jpg (deflated 10%)\n",
            "  adding: output/figure-16-1.jpg (deflated 5%)\n",
            "  adding: output/figure-32-2.jpg (deflated 29%)\n",
            "  adding: output/figure-20-1.jpg (deflated 5%)\n"
          ]
        }
      ]
    },
    {
      "cell_type": "code",
      "source": [
        "# Add text summaries\n",
        "add_documents_to_retriever(text_summaries, text_elements)\n",
        "\n",
        "# Add table summaries\n",
        "add_documents_to_retriever(table_summaries, table_elements)\n",
        "\n",
        "# Add image summaries\n",
        "add_documents_to_retriever(image_summaries, image_summaries) # hopefully real images soon"
      ],
      "metadata": {
        "id": "aGoh81AQYiVt"
      },
      "execution_count": null,
      "outputs": []
    },
    {
      "cell_type": "code",
      "source": [],
      "metadata": {
        "id": "JKyQtGWZmn8G"
      },
      "execution_count": null,
      "outputs": []
    },
    {
      "cell_type": "code",
      "source": [
        "# We can retrieve this table\n",
        "retriever.get_relevant_documents(\"How many pins does this chip have?\")"
      ],
      "metadata": {
        "colab": {
          "base_uri": "https://localhost:8080/"
        },
        "id": "yfoIN74NboOn",
        "outputId": "8a69d5bc-0d17-421a-ee83-daec219564ff"
      },
      "execution_count": null,
      "outputs": [
        {
          "output_type": "execute_result",
          "data": {
            "text/plain": [
              "['The image shows a technical drawing of an electronic component, which appears to be a semiconductor package, possibly an integrated circuit (IC). There are several views presented, each providing different dimensions and details important for understanding the size, shape, and key features of the component.\\n\\nOn the left, there is a top view that shows the outline of the package with dimensions for its length and width. The number of pins (or leads) and their spacing are also indicated. Below this is a side view showing the profile of the pins and their height.\\n\\nOn the right, there is a detailed section view of what appears to be the end of a pin, showing the precise measurements for the pin\\'s shape, including angles and diameters. This section is labeled with \"Gauge Plane,\" indicating a reference level for measurements.\\n\\nBelow the section view on the right, there is a side view of a single pin extending from the package, giving a clear indication of its shape and the seating plane, which is the surface that the package rests on when mounted on a circuit board.\\n\\nAll dimensions are given in millimeters, and the drawing includes various tolerances and sizes, which are critical for manufacturing and ensuring the component fits into a corresponding socket or onto a printed circuit board (PCB) with the correct orientation and alignment.',\n",
              " 'The image shows an Integrated Circuit (IC) in a black, rectangular package with multiple legs or pins extending from its sides. This type of package is commonly used in electronic devices to house a chip that can perform various functions depending on its internal circuitry. The IC appears to be in a surface-mount package, which means it is designed to be mounted directly onto the surface of a printed circuit board (PCB).',\n",
              " 'The image appears to be a technical drawing or schematic of a component or package layout, likely related to electronics or engineering. It includes several geometric shapes and measurements.\\n\\nAt the top, there is a note that mentions a dimension of .127mm (.005 inch), followed by \"(See Note D)\". Below this note, there are two sets of rectangles, each with a pair of measurements next to them: one set is labeled \"8X(0,45)\" and the other \"8X(0,65) TYP.\" These seem to indicate the positions and typical dimensions of pins or leads on a component, with \"TYP\" probably standing for \"typical\".\\n\\nThe rectangles are connected by dashed lines, suggesting they are part of a pattern or outline, and the term \"PKG\" appears on both the left and right sides, which might stand for \"package\". The numbers in parentheses, such as \"(4,4),\" are likely coordinates or other measurements.\\n\\nThere are arrows indicating dimensions or positions, which suggests that this drawing is used for specifying the precise layout or footprint of a component for manufacturing or assembly purposes.\\n\\nOverall, the image is a schematic representation used in technical fields to convey critical dimensions and arrangements of components within a system.',\n",
              " 'PART NUMBER BODY SIZE (NOM) LM386N-1 PDIP (8) 9.60 mm × 6.35 mm LM386N-3 PDIP (8) 9.60 mm × 6.35 mm LM386N-4 PDIP (8) 9.60 mm × 6.35 mm LM386M-1 SOIC (8) 4.90 mm × 3.90 mm LM386MX-1 SOIC (8) 4.90 mm × 3.90 mm LM386MMX-1 VSSOP (8) 3.00 mm × 3.00 mm']"
            ]
          },
          "metadata": {},
          "execution_count": 39
        }
      ]
    },
    {
      "cell_type": "code",
      "source": [
        "from langchain.schema.runnable import RunnablePassthrough\n",
        "from langchain.prompts import ChatPromptTemplate\n",
        "from langchain.schema.output_parser import StrOutputParser\n",
        "\n",
        "template = \"\"\"Answer the question based only on the following context,\n",
        "              which can include text, images and tables:\n",
        "              {context}\n",
        "              Question: {question}\n",
        "           \"\"\"\n",
        "prompt = ChatPromptTemplate.from_template(template)\n",
        "\n",
        "model = ChatOpenAI(temperature=0, model=\"gpt-4\")\n",
        "\n",
        "chain = (\n",
        "    {\"context\": retriever, \"question\": RunnablePassthrough()}\n",
        "    | prompt\n",
        "    | model\n",
        "    | StrOutputParser()\n",
        ")"
      ],
      "metadata": {
        "id": "sjRijOUob6X5"
      },
      "execution_count": 72,
      "outputs": []
    },
    {
      "cell_type": "markdown",
      "source": [
        "### Simple Question"
      ],
      "metadata": {
        "id": "qdkfQlANWy4b"
      }
    },
    {
      "cell_type": "code",
      "source": [
        "chain.invoke(\"How many pins does this chip have?\")"
      ],
      "metadata": {
        "colab": {
          "base_uri": "https://localhost:8080/",
          "height": 35
        },
        "id": "jQYUejPNcAHf",
        "outputId": "d94791ae-ba12-4105-f64f-0600577bf427"
      },
      "execution_count": null,
      "outputs": [
        {
          "output_type": "execute_result",
          "data": {
            "text/plain": [
              "'This chip has 8 pins.'"
            ],
            "application/vnd.google.colaboratory.intrinsic+json": {
              "type": "string"
            }
          },
          "metadata": {},
          "execution_count": 56
        }
      ]
    },
    {
      "cell_type": "code",
      "source": [
        "from langchain.memory import ConversationBufferMemory\n",
        "from langchain.chains import RetrievalQA\n",
        "from langchain.agents import AgentExecutor, Tool,initialize_agent\n",
        "from langchain.agents.types import AgentType\n",
        "\n",
        "memory = ConversationBufferMemory(memory_key=\"chat_history\",\n",
        "                                  input_key='input',\n",
        "                                  return_messages=True,\n",
        "                                  output_key='output')\n",
        "\n",
        "qa = RetrievalQA.from_chain_type(\n",
        "        llm=model,\n",
        "        chain_type=\"stuff\",\n",
        "        retriever=vectorstore.as_retriever(),\n",
        "        verbose=True,\n",
        "        return_source_documents=True\n",
        "    )\n",
        "\n",
        "tools = [\n",
        "        Tool(\n",
        "            name=\"doc_search_tool\",\n",
        "            func=qa,\n",
        "            description=(\n",
        "               \"This tool is used to retrieve information from the knowledge base\"\n",
        "            )\n",
        "        )\n",
        "    ]\n",
        "\n",
        "system_message = \"\"\"Answer the question based only on the following context,\n",
        "              which can include text, images and tables\"\"\"\n",
        "\n",
        "agent = initialize_agent(\n",
        "        agent = AgentType.CHAT_CONVERSATIONAL_REACT_DESCRIPTION,\n",
        "        tools=tools,\n",
        "        llm=model,\n",
        "        memory=memory,\n",
        "        return_source_documents=True,\n",
        "        return_intermediate_steps=True,\n",
        "        agent_kwargs={\"system_message\": system_message}\n",
        "        )\n",
        "\n",
        "query1 = \"What is the company that manufactured the LM386 chip?\"\n",
        "result1 = agent(query1)\n",
        "result1"
      ],
      "metadata": {
        "colab": {
          "base_uri": "https://localhost:8080/"
        },
        "id": "_zx8FAUFClX_",
        "outputId": "fc3dcbcf-7385-4ef5-a09e-16c87fe11750"
      },
      "execution_count": 74,
      "outputs": [
        {
          "output_type": "stream",
          "name": "stdout",
          "text": [
            "\n",
            "\n",
            "\u001b[1m> Entering new RetrievalQA chain...\u001b[0m\n",
            "\n",
            "\u001b[1m> Finished chain.\u001b[0m\n"
          ]
        },
        {
          "output_type": "execute_result",
          "data": {
            "text/plain": [
              "{'input': 'What is the company that manufactured the LM386 chip?',\n",
              " 'chat_history': [HumanMessage(content='What is the company that manufactured the LM386 chip?'),\n",
              "  AIMessage(content='The LM386 chip was manufactured by Texas Instruments Incorporated.')],\n",
              " 'output': 'The LM386 chip was manufactured by Texas Instruments Incorporated.',\n",
              " 'intermediate_steps': [(AgentAction(tool='doc_search_tool', tool_input='Company that manufactured the LM386 chip', log='```json\\n{\\n    \"action\": \"doc_search_tool\",\\n    \"action_input\": \"Company that manufactured the LM386 chip\"\\n}\\n```'),\n",
              "   {'query': 'Company that manufactured the LM386 chip',\n",
              "    'result': 'The LM386 chip was manufactured by Texas Instruments Incorporated.',\n",
              "    'source_documents': [Document(page_content='This text appears to be about a data sheet for a product, possibly an electronic component such as a microchip or circuit board. The document contains information about ordering, a schematic, and a notice about availability, warranty, changes, use in safety-critical applications, intellectual property matters, and other important disclaimers. The production data indicates that this specific model (LM386 SNAS545D) was produced in May 2004 and revised in August 2023. The information can be accessed on www.ti.com.', metadata={'doc_id': '4626aa9e-35f6-417e-941c-cbcc4ef4aa47'}),\n",
              "     Document(page_content='The text pertains to a product named LM386 by Texas Instruments Incorporated. The document was last revised in August 2023. It contains specifications and absolute maximum ratings for the product LM386, particularly over operating free-air temperature range. The document may contain other details, such as Input, Output, and Power related information.', metadata={'doc_id': '95d4ada0-659f-49c8-b592-d565a6201e2f'}),\n",
              "     Document(page_content=\"The text is a series of descriptions and instructions from a Texas Instruments document, specifically concerning the LM386 product. It includes layout examples for different packages (PDIP, SOIC, VSSOP) with a minimum parts gain of 20 dB. There's also a mention of device and documentation support, with instructions on how to receive notification of documentation updates. Additionally, it references mechanical, packaging, and orderable information for the LM386 device. The document has been updated in August 2023.\", metadata={'doc_id': 'f6194543-8842-4591-a624-5ce564b84056'}),\n",
              "     Document(page_content='The part numbers LM386N-1, LM386N-3, and LM386N-4 are all PDIP (8) body size chips with dimensions of 9.60 mm by 6.35 mm. The LM386M-1 and LM386MX-1 part numbers are SOIC (8) body size chips with dimensions of 4.90 mm by 3.90 mm. Lastly, the LM386MMX-1 part number is a VSSOP (8) body size chip with dimensions of 3.00 mm by 3.00 mm.', metadata={'doc_id': 'a1a2f12d-4d91-4e25-8c54-9eb8ddd7fd80'})]})]}"
            ]
          },
          "metadata": {},
          "execution_count": 74
        }
      ]
    },
    {
      "cell_type": "code",
      "source": [
        "query2 = \"What is the max supply voltage for the different versions of this lm386?\"\n",
        "result2 = agent(query2)\n",
        "result2"
      ],
      "metadata": {
        "colab": {
          "base_uri": "https://localhost:8080/"
        },
        "id": "f-Bj-rPdClaP",
        "outputId": "aace2ff0-5c80-42d3-8386-e7da0bc63b0a"
      },
      "execution_count": 75,
      "outputs": [
        {
          "output_type": "stream",
          "name": "stdout",
          "text": [
            "\n",
            "\n",
            "\u001b[1m> Entering new RetrievalQA chain...\u001b[0m\n",
            "\n",
            "\u001b[1m> Finished chain.\u001b[0m\n"
          ]
        },
        {
          "output_type": "execute_result",
          "data": {
            "text/plain": [
              "{'input': 'What is the max supply voltage for the different versions of this lm386?',\n",
              " 'chat_history': [HumanMessage(content='What is the company that manufactured the LM386 chip?'),\n",
              "  AIMessage(content='The LM386 chip was manufactured by Texas Instruments Incorporated.'),\n",
              "  HumanMessage(content='What is the max supply voltage for the different versions of this lm386?'),\n",
              "  AIMessage(content='The maximum supply voltage for the LM386N-1/-3 and LM386M-1 models is 15V. For the LM386N-4 model, the maximum supply voltage is 22V.')],\n",
              " 'output': 'The maximum supply voltage for the LM386N-1/-3 and LM386M-1 models is 15V. For the LM386N-4 model, the maximum supply voltage is 22V.',\n",
              " 'intermediate_steps': [(AgentAction(tool='doc_search_tool', tool_input='max supply voltage for different versions of lm386', log='```json\\n{\\n    \"action\": \"doc_search_tool\",\\n    \"action_input\": \"max supply voltage for different versions of lm386\"\\n}\\n```'),\n",
              "   {'query': 'max supply voltage for different versions of lm386',\n",
              "    'result': 'The maximum supply voltage for the LM386N-1/-3 and LM386M-1 models is 15V. For the LM386N-4 model, the maximum supply voltage is 22V.',\n",
              "    'source_documents': [Document(page_content='The table provides information about different models of the LM386 chip. The supply voltage (VCC) for the LM386N-1/-3 and LM386M-1 models is a maximum of 15V. For the LM386N-4 model, the maximum supply voltage is 22V. \\n\\nThe package dissipation for the LM386N is 1.25W, but it is lower for the LM386M at 0.73W. The LM386MM-1 model has the lowest package dissipation at 0.595W. \\n\\nThe input voltage (VI) for all models ranges between -0.4V and 0.4V. \\n\\nAll models can be stored at temperatures between -65°C and 150°C.', metadata={'doc_id': '958cf96e-c7bb-4726-977c-2ceba4cb8739'}),\n",
              "     Document(page_content='The table provides specifications for different models of a chip. The supply voltage for the unit ranges between 4V to 12V. For the LM386N-4 model, the supply voltage ranges from 5V to 18V. The speaker impedance is 4 Ω. The analog input voltage ranges from -0.4V to 0.4V. The chip can operate in free-air temperatures between 0°C to 70°C.', metadata={'doc_id': '3c0af8b9-36ff-47e2-83d2-1593790f4571'}),\n",
              "     Document(page_content='The following information is regarding different models of the LM386 chip, including LM386N-1, -3, -4, LM386M-1, and LM386MM-1. \\n\\nThe operating supply voltage for models LM386N-1, -3, LM386M-1, LM386MM-1 ranges from 4 to 12 volts, while for the LM386N-4 model, it ranges from 5 to 18 volts. \\n\\nThe quiescent current, tested under the conditions of a supply voltage of 6 volts and an input voltage of 0, typically falls between 4 and 8 milliamperes. \\n\\nThe output power varies depending on the supply voltage, load resistance, and total harmonic distortion. For models LM386N-1, LM386M-1, LM386MM-1, when the supply voltage is 6 volts, load resistance is 8 ohms, and total harmonic distortion is 10%, the output power ranges from 250 to 325 milliwatts. When the same conditions apply to LM386N-3 but with a 9-volt supply, the output power ranges from 500 to 700 milliwatts. For LM386N-4, with a supply voltage of 16 volts, load resistance of 32 ohms, and total harmonic distortion of 10%, the output power ranges from 700 to 1000 milliwatts. \\n\\nThe voltage gain at 6 volts and a frequency of 1 kHz is 26 decibels, but this can increase to 46 decibels with a 10 microfarad connection from Pin 1 to 8. \\n\\nThe bandwidth of these models, with a supply voltage of 6 volts and Pins 1 and 8 open, is typically 300 kHz. \\n\\nThe total harmonic distortion, when the supply voltage is 6 volts, the output power is 125 milliwatts, and the frequency is 1 kHz with Pins 1 and 8 open, is usually around 0.2%. \\n\\nThe power supply rejection ratio is typically 50 decibels. \\n\\nThe input resistance is around 50 kilohms. \\n\\nLastly, the input bias current, when the supply voltage is 6 volts and Pins 2 and 3 are open, is typically 250 nanoamperes.', metadata={'doc_id': '2934e3ba-00be-49f4-880f-ba5680df3fe9'}),\n",
              "     Document(page_content='The text provides detailed information on power supply recommendations for the LM386. The LM386 can operate up to 12 V or 18 V. The power supply should be well regulated and the voltage must be within these specified values. A capacitor to GND is recommended to be placed close to the LM386 power supply pin. In terms of layout guidelines for the device, all required components should be placed as close to the device as possible, with short traces for the output to the speaker connection. It is advised to route the analog traces far from the digital signal traces and avoid crossing them.', metadata={'doc_id': '46b860e5-5797-442b-91e5-e2a233b71b09'})]})]}"
            ]
          },
          "metadata": {},
          "execution_count": 75
        }
      ]
    },
    {
      "cell_type": "code",
      "source": [
        "query3 = \"In the circuit diagram, what is the value of the resistors that are on the opposite side of pin number 7?\"\n",
        "result3 = agent(query3)\n",
        "result3"
      ],
      "metadata": {
        "colab": {
          "base_uri": "https://localhost:8080/"
        },
        "id": "VMEVr61LEWCK",
        "outputId": "bf4e1570-7078-49c7-f581-0f825b8d5dd0"
      },
      "execution_count": 76,
      "outputs": [
        {
          "output_type": "stream",
          "name": "stdout",
          "text": [
            "\n",
            "\n",
            "\u001b[1m> Entering new RetrievalQA chain...\u001b[0m\n",
            "\n",
            "\u001b[1m> Finished chain.\u001b[0m\n"
          ]
        },
        {
          "output_type": "execute_result",
          "data": {
            "text/plain": [
              "{'input': 'In the circuit diagram, what is the value of the resistors that are on the opposite side of pin number 7?',\n",
              " 'chat_history': [HumanMessage(content='What is the company that manufactured the LM386 chip?'),\n",
              "  AIMessage(content='The LM386 chip was manufactured by Texas Instruments Incorporated.'),\n",
              "  HumanMessage(content='What is the max supply voltage for the different versions of this lm386?'),\n",
              "  AIMessage(content='The maximum supply voltage for the LM386N-1/-3 and LM386M-1 models is 15V. For the LM386N-4 model, the maximum supply voltage is 22V.'),\n",
              "  HumanMessage(content='In the circuit diagram, what is the value of the resistors that are on the opposite side of pin number 7?'),\n",
              "  AIMessage(content=\"The resistors on the opposite side of Pin 7, which is labeled 'BYPASS', are two 15 kΩ resistors in series.\")],\n",
              " 'output': \"The resistors on the opposite side of Pin 7, which is labeled 'BYPASS', are two 15 kΩ resistors in series.\",\n",
              " 'intermediate_steps': [(AgentAction(tool='doc_search_tool', tool_input='circuit diagram resistors opposite side of pin number 7', log='```json\\n{\\n    \"action\": \"doc_search_tool\",\\n    \"action_input\": \"circuit diagram resistors opposite side of pin number 7\"\\n}\\n```'),\n",
              "   {'query': 'circuit diagram resistors opposite side of pin number 7',\n",
              "    'result': \"Based on the provided context, the resistors on the opposite side of Pin 7, which is labeled 'BYPASS', are two 15 kΩ resistors in series.\",\n",
              "    'source_documents': [Document(page_content=\"This image is a schematic diagram of an electronic circuit. It depicts an operational amplifier (op-amp) with various resistors connected to its pins, indicating a particular configuration for amplifying an input signal. Here's a description of the pin connections and components:\\n\\n1. Pin 2 is labeled 'UT' and is connected to a 50 kΩ resistor to ground (GND). \\n2. Pin 3 is labeled '+ INPUT' and is connected to a junction of two 50 kΩ resistors, one going to GND and the other going to the output, Vout.\\n3. Pin 4 is connected directly to GND.\\n4. Pin 5 is labeled 'Vout' and is connected to the output of the op-amp.\\n5. Pin 6 is not shown or labeled in the diagram, which implies it is not used in this specific configuration.\\n6. Pin 7 is labeled 'BYPASS' and is connected to two 15 kΩ resistors in series.\\n7. Pin 8 is labeled 'GAIN' and is connected to a 150 Ω resistor connected to another pin labeled 'GAIN' which then connects to a 1.35 kΩ resistor to the ground.\\n8. The positive supply voltage is labeled 'Vs' and is connected to the top of the op-amp.\\n9. Two diodes are placed between Vs and Vout, oriented to allow current flow towards Vout.\\n\\nThis configuration suggests that the circuit is designed for a specific function, possibly related to signal processing where the gain can be adjusted through the 'GAIN' pin. The 'BYPASS' pin could be used to bypass certain stages of the circuit or to affect the frequency response. The exact function would depend on the context in which this schematic is used.\", metadata={'doc_id': 'd78b6696-e77b-4631-b6a3-81fb34b0b911'}),\n",
              "     Document(page_content='The image shows a diagram of an integrated circuit (IC) pinout configuration for an operational amplifier (op-amp). The op-amp symbol is in the center with the following pin assignments:\\n\\n1. GAIN\\n2. -INPUT (Inverting Input)\\n3. +INPUT (Non-inverting Input)\\n4. GND (Ground)\\n5. V_OUT (Output Voltage)\\n6. V_S (Supply Voltage)\\n7. BYPASS\\n8. GAIN\\n\\nEach pin is matched with its corresponding label, indicating the function of that pin in the circuit. The diagram is a simplified representation used to illustrate the connections and functionalities of each pin on the op-amp IC.', metadata={'doc_id': 'ce92a55f-fb94-4bce-8c92-763a59ba3674'}),\n",
              "     Document(page_content=\"This image contains a schematic diagram of an electronic circuit. The central component of the circuit is an LM386, which is a low-voltage audio power amplifier integrated circuit. The pinout configuration for the LM386 is as follows:\\n\\n- Pin 1 is connected to a 10 microfarad (µF) capacitor.\\n- Pin 2 is the inverting input.\\n- Pin 3 is the non-inverting input, connected to a 10 kilo-ohm (kΩ) variable resistor (potentiometer) for volume control and to the input signal (V_IN).\\n- Pin 4 is the ground (GND).\\n- Pin 5 is the output, connected to a 250 µF capacitor which then connects to a speaker (indicated by the speaker symbol).\\n- Pin 6 is connected to the power supply (V_S) and a 1.2 kΩ resistor in series with the power supply.\\n- Pin 7 is labeled 'BYPASS' and is connected to a 0.05 µF capacitor to ground.\\n- Pin 8 is not connected or labeled in this diagram.\\n\\nThe power supply (V_S) is also connected to the circuit, but the voltage value is not specified in the diagram. The purpose of the circuit is to amplify audio signals input at V_IN and output them to a speaker. The capacitors and resistors around the LM386 are used for setting the gain, filtering, and stabilizing the amplifier's operation.\", metadata={'doc_id': 'e028f798-e649-4816-bc59-5c3c11d70aae'}),\n",
              "     Document(page_content='The image contains a simplified block diagram of an electronic circuit featuring an operational amplifier (op-amp). The triangular symbol represents the op-amp, with the \"+\" and \"-\" signs indicating the non-inverting and inverting inputs, respectively. Two blocks are connected to the op-amp: one labeled \"Gain Circuitry\" is connected to the inverting input (\"-\"), and the other labeled \"Bias Circuitry\" is connected to the non-inverting input (\"+\"). There is also a label \"Bypass\" at the bottom, which is likely associated with the Bias Circuitry. The connections and labels do not show detailed pin configurations or specific electronic components; it\\'s a high-level representation of the circuit functionality.', metadata={'doc_id': 'bc6d8495-efaf-4563-9820-4bbb1d5f427d'})]})]}"
            ]
          },
          "metadata": {},
          "execution_count": 76
        }
      ]
    },
    {
      "cell_type": "code",
      "source": [
        "query4 = \"In the Low Distortion Power Wienbridge Oscillator, what is the value of the capacitors that are used?\"\n",
        "result4 = agent(query4)\n",
        "result4\n"
      ],
      "metadata": {
        "colab": {
          "base_uri": "https://localhost:8080/"
        },
        "id": "zEgCZPzDFHW-",
        "outputId": "13f61e75-e806-41c0-e0d2-e082681a1135"
      },
      "execution_count": 77,
      "outputs": [
        {
          "output_type": "stream",
          "name": "stdout",
          "text": [
            "\n",
            "\n",
            "\u001b[1m> Entering new RetrievalQA chain...\u001b[0m\n",
            "\n",
            "\u001b[1m> Finished chain.\u001b[0m\n"
          ]
        },
        {
          "output_type": "execute_result",
          "data": {
            "text/plain": [
              "{'input': 'In the Low Distortion Power Wienbridge Oscillator, what is the value of the capacitors that are used?',\n",
              " 'chat_history': [HumanMessage(content='What is the company that manufactured the LM386 chip?'),\n",
              "  AIMessage(content='The LM386 chip was manufactured by Texas Instruments Incorporated.'),\n",
              "  HumanMessage(content='What is the max supply voltage for the different versions of this lm386?'),\n",
              "  AIMessage(content='The maximum supply voltage for the LM386N-1/-3 and LM386M-1 models is 15V. For the LM386N-4 model, the maximum supply voltage is 22V.'),\n",
              "  HumanMessage(content='In the circuit diagram, what is the value of the resistors that are on the opposite side of pin number 7?'),\n",
              "  AIMessage(content=\"The resistors on the opposite side of Pin 7, which is labeled 'BYPASS', are two 15 kΩ resistors in series.\"),\n",
              "  HumanMessage(content='In the Low Distortion Power Wienbridge Oscillator, what is the value of the capacitors that are used?'),\n",
              "  AIMessage(content='The documents do not provide specific information about the capacitor value for a Low Distortion Power Wienbridge Oscillator.')],\n",
              " 'output': 'The documents do not provide specific information about the capacitor value for a Low Distortion Power Wienbridge Oscillator.',\n",
              " 'intermediate_steps': [(AgentAction(tool='doc_search_tool', tool_input='Low Distortion Power Wienbridge Oscillator capacitor value', log='```json\\n{\\n    \"action\": \"doc_search_tool\",\\n    \"action_input\": \"Low Distortion Power Wienbridge Oscillator capacitor value\"\\n}\\n```'),\n",
              "   {'query': 'Low Distortion Power Wienbridge Oscillator capacitor value',\n",
              "    'result': 'The text does not provide specific information about the capacitor value for a Low Distortion Power Wienbridge Oscillator.',\n",
              "    'source_documents': [Document(page_content=\"The text provides information about a detailed design procedure found in Section 9.2.1.2. It also includes information about an application curve with supply current and supply voltage details. There's a reference to a product named LM386 by Texas Instruments, revised in August 2023. The text also discusses a low distortion power Wienbridge oscillator and some design parameters with a figure to illustrate the concept.\", metadata={'doc_id': 'fed60e96-9e2a-4e16-953a-a1b813817d17'}),\n",
              "     Document(page_content='The image is a graph that plots total harmonic distortion percentage on the y-axis against frequency (in Hertz) on the x-axis. The graph shows a curve that starts at higher distortion levels at lower frequencies, decreases to a minimum distortion level at mid-range frequencies, and then slightly increases again at higher frequencies.\\n\\nAdditionally, there are some specifications written on the top right corner of the graph:\\n- \\\\( V_s = 6V \\\\)\\n- \\\\( R_L = 8\\\\Omega \\\\)\\n- \\\\( P_{out} = 125mW \\\\)\\n- \\\\( A_v = 26dB (C_{1,8} = 0) \\\\)\\n\\nThese specifications likely correspond to the conditions under which the data was measured, such as supply voltage (\\\\( V_s \\\\)), load resistance (\\\\( R_L \\\\)), power output (\\\\( P_{out} \\\\)), and voltage gain (\\\\( A_v \\\\)). The notation \\\\( C_{1,8} = 0 \\\\) might indicate a condition related to the circuit configuration used during the measurement, particularly pertaining to certain components being set to a value of zero or being disconnected.', metadata={'doc_id': 'a13dc5f2-48fd-411a-8df8-b4b9b04a9150'}),\n",
              "     Document(page_content='The LM386 amplifier design uses two pins (1 and 8) for gain control. If these pins are left open, a 1.35-kΩ resistor sets the gain at 20 (26 dB). However, if a capacitor is put from pin 1 to 8, bypassing the 1.35-kΩ resistor, the gain increases to 200 (46 dB). The gain can be adjusted to any value between 20 and 200 by placing a resistor in series with the capacitor. Gain control can also be achieved by coupling a resistor or FET from pin 1 to ground. \\n\\nAdditional external components can be used to modify the gain and frequency response. For instance, to compensate for poor speaker bass response, a series RC from pin 1 to 5 can be used. The amplifier is only compensated for closed-loop gains greater than 9.\\n\\nThe schematic shows that both inputs are biased to ground with a 50 kΩ resistor. The base current of the input transistors is about 250 nA. If the DC source resistance driving the LM386 is higher than 250 kΩ, it will contribute very little additional offset. However, if the DC source resistance is less than 10 kΩ, then shorting the unused input to ground will keep the offset low. \\n\\nWhen using the LM386 with higher gains, it is necessary to bypass the unused input to prevent degradation of gain and possible instabilities. This can be done with a 0.1 μF capacitor or a short to ground, depending on the DC source resistance on the driven input.', metadata={'doc_id': '07df82a1-18c1-429d-92f8-67f2170cb95c'}),\n",
              "     Document(page_content='This image depicts a graph with the horizontal axis labeled \"POWER OUT (WATTS)\" ranging from 0.001 to 1.0 watts and the vertical axis labeled \"TOTAL HARMONIC DISTORTION (%)\" ranging from 0 to 10 percent. The graph shows a curve that represents the relationship between the output power in watts and the total harmonic distortion percentage.\\n\\nThere are parameters specified on the top left of the image:\\n- \\\\( V_s = 6V \\\\) which likely stands for the supply voltage.\\n- \\\\( R_L = 8\\\\Omega \\\\) which likely stands for the load resistance.\\n- \\\\( f = 1 kHz \\\\) which likely indicates the frequency at which the measurements were taken.\\n\\nThe curve suggests that as the power output increases, the total harmonic distortion also increases, particularly becoming more significant as the power output approaches 1 watt.', metadata={'doc_id': '2de1392b-8e18-4c01-878d-a6a30ebc5791'})]})]}"
            ]
          },
          "metadata": {},
          "execution_count": 77
        }
      ]
    },
    {
      "cell_type": "code",
      "source": [
        "query5 = \"What is the relation between voltage gain and frequency? Give me numbers\"\n",
        "result5 = agent(query5)\n",
        "result5\n"
      ],
      "metadata": {
        "colab": {
          "base_uri": "https://localhost:8080/"
        },
        "id": "-BRSq61MFHa4",
        "outputId": "e9331cda-5beb-4c6d-ebe2-ae2b4e359567"
      },
      "execution_count": 78,
      "outputs": [
        {
          "output_type": "stream",
          "name": "stdout",
          "text": [
            "\n",
            "\n",
            "\u001b[1m> Entering new RetrievalQA chain...\u001b[0m\n",
            "\n",
            "\u001b[1m> Finished chain.\u001b[0m\n"
          ]
        },
        {
          "output_type": "execute_result",
          "data": {
            "text/plain": [
              "{'input': 'What is the relation between voltage gain and frequency? Give me numbers',\n",
              " 'chat_history': [HumanMessage(content='What is the company that manufactured the LM386 chip?'),\n",
              "  AIMessage(content='The LM386 chip was manufactured by Texas Instruments Incorporated.'),\n",
              "  HumanMessage(content='What is the max supply voltage for the different versions of this lm386?'),\n",
              "  AIMessage(content='The maximum supply voltage for the LM386N-1/-3 and LM386M-1 models is 15V. For the LM386N-4 model, the maximum supply voltage is 22V.'),\n",
              "  HumanMessage(content='In the circuit diagram, what is the value of the resistors that are on the opposite side of pin number 7?'),\n",
              "  AIMessage(content=\"The resistors on the opposite side of Pin 7, which is labeled 'BYPASS', are two 15 kΩ resistors in series.\"),\n",
              "  HumanMessage(content='In the Low Distortion Power Wienbridge Oscillator, what is the value of the capacitors that are used?'),\n",
              "  AIMessage(content='The documents do not provide specific information about the capacitor value for a Low Distortion Power Wienbridge Oscillator.'),\n",
              "  HumanMessage(content='What is the relation between voltage gain and frequency? Give me numbers'),\n",
              "  AIMessage(content=\"The relationship between voltage gain and frequency is typically represented by a Bode plot. For a system with a parameter labeled 'C_1,8', two different conditions were observed. When 'C_1,8 = 10µF', the voltage gain starts at a higher level at lower frequencies and decreases smoothly as the frequency increases, showing a high-pass filter characteristic. When 'C_1,8 = 0', the voltage gain also decreases as the frequency increases but starts at a lower voltage gain even at lower frequencies. In general, the voltage gain of a system can vary with frequency. Some systems may have a constant gain across all frequencies, while others may have a gain that increases or decreases with frequency. The specific relationship depends on the characteristics of the system.\")],\n",
              " 'output': \"The relationship between voltage gain and frequency is typically represented by a Bode plot. For a system with a parameter labeled 'C_1,8', two different conditions were observed. When 'C_1,8 = 10µF', the voltage gain starts at a higher level at lower frequencies and decreases smoothly as the frequency increases, showing a high-pass filter characteristic. When 'C_1,8 = 0', the voltage gain also decreases as the frequency increases but starts at a lower voltage gain even at lower frequencies. In general, the voltage gain of a system can vary with frequency. Some systems may have a constant gain across all frequencies, while others may have a gain that increases or decreases with frequency. The specific relationship depends on the characteristics of the system.\",\n",
              " 'intermediate_steps': [(AgentAction(tool='doc_search_tool', tool_input='relation between voltage gain and frequency', log='{\\n    \"action\": \"doc_search_tool\",\\n    \"action_input\": \"relation between voltage gain and frequency\"\\n}'),\n",
              "   {'query': 'relation between voltage gain and frequency',\n",
              "    'result': 'The relationship between voltage gain and frequency is typically represented by a Bode plot. In the provided context, there are two curves representing this relationship under two different conditions or settings of a parameter labeled \"C_1,8\". \\n\\nFor \"C_1,8 = 10µF\", the voltage gain starts at a higher level at lower frequencies and decreases smoothly as the frequency increases. This shows a high-pass filter characteristic, meaning the system allows signals with a frequency higher than a certain cutoff frequency to pass through and attenuates signals with frequencies lower than the cutoff frequency.\\n\\nFor \"C_1,8 = 0\", the voltage gain also decreases as the frequency increases but starts at a lower voltage gain even at lower frequencies. \\n\\nIn general, the voltage gain of a system can vary with frequency. Some systems may have a constant gain across all frequencies, while others may have a gain that increases or decreases with frequency. The specific relationship depends on the characteristics of the system.',\n",
              "    'source_documents': [Document(page_content='The image shows a graph plotting VOLTAGE GAIN (in dB) on the vertical axis against FREQUENCY (in Hz) on the horizontal axis. The plot is a curve that peaks at around 24 dB and then tapers off as the frequency increases. The horizontal axis is logarithmic, with frequency markers at 20 Hz, 50 Hz, 100 Hz, 200 Hz, 500 Hz, 1 kHz, 2 kHz, 5 kHz, 10 kHz, and 20 kHz. The vertical axis is linear, with voltage gain levels marked from 17 dB to 27 dB. The peak of the curve appears to be between 100 Hz and 200 Hz. This graph is typically used to represent the frequency response of an audio-related component or system, such as a filter or amplifier.', metadata={'doc_id': 'fc937f17-fb5c-496a-a7b2-15363b5b0372'}),\n",
              "     Document(page_content='This is an image showing a Bode plot, which is a graphical representation of the voltage gain of a system as a function of frequency. There are two curves on the plot, corresponding to two different conditions or settings of a parameter labeled \"C_1,8\". One curve represents the voltage gain when \"C_1,8 = 10µF\" and the other curve represents the voltage gain when \"C_1,8 = 0\". \\n\\nThe x-axis is labeled \"FREQUENCY (Hz)\" and spans from 100 Hz to 1 MHz (megahertz) on a logarithmic scale. The y-axis is labeled \"VOLTAGE GAIN (dB)\" and spans from 0 to 60 dB (decibels), indicating the ratio of output voltage to input voltage in decibels. \\n\\nThe curve for \"C_1,8 = 10µF\" starts at a higher voltage gain at lower frequencies and decreases smoothly as the frequency increases, showing a high-pass filter characteristic. The curve for \"C_1,8 = 0\" also decreases as the frequency increases but starts at a lower voltage gain even at lower frequencies. \\n\\nThe plot is useful for analyzing the frequency response of electronic circuits, particularly in audio, control systems, and signal processing applications.', metadata={'doc_id': 'a8b3ef9b-c439-4728-ac29-bffb77bd63f9'}),\n",
              "     Document(page_content='The text provides details on a detailed design procedure located in Section 9.2.1.2. It includes a voltage gain versus frequency application curve, and a square wave oscillator. It also mentions design parameters in Table 9-6. There are references to Texas Instruments and a specific product, LM386. The document seems to have been revised in August 2023.', metadata={'doc_id': '6f9ae2f3-80db-4ed8-a2fd-15604f4f5494'}),\n",
              "     Document(page_content='The image is a graph that plots total harmonic distortion percentage on the y-axis against frequency (in Hertz) on the x-axis. The graph shows a curve that starts at higher distortion levels at lower frequencies, decreases to a minimum distortion level at mid-range frequencies, and then slightly increases again at higher frequencies.\\n\\nAdditionally, there are some specifications written on the top right corner of the graph:\\n- \\\\( V_s = 6V \\\\)\\n- \\\\( R_L = 8\\\\Omega \\\\)\\n- \\\\( P_{out} = 125mW \\\\)\\n- \\\\( A_v = 26dB (C_{1,8} = 0) \\\\)\\n\\nThese specifications likely correspond to the conditions under which the data was measured, such as supply voltage (\\\\( V_s \\\\)), load resistance (\\\\( R_L \\\\)), power output (\\\\( P_{out} \\\\)), and voltage gain (\\\\( A_v \\\\)). The notation \\\\( C_{1,8} = 0 \\\\) might indicate a condition related to the circuit configuration used during the measurement, particularly pertaining to certain components being set to a value of zero or being disconnected.', metadata={'doc_id': 'a13dc5f2-48fd-411a-8df8-b4b9b04a9150'})]})]}"
            ]
          },
          "metadata": {},
          "execution_count": 78
        }
      ]
    },
    {
      "cell_type": "code",
      "source": [],
      "metadata": {
        "id": "uqyWKYxqEWEk"
      },
      "execution_count": null,
      "outputs": []
    },
    {
      "cell_type": "code",
      "source": [
        "retriever.get_relevant_documents(\"What is the max supply voltage?\")"
      ],
      "metadata": {
        "colab": {
          "base_uri": "https://localhost:8080/"
        },
        "id": "_Dic5FiZcaLy",
        "outputId": "eec01019-36d2-4df1-fc8c-3a11bf8165b7"
      },
      "execution_count": null,
      "outputs": [
        {
          "output_type": "execute_result",
          "data": {
            "text/plain": [
              "['The image shows a graph with a grid background. The horizontal axis is labeled as \"SUPPLY VOLTAGE (VOLTS)\" and it ranges from 4 volts to 12 volts. The vertical axis is labeled as \"SUPPLY CURRENT (mA)\" and it ranges from 1 milliampere (mA) to 6 milliamperes (mA). There is a line graph plotted on this grid that starts at the lower end of the scale and curves slightly upwards as it moves from left to right, indicating that the supply current increases as the supply voltage increases. The relationship between the voltage and current appears to be almost linear with a slight curve, suggesting that the device or circuit represented by this graph draws more current as the voltage supplied to it increases.',\n",
              " \"The image shows a graph plotting 'Supply Current (mA)' on the y-axis against 'Supply Voltage (Volts)' on the x-axis. The x-axis ranges from 4 to 12 volts, and the y-axis ranges from 1 to 6 milliamperes (mA). There is a line graph that starts at the lower left portion of the plot and curves upwards to the upper right, indicating that the supply current increases as the supply voltage increases. The relationship appears to be somewhat linear, especially in the middle part of the plot, but it shows a slight curvature, suggesting that the rate of increase in current with voltage is not constant across the entire range.\",\n",
              " 'This image shows a graph with two axes. The horizontal axis is labeled \"SUPPLY VOLTAGE (VOLTS)\" and spans from 4 to 12 volts. The vertical axis is labeled \"OUTPUT VOLTAGE VOLTS PEAK-TO-PEAK\" and ranges from 0 to 10 volts. There are four curves on the graph, each representing a different condition as indicated by the numbers 4, 8, 16, and an infinity symbol (indicating an open circuit or very high impedance load) labeled as \"R_L = ∞\". These curves show the relationship between the supply voltage and the output voltage peak-to-peak for different load resistances (R_L) in ohms. The curve with \"R_L = ∞\" has the highest output voltage for a given supply voltage, indicating that the output is at its maximum when there is no load. As the load resistance decreases to 16, 8, and 4 ohms, the output voltage for a given supply voltage decreases accordingly. This type of graph is commonly used in electronics to illustrate the performance characteristics of an amplifier or other voltage-dependent device.',\n",
              " \"The image shows a graph plotting 'SUPPLY CURRENT (mA)' on the y-axis against 'SUPPLY VOLTAGE (VOLTS)' on the x-axis. The y-axis is labeled from 1 to 6 in increments of 1 milliampere (mA), and the x-axis is labeled from 4 to 12 in increments of 1 volt. There is a single line graph that starts at the lower left and curves upwards to the right, showing that as the supply voltage increases, the supply current also increases. The relationship between the voltage and current appears to be linear with a positive slope, indicating a direct proportionality between the two variables in the plotted range. The exact nature of the device or context for which the supply current and voltage are related is not provided in the image.\"]"
            ]
          },
          "metadata": {},
          "execution_count": 45
        }
      ]
    },
    {
      "cell_type": "code",
      "source": [
        "chain.invoke(\"What is the max supply voltage for the different versions of this lm386?\")"
      ],
      "metadata": {
        "colab": {
          "base_uri": "https://localhost:8080/",
          "height": 52
        },
        "id": "NwTonBTPcFun",
        "outputId": "b637417e-ea61-4e60-9512-746cef9a2a47"
      },
      "execution_count": null,
      "outputs": [
        {
          "output_type": "execute_result",
          "data": {
            "text/plain": [
              "'The max supply voltage for LM386N-1/-3, LM386M-1, and LM386MM-1 is 15V. For LM386N-4, the max supply voltage is 22V.'"
            ],
            "application/vnd.google.colaboratory.intrinsic+json": {
              "type": "string"
            }
          },
          "metadata": {},
          "execution_count": 57
        }
      ]
    },
    {
      "cell_type": "code",
      "source": [
        "chain.invoke(\"Give me the function of each of the pins\")"
      ],
      "metadata": {
        "colab": {
          "base_uri": "https://localhost:8080/",
          "height": 70
        },
        "id": "Ry4LfxnQcWQv",
        "outputId": "f23c04ad-0d4f-4b8b-c0b1-dca2e86fdced"
      },
      "execution_count": null,
      "outputs": [
        {
          "output_type": "execute_result",
          "data": {
            "text/plain": [
              "'1. GAIN - Gain setting pin\\n2. -INPUT (Inverting Input) - Inverting input\\n3. +INPUT (Non-inverting Input) - Noninverting input\\n4. GND (Ground) - Ground reference\\n5. V_OUT (Output Voltage) - Output\\n6. V_S (Supply Voltage) - Power supply voltage\\n7. BYPASS - Bypass decoupling path\\n8. GAIN - Gain setting pin'"
            ],
            "application/vnd.google.colaboratory.intrinsic+json": {
              "type": "string"
            }
          },
          "metadata": {},
          "execution_count": 58
        }
      ]
    },
    {
      "cell_type": "code",
      "source": [
        "chain.invoke(\"What does pin 6 do?\")"
      ],
      "metadata": {
        "colab": {
          "base_uri": "https://localhost:8080/",
          "height": 35
        },
        "id": "wImRhCFTcpWN",
        "outputId": "a6ce040c-c16d-48f7-8003-05aca0de749e"
      },
      "execution_count": null,
      "outputs": [
        {
          "output_type": "execute_result",
          "data": {
            "text/plain": [
              "'Pin 6 is connected to \\\\( V_S \\\\), indicating the supply voltage for the IC.'"
            ],
            "application/vnd.google.colaboratory.intrinsic+json": {
              "type": "string"
            }
          },
          "metadata": {},
          "execution_count": 49
        }
      ]
    },
    {
      "cell_type": "code",
      "source": [
        "chain.invoke(\"What is the bypass pin?\")"
      ],
      "metadata": {
        "colab": {
          "base_uri": "https://localhost:8080/",
          "height": 70
        },
        "id": "r15u9xGvc0EL",
        "outputId": "1b9b1c3c-7bed-4c27-957f-6b0a989e1656"
      },
      "execution_count": null,
      "outputs": [
        {
          "output_type": "execute_result",
          "data": {
            "text/plain": [
              "'The bypass pin, labeled as \"BYPASS\" on the schematic diagrams of the integrated circuits, is typically used for noise reduction in the power supply or for stability purposes. It might be connected to a capacitor that filters out noise from the power supply, depending on the specific design of the circuit.'"
            ],
            "application/vnd.google.colaboratory.intrinsic+json": {
              "type": "string"
            }
          },
          "metadata": {},
          "execution_count": 50
        }
      ]
    },
    {
      "cell_type": "code",
      "source": [
        "chain.invoke(\"What is the bypass pin? What is its pin number?\")"
      ],
      "metadata": {
        "colab": {
          "base_uri": "https://localhost:8080/",
          "height": 52
        },
        "id": "EzIf1cSAc7XZ",
        "outputId": "ba2c22fb-0650-490b-d016-d5d9a87a97b5"
      },
      "execution_count": null,
      "outputs": [
        {
          "output_type": "execute_result",
          "data": {
            "text/plain": [
              "'The bypass pin is typically used for stability or noise reduction purposes, depending on the specific design of the op-amp. Its pin number is 7.'"
            ],
            "application/vnd.google.colaboratory.intrinsic+json": {
              "type": "string"
            }
          },
          "metadata": {},
          "execution_count": 51
        }
      ]
    },
    {
      "cell_type": "code",
      "source": [
        "chain.invoke('What are the recommended voltage settings for LM386? Break it down by all its versions')"
      ],
      "metadata": {
        "colab": {
          "base_uri": "https://localhost:8080/",
          "height": 70
        },
        "id": "1FzKJ3sVdDEx",
        "outputId": "18e9c6cc-1374-4483-cbe3-87cbb541b344"
      },
      "execution_count": null,
      "outputs": [
        {
          "output_type": "execute_result",
          "data": {
            "text/plain": [
              "'The recommended voltage settings for the different versions of LM386 are as follows:\\n\\n- LM386N-1/-3, LM386M-1, LM386MM-1: The operating supply voltage is between 4V and 12V.\\n- LM386N-4: The operating supply voltage is between 5V and 18V.'"
            ],
            "application/vnd.google.colaboratory.intrinsic+json": {
              "type": "string"
            }
          },
          "metadata": {},
          "execution_count": 59
        }
      ]
    },
    {
      "cell_type": "code",
      "source": [
        "chain.invoke('What are the recommended operatinh settings for LM386? Break it down by all its versions')"
      ],
      "metadata": {
        "colab": {
          "base_uri": "https://localhost:8080/",
          "height": 35
        },
        "id": "VWiqg9UCdUOF",
        "outputId": "7c0e11c9-2e2e-43aa-f68c-49faab2d45f4"
      },
      "execution_count": null,
      "outputs": [
        {
          "output_type": "execute_result",
          "data": {
            "text/plain": [
              "'The text does not provide specific recommended operating settings for all versions of the LM386.'"
            ],
            "application/vnd.google.colaboratory.intrinsic+json": {
              "type": "string"
            }
          },
          "metadata": {},
          "execution_count": 53
        }
      ]
    },
    {
      "cell_type": "code",
      "source": [
        "table_elements[6]"
      ],
      "metadata": {
        "colab": {
          "base_uri": "https://localhost:8080/",
          "height": 52
        },
        "id": "ChUEEelddY9Q",
        "outputId": "0f8e381c-1897-4080-b071-4ca8c9be7c65"
      },
      "execution_count": null,
      "outputs": [
        {
          "output_type": "execute_result",
          "data": {
            "text/plain": [
              "'MIN MAX UNIT LM386N-1/-3, LM386M-1 15 Supply Voltage, VCC V LM386N-4 22 LM386N 1.25 Package Dissipation LM386M 0.73 W LM386MM-1 0.595 Input Voltage, VI –0.4 0.4 V Storage temperature, Tstg –65 150 °C'"
            ],
            "application/vnd.google.colaboratory.intrinsic+json": {
              "type": "string"
            }
          },
          "metadata": {},
          "execution_count": 58
        }
      ]
    },
    {
      "cell_type": "code",
      "source": [
        "chain.invoke('In the schematic diagram, which pins are connected to ground and which pin is reserved for bypass?')"
      ],
      "metadata": {
        "colab": {
          "base_uri": "https://localhost:8080/",
          "height": 35
        },
        "id": "VZ89pG-VdfB9",
        "outputId": "fda2a341-5736-4343-d937-42f966cc3b19"
      },
      "execution_count": null,
      "outputs": [
        {
          "output_type": "execute_result",
          "data": {
            "text/plain": [
              "'In the schematic diagram, pins 2 and 4 are connected to the ground. Pin 7 is reserved for bypass.'"
            ],
            "application/vnd.google.colaboratory.intrinsic+json": {
              "type": "string"
            }
          },
          "metadata": {},
          "execution_count": 64
        }
      ]
    },
    {
      "cell_type": "code",
      "source": [
        "chain.invoke('In the table recommended operating settings, what should be the max voltage for different versions of LM386?')"
      ],
      "metadata": {
        "colab": {
          "base_uri": "https://localhost:8080/",
          "height": 52
        },
        "id": "pKKEeVI9d4Nh",
        "outputId": "d55fda38-18e6-48f8-bf08-9225bc02da71"
      },
      "execution_count": null,
      "outputs": [
        {
          "output_type": "execute_result",
          "data": {
            "text/plain": [
              "'The text does not provide a table of recommended operating settings or the max voltage for different versions of LM386.'"
            ],
            "application/vnd.google.colaboratory.intrinsic+json": {
              "type": "string"
            }
          },
          "metadata": {},
          "execution_count": 65
        }
      ]
    },
    {
      "cell_type": "code",
      "source": [
        "chain.invoke('What is the relationship between supply voltage and supply current?')"
      ],
      "metadata": {
        "colab": {
          "base_uri": "https://localhost:8080/",
          "height": 70
        },
        "id": "dSxdd38ZeN2r",
        "outputId": "1bbdc96c-8cb6-4a85-9806-a211fbac1210"
      },
      "execution_count": null,
      "outputs": [
        {
          "output_type": "execute_result",
          "data": {
            "text/plain": [
              "'The relationship between supply voltage and supply current is that as the supply voltage increases, the supply current also increases. This relationship appears to be somewhat linear, but with a slight curvature, suggesting that the rate of increase in current with voltage is not constant across the entire range.'"
            ],
            "application/vnd.google.colaboratory.intrinsic+json": {
              "type": "string"
            }
          },
          "metadata": {},
          "execution_count": 66
        }
      ]
    },
    {
      "cell_type": "code",
      "source": [],
      "metadata": {
        "id": "X7xGwVrvexnU"
      },
      "execution_count": null,
      "outputs": []
    },
    {
      "cell_type": "code",
      "source": [
        "chain.invoke('Summarize the electrical characteristics of LM386.')"
      ],
      "metadata": {
        "colab": {
          "base_uri": "https://localhost:8080/",
          "height": 35
        },
        "id": "qhvxj5mAeXl0",
        "outputId": "2067e1c2-6eae-4fcc-8d89-ead0ae9aa3e9"
      },
      "execution_count": null,
      "outputs": [
        {
          "output_type": "execute_result",
          "data": {
            "text/plain": [
              "'The text does not provide information on the electrical characteristics of LM386.'"
            ],
            "application/vnd.google.colaboratory.intrinsic+json": {
              "type": "string"
            }
          },
          "metadata": {},
          "execution_count": 67
        }
      ]
    },
    {
      "cell_type": "code",
      "source": [
        "chain.invoke('Does this pdf have information on ESD characteristics?')"
      ],
      "metadata": {
        "colab": {
          "base_uri": "https://localhost:8080/",
          "height": 35
        },
        "id": "UWlB1VlTejda",
        "outputId": "5d7eabc0-7b76-49b7-b41d-7f04b291c346"
      },
      "execution_count": null,
      "outputs": [
        {
          "output_type": "execute_result",
          "data": {
            "text/plain": [
              "'Yes, the PDF does have information on ESD characteristics.'"
            ],
            "application/vnd.google.colaboratory.intrinsic+json": {
              "type": "string"
            }
          },
          "metadata": {},
          "execution_count": 68
        }
      ]
    },
    {
      "cell_type": "code",
      "source": [
        "chain.invoke('Summarize the ESD characteristics of LM386.')"
      ],
      "metadata": {
        "colab": {
          "base_uri": "https://localhost:8080/",
          "height": 35
        },
        "id": "B6ayk5r7ewfU",
        "outputId": "8ba7ceb7-8704-4b53-9b46-aa0d3835de05"
      },
      "execution_count": null,
      "outputs": [
        {
          "output_type": "execute_result",
          "data": {
            "text/plain": [
              "'The text does not provide information on the ESD (Electrostatic Discharge) characteristics of the LM386.'"
            ],
            "application/vnd.google.colaboratory.intrinsic+json": {
              "type": "string"
            }
          },
          "metadata": {},
          "execution_count": 69
        }
      ]
    },
    {
      "cell_type": "code",
      "source": [
        "chain.invoke('Does this pdf have information on ESD characteristics? If yes, summarize the ESD characteristics of LM386.')"
      ],
      "metadata": {
        "colab": {
          "base_uri": "https://localhost:8080/",
          "height": 52
        },
        "id": "8fWIqxzfez7L",
        "outputId": "76a40e93-3468-4da6-ac33-b99a629ae40b"
      },
      "execution_count": null,
      "outputs": [
        {
          "output_type": "execute_result",
          "data": {
            "text/plain": [
              "'The provided text does not contain any information on the ESD (Electrostatic Discharge) characteristics of the LM386.'"
            ],
            "application/vnd.google.colaboratory.intrinsic+json": {
              "type": "string"
            }
          },
          "metadata": {},
          "execution_count": 70
        }
      ]
    },
    {
      "cell_type": "code",
      "source": [],
      "metadata": {
        "id": "a1MATZ2Fe6DV"
      },
      "execution_count": null,
      "outputs": []
    }
  ]
}